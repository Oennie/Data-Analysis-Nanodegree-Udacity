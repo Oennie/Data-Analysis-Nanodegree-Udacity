{
 "cells": [
  {
   "cell_type": "markdown",
   "metadata": {
    "extensions": {
     "jupyter_dashboards": {
      "version": 1,
      "views": {
       "grid_default": {
        "col": 0,
        "height": 4,
        "hidden": false,
        "row": 0,
        "width": 4
       },
       "report_default": {
        "hidden": false
       }
      }
     }
    }
   },
   "source": [
    "# Project: Wrangling and Analyze Data"
   ]
  },
  {
   "cell_type": "markdown",
   "metadata": {},
   "source": [
    "## Data Gathering\n",
    "**All** three pieces of data for this project will be gathered and loaded through different methods.\n",
    "1. Directly downloading the WeRateDogs Twitter archive data (twitter_archive_enhanced (1).csv)"
   ]
  },
  {
   "cell_type": "code",
   "execution_count": 2,
   "metadata": {
    "extensions": {
     "jupyter_dashboards": {
      "version": 1,
      "views": {
       "grid_default": {
        "hidden": true
       },
       "report_default": {
        "hidden": true
       }
      }
     }
    }
   },
   "outputs": [],
   "source": [
    "# Let's import all neccessary libraries here\n",
    "import pandas as pd\n",
    "import numpy as np\n",
    "import matplotlib.pyplot as plt\n",
    "import seaborn as sns\n",
    "import requests\n",
    "import os\n",
    "from IPython.display import Image\n",
    "import tweepy\n",
    "from tweepy import OAuthHandler\n",
    "import json\n",
    "from timeit import default_timer as timer\n",
    "sns.set_palette(\"husl\", 9)\n",
    "sns.set_style(\"darkgrid\")\n",
    "%matplotlib inline"
   ]
  },
  {
   "cell_type": "code",
   "execution_count": 2,
   "metadata": {},
   "outputs": [],
   "source": [
    "# Loading in the WeRateDogs Twitter archive data\n",
    "tweet_archive = pd.read_csv(\"twitter-archive-enhanced (1).csv\")"
   ]
  },
  {
   "cell_type": "code",
   "execution_count": 3,
   "metadata": {},
   "outputs": [
    {
     "data": {
      "text/html": [
       "<div>\n",
       "<style scoped>\n",
       "    .dataframe tbody tr th:only-of-type {\n",
       "        vertical-align: middle;\n",
       "    }\n",
       "\n",
       "    .dataframe tbody tr th {\n",
       "        vertical-align: top;\n",
       "    }\n",
       "\n",
       "    .dataframe thead th {\n",
       "        text-align: right;\n",
       "    }\n",
       "</style>\n",
       "<table border=\"1\" class=\"dataframe\">\n",
       "  <thead>\n",
       "    <tr style=\"text-align: right;\">\n",
       "      <th></th>\n",
       "      <th>tweet_id</th>\n",
       "      <th>in_reply_to_status_id</th>\n",
       "      <th>in_reply_to_user_id</th>\n",
       "      <th>timestamp</th>\n",
       "      <th>source</th>\n",
       "      <th>text</th>\n",
       "      <th>retweeted_status_id</th>\n",
       "      <th>retweeted_status_user_id</th>\n",
       "      <th>retweeted_status_timestamp</th>\n",
       "      <th>expanded_urls</th>\n",
       "      <th>rating_numerator</th>\n",
       "      <th>rating_denominator</th>\n",
       "      <th>name</th>\n",
       "      <th>doggo</th>\n",
       "      <th>floofer</th>\n",
       "      <th>pupper</th>\n",
       "      <th>puppo</th>\n",
       "    </tr>\n",
       "  </thead>\n",
       "  <tbody>\n",
       "    <tr>\n",
       "      <th>0</th>\n",
       "      <td>892420643555336193</td>\n",
       "      <td>NaN</td>\n",
       "      <td>NaN</td>\n",
       "      <td>2017-08-01 16:23:56 +0000</td>\n",
       "      <td>&lt;a href=\"http://twitter.com/download/iphone\" r...</td>\n",
       "      <td>This is Phineas. He's a mystical boy. Only eve...</td>\n",
       "      <td>NaN</td>\n",
       "      <td>NaN</td>\n",
       "      <td>NaN</td>\n",
       "      <td>https://twitter.com/dog_rates/status/892420643...</td>\n",
       "      <td>13</td>\n",
       "      <td>10</td>\n",
       "      <td>Phineas</td>\n",
       "      <td>None</td>\n",
       "      <td>None</td>\n",
       "      <td>None</td>\n",
       "      <td>None</td>\n",
       "    </tr>\n",
       "    <tr>\n",
       "      <th>1</th>\n",
       "      <td>892177421306343426</td>\n",
       "      <td>NaN</td>\n",
       "      <td>NaN</td>\n",
       "      <td>2017-08-01 00:17:27 +0000</td>\n",
       "      <td>&lt;a href=\"http://twitter.com/download/iphone\" r...</td>\n",
       "      <td>This is Tilly. She's just checking pup on you....</td>\n",
       "      <td>NaN</td>\n",
       "      <td>NaN</td>\n",
       "      <td>NaN</td>\n",
       "      <td>https://twitter.com/dog_rates/status/892177421...</td>\n",
       "      <td>13</td>\n",
       "      <td>10</td>\n",
       "      <td>Tilly</td>\n",
       "      <td>None</td>\n",
       "      <td>None</td>\n",
       "      <td>None</td>\n",
       "      <td>None</td>\n",
       "    </tr>\n",
       "    <tr>\n",
       "      <th>2</th>\n",
       "      <td>891815181378084864</td>\n",
       "      <td>NaN</td>\n",
       "      <td>NaN</td>\n",
       "      <td>2017-07-31 00:18:03 +0000</td>\n",
       "      <td>&lt;a href=\"http://twitter.com/download/iphone\" r...</td>\n",
       "      <td>This is Archie. He is a rare Norwegian Pouncin...</td>\n",
       "      <td>NaN</td>\n",
       "      <td>NaN</td>\n",
       "      <td>NaN</td>\n",
       "      <td>https://twitter.com/dog_rates/status/891815181...</td>\n",
       "      <td>12</td>\n",
       "      <td>10</td>\n",
       "      <td>Archie</td>\n",
       "      <td>None</td>\n",
       "      <td>None</td>\n",
       "      <td>None</td>\n",
       "      <td>None</td>\n",
       "    </tr>\n",
       "    <tr>\n",
       "      <th>3</th>\n",
       "      <td>891689557279858688</td>\n",
       "      <td>NaN</td>\n",
       "      <td>NaN</td>\n",
       "      <td>2017-07-30 15:58:51 +0000</td>\n",
       "      <td>&lt;a href=\"http://twitter.com/download/iphone\" r...</td>\n",
       "      <td>This is Darla. She commenced a snooze mid meal...</td>\n",
       "      <td>NaN</td>\n",
       "      <td>NaN</td>\n",
       "      <td>NaN</td>\n",
       "      <td>https://twitter.com/dog_rates/status/891689557...</td>\n",
       "      <td>13</td>\n",
       "      <td>10</td>\n",
       "      <td>Darla</td>\n",
       "      <td>None</td>\n",
       "      <td>None</td>\n",
       "      <td>None</td>\n",
       "      <td>None</td>\n",
       "    </tr>\n",
       "    <tr>\n",
       "      <th>4</th>\n",
       "      <td>891327558926688256</td>\n",
       "      <td>NaN</td>\n",
       "      <td>NaN</td>\n",
       "      <td>2017-07-29 16:00:24 +0000</td>\n",
       "      <td>&lt;a href=\"http://twitter.com/download/iphone\" r...</td>\n",
       "      <td>This is Franklin. He would like you to stop ca...</td>\n",
       "      <td>NaN</td>\n",
       "      <td>NaN</td>\n",
       "      <td>NaN</td>\n",
       "      <td>https://twitter.com/dog_rates/status/891327558...</td>\n",
       "      <td>12</td>\n",
       "      <td>10</td>\n",
       "      <td>Franklin</td>\n",
       "      <td>None</td>\n",
       "      <td>None</td>\n",
       "      <td>None</td>\n",
       "      <td>None</td>\n",
       "    </tr>\n",
       "  </tbody>\n",
       "</table>\n",
       "</div>"
      ],
      "text/plain": [
       "             tweet_id  in_reply_to_status_id  in_reply_to_user_id  \\\n",
       "0  892420643555336193                    NaN                  NaN   \n",
       "1  892177421306343426                    NaN                  NaN   \n",
       "2  891815181378084864                    NaN                  NaN   \n",
       "3  891689557279858688                    NaN                  NaN   \n",
       "4  891327558926688256                    NaN                  NaN   \n",
       "\n",
       "                   timestamp  \\\n",
       "0  2017-08-01 16:23:56 +0000   \n",
       "1  2017-08-01 00:17:27 +0000   \n",
       "2  2017-07-31 00:18:03 +0000   \n",
       "3  2017-07-30 15:58:51 +0000   \n",
       "4  2017-07-29 16:00:24 +0000   \n",
       "\n",
       "                                              source  \\\n",
       "0  <a href=\"http://twitter.com/download/iphone\" r...   \n",
       "1  <a href=\"http://twitter.com/download/iphone\" r...   \n",
       "2  <a href=\"http://twitter.com/download/iphone\" r...   \n",
       "3  <a href=\"http://twitter.com/download/iphone\" r...   \n",
       "4  <a href=\"http://twitter.com/download/iphone\" r...   \n",
       "\n",
       "                                                text  retweeted_status_id  \\\n",
       "0  This is Phineas. He's a mystical boy. Only eve...                  NaN   \n",
       "1  This is Tilly. She's just checking pup on you....                  NaN   \n",
       "2  This is Archie. He is a rare Norwegian Pouncin...                  NaN   \n",
       "3  This is Darla. She commenced a snooze mid meal...                  NaN   \n",
       "4  This is Franklin. He would like you to stop ca...                  NaN   \n",
       "\n",
       "   retweeted_status_user_id retweeted_status_timestamp  \\\n",
       "0                       NaN                        NaN   \n",
       "1                       NaN                        NaN   \n",
       "2                       NaN                        NaN   \n",
       "3                       NaN                        NaN   \n",
       "4                       NaN                        NaN   \n",
       "\n",
       "                                       expanded_urls  rating_numerator  \\\n",
       "0  https://twitter.com/dog_rates/status/892420643...                13   \n",
       "1  https://twitter.com/dog_rates/status/892177421...                13   \n",
       "2  https://twitter.com/dog_rates/status/891815181...                12   \n",
       "3  https://twitter.com/dog_rates/status/891689557...                13   \n",
       "4  https://twitter.com/dog_rates/status/891327558...                12   \n",
       "\n",
       "   rating_denominator      name doggo floofer pupper puppo  \n",
       "0                  10   Phineas  None    None   None  None  \n",
       "1                  10     Tilly  None    None   None  None  \n",
       "2                  10    Archie  None    None   None  None  \n",
       "3                  10     Darla  None    None   None  None  \n",
       "4                  10  Franklin  None    None   None  None  "
      ]
     },
     "execution_count": 3,
     "metadata": {},
     "output_type": "execute_result"
    }
   ],
   "source": [
    "# Let's take a look at the data to see if we loaded it in correctly\n",
    "tweet_archive.head()"
   ]
  },
  {
   "cell_type": "markdown",
   "metadata": {},
   "source": [
    "2. Using the Requests library to download the tweet image prediction (image_predictions.tsv)"
   ]
  },
  {
   "cell_type": "code",
   "execution_count": 4,
   "metadata": {},
   "outputs": [],
   "source": [
    "# Creating a folder to store downloaded data if it doesn't already exists\n",
    "folder_name = \"image_predictions\"\n",
    "if not os.path.exists(folder_name):\n",
    "    os.makedirs(folder_name)\n",
    "\n",
    "# Getting the data from the server using the request library\n",
    "url = \"https://d17h27t6h515a5.cloudfront.net/topher/2017/August/599fd2ad_image-predictions/image-predictions.tsv\"\n",
    "response = requests.get(url)\n",
    "\n",
    "# Storing the file to local server\n",
    "with open(os.path.join(folder_name, url.split('/')[-1]), mode = 'wb') as file:\n",
    "    file.write(response.content)"
   ]
  },
  {
   "cell_type": "code",
   "execution_count": 5,
   "metadata": {
    "scrolled": true
   },
   "outputs": [
    {
     "data": {
      "text/plain": [
       "['image-predictions.tsv']"
      ]
     },
     "execution_count": 5,
     "metadata": {},
     "output_type": "execute_result"
    }
   ],
   "source": [
    "# Checking to see if data is saved in created folder\n",
    "os.listdir(folder_name)"
   ]
  },
  {
   "cell_type": "code",
   "execution_count": 3,
   "metadata": {},
   "outputs": [],
   "source": [
    "# Loading in tweet image prediction file\n",
    "image_predictions = pd.read_csv(\"image-predictions.tsv\", sep=\"\\t\")"
   ]
  },
  {
   "cell_type": "code",
   "execution_count": 7,
   "metadata": {},
   "outputs": [
    {
     "data": {
      "text/html": [
       "<div>\n",
       "<style scoped>\n",
       "    .dataframe tbody tr th:only-of-type {\n",
       "        vertical-align: middle;\n",
       "    }\n",
       "\n",
       "    .dataframe tbody tr th {\n",
       "        vertical-align: top;\n",
       "    }\n",
       "\n",
       "    .dataframe thead th {\n",
       "        text-align: right;\n",
       "    }\n",
       "</style>\n",
       "<table border=\"1\" class=\"dataframe\">\n",
       "  <thead>\n",
       "    <tr style=\"text-align: right;\">\n",
       "      <th></th>\n",
       "      <th>tweet_id</th>\n",
       "      <th>jpg_url</th>\n",
       "      <th>img_num</th>\n",
       "      <th>p1</th>\n",
       "      <th>p1_conf</th>\n",
       "      <th>p1_dog</th>\n",
       "      <th>p2</th>\n",
       "      <th>p2_conf</th>\n",
       "      <th>p2_dog</th>\n",
       "      <th>p3</th>\n",
       "      <th>p3_conf</th>\n",
       "      <th>p3_dog</th>\n",
       "    </tr>\n",
       "  </thead>\n",
       "  <tbody>\n",
       "    <tr>\n",
       "      <th>0</th>\n",
       "      <td>666020888022790149</td>\n",
       "      <td>https://pbs.twimg.com/media/CT4udn0WwAA0aMy.jpg</td>\n",
       "      <td>1</td>\n",
       "      <td>Welsh_springer_spaniel</td>\n",
       "      <td>0.465074</td>\n",
       "      <td>True</td>\n",
       "      <td>collie</td>\n",
       "      <td>0.156665</td>\n",
       "      <td>True</td>\n",
       "      <td>Shetland_sheepdog</td>\n",
       "      <td>0.061428</td>\n",
       "      <td>True</td>\n",
       "    </tr>\n",
       "    <tr>\n",
       "      <th>1</th>\n",
       "      <td>666029285002620928</td>\n",
       "      <td>https://pbs.twimg.com/media/CT42GRgUYAA5iDo.jpg</td>\n",
       "      <td>1</td>\n",
       "      <td>redbone</td>\n",
       "      <td>0.506826</td>\n",
       "      <td>True</td>\n",
       "      <td>miniature_pinscher</td>\n",
       "      <td>0.074192</td>\n",
       "      <td>True</td>\n",
       "      <td>Rhodesian_ridgeback</td>\n",
       "      <td>0.072010</td>\n",
       "      <td>True</td>\n",
       "    </tr>\n",
       "    <tr>\n",
       "      <th>2</th>\n",
       "      <td>666033412701032449</td>\n",
       "      <td>https://pbs.twimg.com/media/CT4521TWwAEvMyu.jpg</td>\n",
       "      <td>1</td>\n",
       "      <td>German_shepherd</td>\n",
       "      <td>0.596461</td>\n",
       "      <td>True</td>\n",
       "      <td>malinois</td>\n",
       "      <td>0.138584</td>\n",
       "      <td>True</td>\n",
       "      <td>bloodhound</td>\n",
       "      <td>0.116197</td>\n",
       "      <td>True</td>\n",
       "    </tr>\n",
       "    <tr>\n",
       "      <th>3</th>\n",
       "      <td>666044226329800704</td>\n",
       "      <td>https://pbs.twimg.com/media/CT5Dr8HUEAA-lEu.jpg</td>\n",
       "      <td>1</td>\n",
       "      <td>Rhodesian_ridgeback</td>\n",
       "      <td>0.408143</td>\n",
       "      <td>True</td>\n",
       "      <td>redbone</td>\n",
       "      <td>0.360687</td>\n",
       "      <td>True</td>\n",
       "      <td>miniature_pinscher</td>\n",
       "      <td>0.222752</td>\n",
       "      <td>True</td>\n",
       "    </tr>\n",
       "    <tr>\n",
       "      <th>4</th>\n",
       "      <td>666049248165822465</td>\n",
       "      <td>https://pbs.twimg.com/media/CT5IQmsXIAAKY4A.jpg</td>\n",
       "      <td>1</td>\n",
       "      <td>miniature_pinscher</td>\n",
       "      <td>0.560311</td>\n",
       "      <td>True</td>\n",
       "      <td>Rottweiler</td>\n",
       "      <td>0.243682</td>\n",
       "      <td>True</td>\n",
       "      <td>Doberman</td>\n",
       "      <td>0.154629</td>\n",
       "      <td>True</td>\n",
       "    </tr>\n",
       "  </tbody>\n",
       "</table>\n",
       "</div>"
      ],
      "text/plain": [
       "             tweet_id                                          jpg_url  \\\n",
       "0  666020888022790149  https://pbs.twimg.com/media/CT4udn0WwAA0aMy.jpg   \n",
       "1  666029285002620928  https://pbs.twimg.com/media/CT42GRgUYAA5iDo.jpg   \n",
       "2  666033412701032449  https://pbs.twimg.com/media/CT4521TWwAEvMyu.jpg   \n",
       "3  666044226329800704  https://pbs.twimg.com/media/CT5Dr8HUEAA-lEu.jpg   \n",
       "4  666049248165822465  https://pbs.twimg.com/media/CT5IQmsXIAAKY4A.jpg   \n",
       "\n",
       "   img_num                      p1   p1_conf  p1_dog                  p2  \\\n",
       "0        1  Welsh_springer_spaniel  0.465074    True              collie   \n",
       "1        1                 redbone  0.506826    True  miniature_pinscher   \n",
       "2        1         German_shepherd  0.596461    True            malinois   \n",
       "3        1     Rhodesian_ridgeback  0.408143    True             redbone   \n",
       "4        1      miniature_pinscher  0.560311    True          Rottweiler   \n",
       "\n",
       "    p2_conf  p2_dog                   p3   p3_conf  p3_dog  \n",
       "0  0.156665    True    Shetland_sheepdog  0.061428    True  \n",
       "1  0.074192    True  Rhodesian_ridgeback  0.072010    True  \n",
       "2  0.138584    True           bloodhound  0.116197    True  \n",
       "3  0.360687    True   miniature_pinscher  0.222752    True  \n",
       "4  0.243682    True             Doberman  0.154629    True  "
      ]
     },
     "execution_count": 7,
     "metadata": {},
     "output_type": "execute_result"
    }
   ],
   "source": [
    "# Let's take a look at the data\n",
    "image_predictions.head()"
   ]
  },
  {
   "cell_type": "markdown",
   "metadata": {},
   "source": [
    "3. Use the Tweepy library to query additional data via the Twitter API (tweet_json.txt)"
   ]
  },
  {
   "cell_type": "code",
   "execution_count": null,
   "metadata": {},
   "outputs": [],
   "source": [
    "# Querying Twitter API for each tweet in the Twitter archive and save JSON in a text file\n",
    "# These are hidden to comply with Twitter's API terms and conditions\n",
    "consumer_key = 'HIDDEN'\n",
    "consumer_secret = 'HIDDEN'\n",
    "access_token = 'HIDDEN'\n",
    "access_secret = 'HIDDEN'\n",
    "\n",
    "auth = OAuthHandler(consumer_key, consumer_secret)\n",
    "auth.set_access_token(access_token, access_secret)\n",
    "\n",
    "api = tweepy.API(auth, wait_on_rate_limit=True)\n",
    "\n",
    "# NOTE TO REVIEWER: this student had mobile verification issues so the following\n",
    "# Twitter API code was sent to this student from a Udacity instructor\n",
    "# Tweet IDs for which to gather additional data via Twitter's API\n",
    "tweet_ids = df_1.tweet_id.values\n",
    "len(tweet_ids)\n",
    "\n",
    "# Querying Twitter's API for JSON data for each tweet ID in the Twitter archive\n",
    "count = 0\n",
    "fails_dict = {}\n",
    "start = timer()\n",
    "\n",
    "# Saving each tweet's returned JSON as a new line in a .txt file\n",
    "with open('tweet_json.txt', 'w') as outfile:\n",
    "    # This loop will likely take 20-30 minutes to run because of Twitter's rate limit\n",
    "    for tweet_id in tweet_ids:\n",
    "        count += 1\n",
    "        print(str(count) + \": \" + str(tweet_id))\n",
    "        try:\n",
    "            tweet = api.get_status(tweet_id, tweet_mode='extended')\n",
    "            print(\"Success\")\n",
    "            json.dump(tweet._json, outfile)\n",
    "            outfile.write('\\n')\n",
    "        except tweepy.TweepError as e:\n",
    "            print(\"Fail\")\n",
    "            fails_dict[tweet_id] = e\n",
    "            pass\n",
    "end = timer()\n",
    "print(end - start)\n",
    "print(fails_dict)\n"
   ]
  },
  {
   "cell_type": "code",
   "execution_count": 8,
   "metadata": {},
   "outputs": [],
   "source": [
    "# Identifying information of interest from JSON stored in txt file and put it in a dataframe\n",
    "tweet_list = []\n",
    "with open(\"tweet-json.txt\", \"r\") as file:\n",
    "    for line in file:\n",
    "        tweets = json.loads(line)\n",
    "        tweet_id = tweets[\"id\"]\n",
    "        retweet_count = tweets[\"retweet_count\"]\n",
    "        favorite_count = tweets[\"favorite_count\"]\n",
    "        \n",
    "        tweet_list.append({\"tweet_id\": tweet_id, \"retweet_count\": retweet_count, \"favorite_count\": favorite_count})\n",
    "tweet_status = pd.DataFrame(tweet_list, columns = [\"tweet_id\", \"retweet_count\", \"favorite_count\"])"
   ]
  },
  {
   "cell_type": "code",
   "execution_count": 9,
   "metadata": {},
   "outputs": [
    {
     "data": {
      "text/html": [
       "<div>\n",
       "<style scoped>\n",
       "    .dataframe tbody tr th:only-of-type {\n",
       "        vertical-align: middle;\n",
       "    }\n",
       "\n",
       "    .dataframe tbody tr th {\n",
       "        vertical-align: top;\n",
       "    }\n",
       "\n",
       "    .dataframe thead th {\n",
       "        text-align: right;\n",
       "    }\n",
       "</style>\n",
       "<table border=\"1\" class=\"dataframe\">\n",
       "  <thead>\n",
       "    <tr style=\"text-align: right;\">\n",
       "      <th></th>\n",
       "      <th>tweet_id</th>\n",
       "      <th>retweet_count</th>\n",
       "      <th>favorite_count</th>\n",
       "    </tr>\n",
       "  </thead>\n",
       "  <tbody>\n",
       "    <tr>\n",
       "      <th>0</th>\n",
       "      <td>892420643555336193</td>\n",
       "      <td>8853</td>\n",
       "      <td>39467</td>\n",
       "    </tr>\n",
       "    <tr>\n",
       "      <th>1</th>\n",
       "      <td>892177421306343426</td>\n",
       "      <td>6514</td>\n",
       "      <td>33819</td>\n",
       "    </tr>\n",
       "    <tr>\n",
       "      <th>2</th>\n",
       "      <td>891815181378084864</td>\n",
       "      <td>4328</td>\n",
       "      <td>25461</td>\n",
       "    </tr>\n",
       "    <tr>\n",
       "      <th>3</th>\n",
       "      <td>891689557279858688</td>\n",
       "      <td>8964</td>\n",
       "      <td>42908</td>\n",
       "    </tr>\n",
       "    <tr>\n",
       "      <th>4</th>\n",
       "      <td>891327558926688256</td>\n",
       "      <td>9774</td>\n",
       "      <td>41048</td>\n",
       "    </tr>\n",
       "  </tbody>\n",
       "</table>\n",
       "</div>"
      ],
      "text/plain": [
       "             tweet_id  retweet_count  favorite_count\n",
       "0  892420643555336193           8853           39467\n",
       "1  892177421306343426           6514           33819\n",
       "2  891815181378084864           4328           25461\n",
       "3  891689557279858688           8964           42908\n",
       "4  891327558926688256           9774           41048"
      ]
     },
     "execution_count": 9,
     "metadata": {},
     "output_type": "execute_result"
    }
   ],
   "source": [
    "# Let's preview the created dataframe\n",
    "tweet_status.head()"
   ]
  },
  {
   "cell_type": "markdown",
   "metadata": {
    "extensions": {
     "jupyter_dashboards": {
      "version": 1,
      "views": {
       "grid_default": {
        "col": 4,
        "height": 4,
        "hidden": false,
        "row": 28,
        "width": 4
       },
       "report_default": {
        "hidden": false
       }
      }
     }
    }
   },
   "source": [
    "## Assessing Data\n",
    "In this section,  at least **eight (8) quality issues and two (2) tidiness issue** are detected and documented using **both** visual assessment programmatic assessement to assess the data."
   ]
  },
  {
   "cell_type": "markdown",
   "metadata": {},
   "source": [
    "### `tweet_archive`"
   ]
  },
  {
   "cell_type": "code",
   "execution_count": 10,
   "metadata": {
    "scrolled": true
   },
   "outputs": [
    {
     "data": {
      "text/html": [
       "<div>\n",
       "<style scoped>\n",
       "    .dataframe tbody tr th:only-of-type {\n",
       "        vertical-align: middle;\n",
       "    }\n",
       "\n",
       "    .dataframe tbody tr th {\n",
       "        vertical-align: top;\n",
       "    }\n",
       "\n",
       "    .dataframe thead th {\n",
       "        text-align: right;\n",
       "    }\n",
       "</style>\n",
       "<table border=\"1\" class=\"dataframe\">\n",
       "  <thead>\n",
       "    <tr style=\"text-align: right;\">\n",
       "      <th></th>\n",
       "      <th>tweet_id</th>\n",
       "      <th>in_reply_to_status_id</th>\n",
       "      <th>in_reply_to_user_id</th>\n",
       "      <th>timestamp</th>\n",
       "      <th>source</th>\n",
       "      <th>text</th>\n",
       "      <th>retweeted_status_id</th>\n",
       "      <th>retweeted_status_user_id</th>\n",
       "      <th>retweeted_status_timestamp</th>\n",
       "      <th>expanded_urls</th>\n",
       "      <th>rating_numerator</th>\n",
       "      <th>rating_denominator</th>\n",
       "      <th>name</th>\n",
       "      <th>doggo</th>\n",
       "      <th>floofer</th>\n",
       "      <th>pupper</th>\n",
       "      <th>puppo</th>\n",
       "    </tr>\n",
       "  </thead>\n",
       "  <tbody>\n",
       "    <tr>\n",
       "      <th>551</th>\n",
       "      <td>804475857670639616</td>\n",
       "      <td>NaN</td>\n",
       "      <td>NaN</td>\n",
       "      <td>2016-12-02 00:02:45 +0000</td>\n",
       "      <td>&lt;a href=\"http://twitter.com/download/iphone\" r...</td>\n",
       "      <td>HE'S TRYING TO BE HIS OWN PERSON LET HIM GO 13...</td>\n",
       "      <td>NaN</td>\n",
       "      <td>NaN</td>\n",
       "      <td>NaN</td>\n",
       "      <td>https://twitter.com/bvuepd/status/804417859124...</td>\n",
       "      <td>13</td>\n",
       "      <td>10</td>\n",
       "      <td>None</td>\n",
       "      <td>None</td>\n",
       "      <td>None</td>\n",
       "      <td>None</td>\n",
       "      <td>None</td>\n",
       "    </tr>\n",
       "    <tr>\n",
       "      <th>550</th>\n",
       "      <td>804738756058218496</td>\n",
       "      <td>NaN</td>\n",
       "      <td>NaN</td>\n",
       "      <td>2016-12-02 17:27:25 +0000</td>\n",
       "      <td>&lt;a href=\"http://twitter.com/download/iphone\" r...</td>\n",
       "      <td>This is Django. He accidentally opened the fro...</td>\n",
       "      <td>NaN</td>\n",
       "      <td>NaN</td>\n",
       "      <td>NaN</td>\n",
       "      <td>https://twitter.com/dog_rates/status/804738756...</td>\n",
       "      <td>12</td>\n",
       "      <td>10</td>\n",
       "      <td>Django</td>\n",
       "      <td>None</td>\n",
       "      <td>None</td>\n",
       "      <td>None</td>\n",
       "      <td>None</td>\n",
       "    </tr>\n",
       "    <tr>\n",
       "      <th>1343</th>\n",
       "      <td>704761120771465216</td>\n",
       "      <td>NaN</td>\n",
       "      <td>NaN</td>\n",
       "      <td>2016-03-01 20:11:59 +0000</td>\n",
       "      <td>&lt;a href=\"http://twitter.com/download/iphone\" r...</td>\n",
       "      <td>This pupper killed this great white in an epic...</td>\n",
       "      <td>NaN</td>\n",
       "      <td>NaN</td>\n",
       "      <td>NaN</td>\n",
       "      <td>https://twitter.com/dog_rates/status/704761120...</td>\n",
       "      <td>13</td>\n",
       "      <td>10</td>\n",
       "      <td>None</td>\n",
       "      <td>None</td>\n",
       "      <td>None</td>\n",
       "      <td>pupper</td>\n",
       "      <td>None</td>\n",
       "    </tr>\n",
       "    <tr>\n",
       "      <th>1325</th>\n",
       "      <td>706166467411222528</td>\n",
       "      <td>NaN</td>\n",
       "      <td>NaN</td>\n",
       "      <td>2016-03-05 17:16:20 +0000</td>\n",
       "      <td>&lt;a href=\"http://twitter.com/download/iphone\" r...</td>\n",
       "      <td>This is Dexter. He's a shy pup. Doesn't bark m...</td>\n",
       "      <td>NaN</td>\n",
       "      <td>NaN</td>\n",
       "      <td>NaN</td>\n",
       "      <td>https://twitter.com/dog_rates/status/706166467...</td>\n",
       "      <td>7</td>\n",
       "      <td>10</td>\n",
       "      <td>Dexter</td>\n",
       "      <td>None</td>\n",
       "      <td>None</td>\n",
       "      <td>None</td>\n",
       "      <td>None</td>\n",
       "    </tr>\n",
       "    <tr>\n",
       "      <th>1394</th>\n",
       "      <td>700002074055016451</td>\n",
       "      <td>NaN</td>\n",
       "      <td>NaN</td>\n",
       "      <td>2016-02-17 17:01:14 +0000</td>\n",
       "      <td>&lt;a href=\"http://twitter.com/download/iphone\" r...</td>\n",
       "      <td>This is Thumas. He covered himself in nanners ...</td>\n",
       "      <td>NaN</td>\n",
       "      <td>NaN</td>\n",
       "      <td>NaN</td>\n",
       "      <td>https://twitter.com/dog_rates/status/700002074...</td>\n",
       "      <td>9</td>\n",
       "      <td>10</td>\n",
       "      <td>Thumas</td>\n",
       "      <td>None</td>\n",
       "      <td>None</td>\n",
       "      <td>None</td>\n",
       "      <td>None</td>\n",
       "    </tr>\n",
       "    <tr>\n",
       "      <th>1826</th>\n",
       "      <td>676440007570247681</td>\n",
       "      <td>NaN</td>\n",
       "      <td>NaN</td>\n",
       "      <td>2015-12-14 16:34:00 +0000</td>\n",
       "      <td>&lt;a href=\"http://twitter.com/download/iphone\" r...</td>\n",
       "      <td>Hope your Monday isn't too awful. Here's two b...</td>\n",
       "      <td>NaN</td>\n",
       "      <td>NaN</td>\n",
       "      <td>NaN</td>\n",
       "      <td>https://twitter.com/dog_rates/status/676440007...</td>\n",
       "      <td>11</td>\n",
       "      <td>10</td>\n",
       "      <td>None</td>\n",
       "      <td>None</td>\n",
       "      <td>None</td>\n",
       "      <td>None</td>\n",
       "      <td>None</td>\n",
       "    </tr>\n",
       "    <tr>\n",
       "      <th>501</th>\n",
       "      <td>813096984823349248</td>\n",
       "      <td>NaN</td>\n",
       "      <td>NaN</td>\n",
       "      <td>2016-12-25 19:00:02 +0000</td>\n",
       "      <td>&lt;a href=\"http://twitter.com/download/iphone\" r...</td>\n",
       "      <td>This is Rocky. He got triple-doggo-dared. Stuc...</td>\n",
       "      <td>NaN</td>\n",
       "      <td>NaN</td>\n",
       "      <td>NaN</td>\n",
       "      <td>https://twitter.com/dog_rates/status/813096984...</td>\n",
       "      <td>11</td>\n",
       "      <td>10</td>\n",
       "      <td>Rocky</td>\n",
       "      <td>doggo</td>\n",
       "      <td>None</td>\n",
       "      <td>None</td>\n",
       "      <td>None</td>\n",
       "    </tr>\n",
       "    <tr>\n",
       "      <th>849</th>\n",
       "      <td>766008592277377025</td>\n",
       "      <td>NaN</td>\n",
       "      <td>NaN</td>\n",
       "      <td>2016-08-17 20:27:34 +0000</td>\n",
       "      <td>&lt;a href=\"http://twitter.com/download/iphone\" r...</td>\n",
       "      <td>This is Angel. She stole the @ShopWeRateDogs s...</td>\n",
       "      <td>NaN</td>\n",
       "      <td>NaN</td>\n",
       "      <td>NaN</td>\n",
       "      <td>https://twitter.com/dog_rates/status/766008592...</td>\n",
       "      <td>11</td>\n",
       "      <td>10</td>\n",
       "      <td>Angel</td>\n",
       "      <td>None</td>\n",
       "      <td>None</td>\n",
       "      <td>None</td>\n",
       "      <td>None</td>\n",
       "    </tr>\n",
       "    <tr>\n",
       "      <th>1867</th>\n",
       "      <td>675334060156301312</td>\n",
       "      <td>NaN</td>\n",
       "      <td>NaN</td>\n",
       "      <td>2015-12-11 15:19:21 +0000</td>\n",
       "      <td>&lt;a href=\"http://twitter.com/download/iphone\" r...</td>\n",
       "      <td>Good morning here's a grass pupper. 12/10 http...</td>\n",
       "      <td>NaN</td>\n",
       "      <td>NaN</td>\n",
       "      <td>NaN</td>\n",
       "      <td>https://twitter.com/dog_rates/status/675334060...</td>\n",
       "      <td>12</td>\n",
       "      <td>10</td>\n",
       "      <td>None</td>\n",
       "      <td>None</td>\n",
       "      <td>None</td>\n",
       "      <td>pupper</td>\n",
       "      <td>None</td>\n",
       "    </tr>\n",
       "    <tr>\n",
       "      <th>620</th>\n",
       "      <td>796125600683540480</td>\n",
       "      <td>NaN</td>\n",
       "      <td>NaN</td>\n",
       "      <td>2016-11-08 23:01:49 +0000</td>\n",
       "      <td>&lt;a href=\"http://twitter.com/download/iphone\" r...</td>\n",
       "      <td>#ImWithThor 13/10\\nhttps://t.co/a18mzkhTf6</td>\n",
       "      <td>NaN</td>\n",
       "      <td>NaN</td>\n",
       "      <td>NaN</td>\n",
       "      <td>https://twitter.com/king5seattle/status/796123...</td>\n",
       "      <td>13</td>\n",
       "      <td>10</td>\n",
       "      <td>None</td>\n",
       "      <td>None</td>\n",
       "      <td>None</td>\n",
       "      <td>None</td>\n",
       "      <td>None</td>\n",
       "    </tr>\n",
       "  </tbody>\n",
       "</table>\n",
       "</div>"
      ],
      "text/plain": [
       "                tweet_id  in_reply_to_status_id  in_reply_to_user_id  \\\n",
       "551   804475857670639616                    NaN                  NaN   \n",
       "550   804738756058218496                    NaN                  NaN   \n",
       "1343  704761120771465216                    NaN                  NaN   \n",
       "1325  706166467411222528                    NaN                  NaN   \n",
       "1394  700002074055016451                    NaN                  NaN   \n",
       "1826  676440007570247681                    NaN                  NaN   \n",
       "501   813096984823349248                    NaN                  NaN   \n",
       "849   766008592277377025                    NaN                  NaN   \n",
       "1867  675334060156301312                    NaN                  NaN   \n",
       "620   796125600683540480                    NaN                  NaN   \n",
       "\n",
       "                      timestamp  \\\n",
       "551   2016-12-02 00:02:45 +0000   \n",
       "550   2016-12-02 17:27:25 +0000   \n",
       "1343  2016-03-01 20:11:59 +0000   \n",
       "1325  2016-03-05 17:16:20 +0000   \n",
       "1394  2016-02-17 17:01:14 +0000   \n",
       "1826  2015-12-14 16:34:00 +0000   \n",
       "501   2016-12-25 19:00:02 +0000   \n",
       "849   2016-08-17 20:27:34 +0000   \n",
       "1867  2015-12-11 15:19:21 +0000   \n",
       "620   2016-11-08 23:01:49 +0000   \n",
       "\n",
       "                                                 source  \\\n",
       "551   <a href=\"http://twitter.com/download/iphone\" r...   \n",
       "550   <a href=\"http://twitter.com/download/iphone\" r...   \n",
       "1343  <a href=\"http://twitter.com/download/iphone\" r...   \n",
       "1325  <a href=\"http://twitter.com/download/iphone\" r...   \n",
       "1394  <a href=\"http://twitter.com/download/iphone\" r...   \n",
       "1826  <a href=\"http://twitter.com/download/iphone\" r...   \n",
       "501   <a href=\"http://twitter.com/download/iphone\" r...   \n",
       "849   <a href=\"http://twitter.com/download/iphone\" r...   \n",
       "1867  <a href=\"http://twitter.com/download/iphone\" r...   \n",
       "620   <a href=\"http://twitter.com/download/iphone\" r...   \n",
       "\n",
       "                                                   text  retweeted_status_id  \\\n",
       "551   HE'S TRYING TO BE HIS OWN PERSON LET HIM GO 13...                  NaN   \n",
       "550   This is Django. He accidentally opened the fro...                  NaN   \n",
       "1343  This pupper killed this great white in an epic...                  NaN   \n",
       "1325  This is Dexter. He's a shy pup. Doesn't bark m...                  NaN   \n",
       "1394  This is Thumas. He covered himself in nanners ...                  NaN   \n",
       "1826  Hope your Monday isn't too awful. Here's two b...                  NaN   \n",
       "501   This is Rocky. He got triple-doggo-dared. Stuc...                  NaN   \n",
       "849   This is Angel. She stole the @ShopWeRateDogs s...                  NaN   \n",
       "1867  Good morning here's a grass pupper. 12/10 http...                  NaN   \n",
       "620          #ImWithThor 13/10\\nhttps://t.co/a18mzkhTf6                  NaN   \n",
       "\n",
       "      retweeted_status_user_id retweeted_status_timestamp  \\\n",
       "551                        NaN                        NaN   \n",
       "550                        NaN                        NaN   \n",
       "1343                       NaN                        NaN   \n",
       "1325                       NaN                        NaN   \n",
       "1394                       NaN                        NaN   \n",
       "1826                       NaN                        NaN   \n",
       "501                        NaN                        NaN   \n",
       "849                        NaN                        NaN   \n",
       "1867                       NaN                        NaN   \n",
       "620                        NaN                        NaN   \n",
       "\n",
       "                                          expanded_urls  rating_numerator  \\\n",
       "551   https://twitter.com/bvuepd/status/804417859124...                13   \n",
       "550   https://twitter.com/dog_rates/status/804738756...                12   \n",
       "1343  https://twitter.com/dog_rates/status/704761120...                13   \n",
       "1325  https://twitter.com/dog_rates/status/706166467...                 7   \n",
       "1394  https://twitter.com/dog_rates/status/700002074...                 9   \n",
       "1826  https://twitter.com/dog_rates/status/676440007...                11   \n",
       "501   https://twitter.com/dog_rates/status/813096984...                11   \n",
       "849   https://twitter.com/dog_rates/status/766008592...                11   \n",
       "1867  https://twitter.com/dog_rates/status/675334060...                12   \n",
       "620   https://twitter.com/king5seattle/status/796123...                13   \n",
       "\n",
       "      rating_denominator    name  doggo floofer  pupper puppo  \n",
       "551                   10    None   None    None    None  None  \n",
       "550                   10  Django   None    None    None  None  \n",
       "1343                  10    None   None    None  pupper  None  \n",
       "1325                  10  Dexter   None    None    None  None  \n",
       "1394                  10  Thumas   None    None    None  None  \n",
       "1826                  10    None   None    None    None  None  \n",
       "501                   10   Rocky  doggo    None    None  None  \n",
       "849                   10   Angel   None    None    None  None  \n",
       "1867                  10    None   None    None  pupper  None  \n",
       "620                   10    None   None    None    None  None  "
      ]
     },
     "execution_count": 10,
     "metadata": {},
     "output_type": "execute_result"
    }
   ],
   "source": [
    "# Let's visually assess a sample of the tweet_archive\n",
    "tweet_archive.sample(10)"
   ]
  },
  {
   "cell_type": "code",
   "execution_count": 11,
   "metadata": {
    "scrolled": true
   },
   "outputs": [
    {
     "name": "stdout",
     "output_type": "stream",
     "text": [
      "<class 'pandas.core.frame.DataFrame'>\n",
      "RangeIndex: 2356 entries, 0 to 2355\n",
      "Data columns (total 17 columns):\n",
      " #   Column                      Non-Null Count  Dtype  \n",
      "---  ------                      --------------  -----  \n",
      " 0   tweet_id                    2356 non-null   int64  \n",
      " 1   in_reply_to_status_id       78 non-null     float64\n",
      " 2   in_reply_to_user_id         78 non-null     float64\n",
      " 3   timestamp                   2356 non-null   object \n",
      " 4   source                      2356 non-null   object \n",
      " 5   text                        2356 non-null   object \n",
      " 6   retweeted_status_id         181 non-null    float64\n",
      " 7   retweeted_status_user_id    181 non-null    float64\n",
      " 8   retweeted_status_timestamp  181 non-null    object \n",
      " 9   expanded_urls               2297 non-null   object \n",
      " 10  rating_numerator            2356 non-null   int64  \n",
      " 11  rating_denominator          2356 non-null   int64  \n",
      " 12  name                        2356 non-null   object \n",
      " 13  doggo                       2356 non-null   object \n",
      " 14  floofer                     2356 non-null   object \n",
      " 15  pupper                      2356 non-null   object \n",
      " 16  puppo                       2356 non-null   object \n",
      "dtypes: float64(4), int64(3), object(10)\n",
      "memory usage: 313.0+ KB\n"
     ]
    }
   ],
   "source": [
    "# Checking for more information on the dataframe\n",
    "tweet_archive.info()"
   ]
  },
  {
   "cell_type": "code",
   "execution_count": 12,
   "metadata": {
    "scrolled": true
   },
   "outputs": [
    {
     "data": {
      "text/plain": [
       "0"
      ]
     },
     "execution_count": 12,
     "metadata": {},
     "output_type": "execute_result"
    }
   ],
   "source": [
    "# Checking to see if we have duplicates in the unique tweet_id\n",
    "tweet_archive.tweet_id.duplicated().sum()"
   ]
  },
  {
   "cell_type": "code",
   "execution_count": 13,
   "metadata": {},
   "outputs": [
    {
     "data": {
      "text/plain": [
       "181"
      ]
     },
     "execution_count": 13,
     "metadata": {},
     "output_type": "execute_result"
    }
   ],
   "source": [
    "# Checking to see how many retweets\n",
    "tweet_archive.retweeted_status_user_id.count()"
   ]
  },
  {
   "cell_type": "code",
   "execution_count": 14,
   "metadata": {
    "scrolled": true
   },
   "outputs": [
    {
     "data": {
      "text/plain": [
       "979     1776\n",
       "313      960\n",
       "189      666\n",
       "188      420\n",
       "2074     420\n",
       "        ... \n",
       "2335       1\n",
       "605        1\n",
       "2038       1\n",
       "1016       0\n",
       "315        0\n",
       "Name: rating_numerator, Length: 2356, dtype: int64"
      ]
     },
     "execution_count": 14,
     "metadata": {},
     "output_type": "execute_result"
    }
   ],
   "source": [
    "# Assessing to see highest numerator rating \n",
    "tweet_archive.rating_numerator.sort_values(ascending=False)"
   ]
  },
  {
   "cell_type": "code",
   "execution_count": 15,
   "metadata": {
    "scrolled": true
   },
   "outputs": [
    {
     "data": {
      "text/plain": [
       "1120    170\n",
       "902     150\n",
       "1634    130\n",
       "1779    120\n",
       "1635    110\n",
       "       ... \n",
       "776      10\n",
       "806      10\n",
       "516       7\n",
       "2335      2\n",
       "313       0\n",
       "Name: rating_denominator, Length: 2356, dtype: int64"
      ]
     },
     "execution_count": 15,
     "metadata": {},
     "output_type": "execute_result"
    }
   ],
   "source": [
    "# Assessing to see highest denominator rating \n",
    "tweet_archive.rating_denominator.sort_values(ascending=False)"
   ]
  },
  {
   "cell_type": "code",
   "execution_count": 16,
   "metadata": {},
   "outputs": [
    {
     "data": {
      "text/plain": [
       "23"
      ]
     },
     "execution_count": 16,
     "metadata": {},
     "output_type": "execute_result"
    }
   ],
   "source": [
    "# Checking the count denominator rating gretaer than 10, because the rating is x/10\n",
    "len(tweet_archive[tweet_archive.rating_denominator != 10])"
   ]
  },
  {
   "cell_type": "code",
   "execution_count": 17,
   "metadata": {},
   "outputs": [
    {
     "data": {
      "text/plain": [
       "None          745\n",
       "a              55\n",
       "Charlie        12\n",
       "Cooper         11\n",
       "Lucy           11\n",
       "             ... \n",
       "Dex             1\n",
       "Ace             1\n",
       "Tayzie          1\n",
       "Grizzie         1\n",
       "Christoper      1\n",
       "Name: name, Length: 957, dtype: int64"
      ]
     },
     "execution_count": 17,
     "metadata": {},
     "output_type": "execute_result"
    }
   ],
   "source": [
    "# Checking the name column\n",
    "tweet_archive.name.value_counts()"
   ]
  },
  {
   "cell_type": "code",
   "execution_count": 18,
   "metadata": {
    "scrolled": true
   },
   "outputs": [
    {
     "data": {
      "text/plain": [
       "array(['None', 'doggo'], dtype=object)"
      ]
     },
     "execution_count": 18,
     "metadata": {},
     "output_type": "execute_result"
    }
   ],
   "source": [
    "# Checking the list of values in the \"doggo\" column\n",
    "tweet_archive.doggo.unique()"
   ]
  },
  {
   "cell_type": "code",
   "execution_count": 19,
   "metadata": {},
   "outputs": [
    {
     "data": {
      "text/plain": [
       "array(['None', 'floofer'], dtype=object)"
      ]
     },
     "execution_count": 19,
     "metadata": {},
     "output_type": "execute_result"
    }
   ],
   "source": [
    "# Checking the list of values in the \"floofer\" column\n",
    "tweet_archive.floofer.unique()"
   ]
  },
  {
   "cell_type": "code",
   "execution_count": 20,
   "metadata": {},
   "outputs": [
    {
     "data": {
      "text/plain": [
       "array(['None', 'pupper'], dtype=object)"
      ]
     },
     "execution_count": 20,
     "metadata": {},
     "output_type": "execute_result"
    }
   ],
   "source": [
    "# Checking the list of values in the \"pupper\" column\n",
    "tweet_archive.pupper.unique()"
   ]
  },
  {
   "cell_type": "code",
   "execution_count": 21,
   "metadata": {},
   "outputs": [
    {
     "data": {
      "text/plain": [
       "array(['None', 'puppo'], dtype=object)"
      ]
     },
     "execution_count": 21,
     "metadata": {},
     "output_type": "execute_result"
    }
   ],
   "source": [
    "# Checking the list of values in the \"puppo\" column\n",
    "tweet_archive.puppo.unique()"
   ]
  },
  {
   "cell_type": "markdown",
   "metadata": {},
   "source": [
    "### `image_predictions`"
   ]
  },
  {
   "cell_type": "code",
   "execution_count": 22,
   "metadata": {
    "scrolled": true
   },
   "outputs": [
    {
     "data": {
      "text/html": [
       "<div>\n",
       "<style scoped>\n",
       "    .dataframe tbody tr th:only-of-type {\n",
       "        vertical-align: middle;\n",
       "    }\n",
       "\n",
       "    .dataframe tbody tr th {\n",
       "        vertical-align: top;\n",
       "    }\n",
       "\n",
       "    .dataframe thead th {\n",
       "        text-align: right;\n",
       "    }\n",
       "</style>\n",
       "<table border=\"1\" class=\"dataframe\">\n",
       "  <thead>\n",
       "    <tr style=\"text-align: right;\">\n",
       "      <th></th>\n",
       "      <th>tweet_id</th>\n",
       "      <th>jpg_url</th>\n",
       "      <th>img_num</th>\n",
       "      <th>p1</th>\n",
       "      <th>p1_conf</th>\n",
       "      <th>p1_dog</th>\n",
       "      <th>p2</th>\n",
       "      <th>p2_conf</th>\n",
       "      <th>p2_dog</th>\n",
       "      <th>p3</th>\n",
       "      <th>p3_conf</th>\n",
       "      <th>p3_dog</th>\n",
       "    </tr>\n",
       "  </thead>\n",
       "  <tbody>\n",
       "    <tr>\n",
       "      <th>1064</th>\n",
       "      <td>715360349751484417</td>\n",
       "      <td>https://pbs.twimg.com/media/Ce14cOvWwAAcFJH.jpg</td>\n",
       "      <td>1</td>\n",
       "      <td>nail</td>\n",
       "      <td>0.855552</td>\n",
       "      <td>False</td>\n",
       "      <td>screw</td>\n",
       "      <td>0.073277</td>\n",
       "      <td>False</td>\n",
       "      <td>padlock</td>\n",
       "      <td>0.023970</td>\n",
       "      <td>False</td>\n",
       "    </tr>\n",
       "    <tr>\n",
       "      <th>1697</th>\n",
       "      <td>816697700272001025</td>\n",
       "      <td>https://pbs.twimg.com/media/C1V-K63UAAEUHqw.jpg</td>\n",
       "      <td>1</td>\n",
       "      <td>Chihuahua</td>\n",
       "      <td>0.756992</td>\n",
       "      <td>True</td>\n",
       "      <td>Pomeranian</td>\n",
       "      <td>0.052850</td>\n",
       "      <td>True</td>\n",
       "      <td>Maltese_dog</td>\n",
       "      <td>0.047608</td>\n",
       "      <td>True</td>\n",
       "    </tr>\n",
       "    <tr>\n",
       "      <th>637</th>\n",
       "      <td>681261549936340994</td>\n",
       "      <td>https://pbs.twimg.com/media/CXRTw_5WMAAUDVp.jpg</td>\n",
       "      <td>1</td>\n",
       "      <td>Tibetan_terrier</td>\n",
       "      <td>0.382101</td>\n",
       "      <td>True</td>\n",
       "      <td>miniature_poodle</td>\n",
       "      <td>0.095429</td>\n",
       "      <td>True</td>\n",
       "      <td>Maltese_dog</td>\n",
       "      <td>0.065738</td>\n",
       "      <td>True</td>\n",
       "    </tr>\n",
       "    <tr>\n",
       "      <th>175</th>\n",
       "      <td>669037058363662336</td>\n",
       "      <td>https://pbs.twimg.com/media/CUjlp51WcAA1vGA.jpg</td>\n",
       "      <td>1</td>\n",
       "      <td>Chihuahua</td>\n",
       "      <td>0.803528</td>\n",
       "      <td>True</td>\n",
       "      <td>Pomeranian</td>\n",
       "      <td>0.053871</td>\n",
       "      <td>True</td>\n",
       "      <td>chow</td>\n",
       "      <td>0.032257</td>\n",
       "      <td>True</td>\n",
       "    </tr>\n",
       "    <tr>\n",
       "      <th>1042</th>\n",
       "      <td>712438159032893441</td>\n",
       "      <td>https://pbs.twimg.com/media/CeMWubMWwAA6GwF.jpg</td>\n",
       "      <td>1</td>\n",
       "      <td>ice_bear</td>\n",
       "      <td>0.869477</td>\n",
       "      <td>False</td>\n",
       "      <td>Great_Pyrenees</td>\n",
       "      <td>0.069457</td>\n",
       "      <td>True</td>\n",
       "      <td>Labrador_retriever</td>\n",
       "      <td>0.024740</td>\n",
       "      <td>True</td>\n",
       "    </tr>\n",
       "    <tr>\n",
       "      <th>275</th>\n",
       "      <td>670838202509447168</td>\n",
       "      <td>https://pbs.twimg.com/media/CU9LyIMWIAA6OOu.jpg</td>\n",
       "      <td>1</td>\n",
       "      <td>flamingo</td>\n",
       "      <td>0.992710</td>\n",
       "      <td>False</td>\n",
       "      <td>coral_fungus</td>\n",
       "      <td>0.003491</td>\n",
       "      <td>False</td>\n",
       "      <td>stinkhorn</td>\n",
       "      <td>0.001859</td>\n",
       "      <td>False</td>\n",
       "    </tr>\n",
       "    <tr>\n",
       "      <th>439</th>\n",
       "      <td>674436901579923456</td>\n",
       "      <td>https://pbs.twimg.com/media/CVwUyM9WwAAGDjv.jpg</td>\n",
       "      <td>1</td>\n",
       "      <td>acorn_squash</td>\n",
       "      <td>0.375392</td>\n",
       "      <td>False</td>\n",
       "      <td>Shih-Tzu</td>\n",
       "      <td>0.105416</td>\n",
       "      <td>True</td>\n",
       "      <td>Lhasa</td>\n",
       "      <td>0.072832</td>\n",
       "      <td>True</td>\n",
       "    </tr>\n",
       "    <tr>\n",
       "      <th>102</th>\n",
       "      <td>667801013445750784</td>\n",
       "      <td>https://pbs.twimg.com/media/CUSBemVUEAAn-6V.jpg</td>\n",
       "      <td>1</td>\n",
       "      <td>flat-coated_retriever</td>\n",
       "      <td>0.508392</td>\n",
       "      <td>True</td>\n",
       "      <td>Chesapeake_Bay_retriever</td>\n",
       "      <td>0.262239</td>\n",
       "      <td>True</td>\n",
       "      <td>curly-coated_retriever</td>\n",
       "      <td>0.048920</td>\n",
       "      <td>True</td>\n",
       "    </tr>\n",
       "    <tr>\n",
       "      <th>225</th>\n",
       "      <td>670338931251150849</td>\n",
       "      <td>https://pbs.twimg.com/media/CU2FsRnVAAA3TEg.jpg</td>\n",
       "      <td>1</td>\n",
       "      <td>cairn</td>\n",
       "      <td>0.245033</td>\n",
       "      <td>True</td>\n",
       "      <td>West_Highland_white_terrier</td>\n",
       "      <td>0.137709</td>\n",
       "      <td>True</td>\n",
       "      <td>miniature_schnauzer</td>\n",
       "      <td>0.089173</td>\n",
       "      <td>True</td>\n",
       "    </tr>\n",
       "    <tr>\n",
       "      <th>1019</th>\n",
       "      <td>710140971284037632</td>\n",
       "      <td>https://pbs.twimg.com/media/Cdrtcr-W4AAqi5H.jpg</td>\n",
       "      <td>1</td>\n",
       "      <td>Pekinese</td>\n",
       "      <td>0.953170</td>\n",
       "      <td>True</td>\n",
       "      <td>papillon</td>\n",
       "      <td>0.019517</td>\n",
       "      <td>True</td>\n",
       "      <td>Japanese_spaniel</td>\n",
       "      <td>0.005821</td>\n",
       "      <td>True</td>\n",
       "    </tr>\n",
       "  </tbody>\n",
       "</table>\n",
       "</div>"
      ],
      "text/plain": [
       "                tweet_id                                          jpg_url  \\\n",
       "1064  715360349751484417  https://pbs.twimg.com/media/Ce14cOvWwAAcFJH.jpg   \n",
       "1697  816697700272001025  https://pbs.twimg.com/media/C1V-K63UAAEUHqw.jpg   \n",
       "637   681261549936340994  https://pbs.twimg.com/media/CXRTw_5WMAAUDVp.jpg   \n",
       "175   669037058363662336  https://pbs.twimg.com/media/CUjlp51WcAA1vGA.jpg   \n",
       "1042  712438159032893441  https://pbs.twimg.com/media/CeMWubMWwAA6GwF.jpg   \n",
       "275   670838202509447168  https://pbs.twimg.com/media/CU9LyIMWIAA6OOu.jpg   \n",
       "439   674436901579923456  https://pbs.twimg.com/media/CVwUyM9WwAAGDjv.jpg   \n",
       "102   667801013445750784  https://pbs.twimg.com/media/CUSBemVUEAAn-6V.jpg   \n",
       "225   670338931251150849  https://pbs.twimg.com/media/CU2FsRnVAAA3TEg.jpg   \n",
       "1019  710140971284037632  https://pbs.twimg.com/media/Cdrtcr-W4AAqi5H.jpg   \n",
       "\n",
       "      img_num                     p1   p1_conf  p1_dog  \\\n",
       "1064        1                   nail  0.855552   False   \n",
       "1697        1              Chihuahua  0.756992    True   \n",
       "637         1        Tibetan_terrier  0.382101    True   \n",
       "175         1              Chihuahua  0.803528    True   \n",
       "1042        1               ice_bear  0.869477   False   \n",
       "275         1               flamingo  0.992710   False   \n",
       "439         1           acorn_squash  0.375392   False   \n",
       "102         1  flat-coated_retriever  0.508392    True   \n",
       "225         1                  cairn  0.245033    True   \n",
       "1019        1               Pekinese  0.953170    True   \n",
       "\n",
       "                               p2   p2_conf  p2_dog                      p3  \\\n",
       "1064                        screw  0.073277   False                 padlock   \n",
       "1697                   Pomeranian  0.052850    True             Maltese_dog   \n",
       "637              miniature_poodle  0.095429    True             Maltese_dog   \n",
       "175                    Pomeranian  0.053871    True                    chow   \n",
       "1042               Great_Pyrenees  0.069457    True      Labrador_retriever   \n",
       "275                  coral_fungus  0.003491   False               stinkhorn   \n",
       "439                      Shih-Tzu  0.105416    True                   Lhasa   \n",
       "102      Chesapeake_Bay_retriever  0.262239    True  curly-coated_retriever   \n",
       "225   West_Highland_white_terrier  0.137709    True     miniature_schnauzer   \n",
       "1019                     papillon  0.019517    True        Japanese_spaniel   \n",
       "\n",
       "       p3_conf  p3_dog  \n",
       "1064  0.023970   False  \n",
       "1697  0.047608    True  \n",
       "637   0.065738    True  \n",
       "175   0.032257    True  \n",
       "1042  0.024740    True  \n",
       "275   0.001859   False  \n",
       "439   0.072832    True  \n",
       "102   0.048920    True  \n",
       "225   0.089173    True  \n",
       "1019  0.005821    True  "
      ]
     },
     "execution_count": 22,
     "metadata": {},
     "output_type": "execute_result"
    }
   ],
   "source": [
    "# Let's visually assess a sample of the image_predictions\n",
    "image_predictions.sample(10)"
   ]
  },
  {
   "cell_type": "code",
   "execution_count": 23,
   "metadata": {
    "scrolled": true
   },
   "outputs": [
    {
     "name": "stdout",
     "output_type": "stream",
     "text": [
      "<class 'pandas.core.frame.DataFrame'>\n",
      "RangeIndex: 2075 entries, 0 to 2074\n",
      "Data columns (total 12 columns):\n",
      " #   Column    Non-Null Count  Dtype  \n",
      "---  ------    --------------  -----  \n",
      " 0   tweet_id  2075 non-null   int64  \n",
      " 1   jpg_url   2075 non-null   object \n",
      " 2   img_num   2075 non-null   int64  \n",
      " 3   p1        2075 non-null   object \n",
      " 4   p1_conf   2075 non-null   float64\n",
      " 5   p1_dog    2075 non-null   bool   \n",
      " 6   p2        2075 non-null   object \n",
      " 7   p2_conf   2075 non-null   float64\n",
      " 8   p2_dog    2075 non-null   bool   \n",
      " 9   p3        2075 non-null   object \n",
      " 10  p3_conf   2075 non-null   float64\n",
      " 11  p3_dog    2075 non-null   bool   \n",
      "dtypes: bool(3), float64(3), int64(2), object(4)\n",
      "memory usage: 152.1+ KB\n"
     ]
    }
   ],
   "source": [
    "# Checking for more information on the dataframe\n",
    "image_predictions.info()"
   ]
  },
  {
   "cell_type": "code",
   "execution_count": 24,
   "metadata": {},
   "outputs": [
    {
     "data": {
      "text/html": [
       "<div>\n",
       "<style scoped>\n",
       "    .dataframe tbody tr th:only-of-type {\n",
       "        vertical-align: middle;\n",
       "    }\n",
       "\n",
       "    .dataframe tbody tr th {\n",
       "        vertical-align: top;\n",
       "    }\n",
       "\n",
       "    .dataframe thead th {\n",
       "        text-align: right;\n",
       "    }\n",
       "</style>\n",
       "<table border=\"1\" class=\"dataframe\">\n",
       "  <thead>\n",
       "    <tr style=\"text-align: right;\">\n",
       "      <th></th>\n",
       "      <th>tweet_id</th>\n",
       "      <th>img_num</th>\n",
       "      <th>p1_conf</th>\n",
       "      <th>p2_conf</th>\n",
       "      <th>p3_conf</th>\n",
       "    </tr>\n",
       "  </thead>\n",
       "  <tbody>\n",
       "    <tr>\n",
       "      <th>count</th>\n",
       "      <td>2.075000e+03</td>\n",
       "      <td>2075.000000</td>\n",
       "      <td>2075.000000</td>\n",
       "      <td>2.075000e+03</td>\n",
       "      <td>2.075000e+03</td>\n",
       "    </tr>\n",
       "    <tr>\n",
       "      <th>mean</th>\n",
       "      <td>7.384514e+17</td>\n",
       "      <td>1.203855</td>\n",
       "      <td>0.594548</td>\n",
       "      <td>1.345886e-01</td>\n",
       "      <td>6.032417e-02</td>\n",
       "    </tr>\n",
       "    <tr>\n",
       "      <th>std</th>\n",
       "      <td>6.785203e+16</td>\n",
       "      <td>0.561875</td>\n",
       "      <td>0.271174</td>\n",
       "      <td>1.006657e-01</td>\n",
       "      <td>5.090593e-02</td>\n",
       "    </tr>\n",
       "    <tr>\n",
       "      <th>min</th>\n",
       "      <td>6.660209e+17</td>\n",
       "      <td>1.000000</td>\n",
       "      <td>0.044333</td>\n",
       "      <td>1.011300e-08</td>\n",
       "      <td>1.740170e-10</td>\n",
       "    </tr>\n",
       "    <tr>\n",
       "      <th>25%</th>\n",
       "      <td>6.764835e+17</td>\n",
       "      <td>1.000000</td>\n",
       "      <td>0.364412</td>\n",
       "      <td>5.388625e-02</td>\n",
       "      <td>1.622240e-02</td>\n",
       "    </tr>\n",
       "    <tr>\n",
       "      <th>50%</th>\n",
       "      <td>7.119988e+17</td>\n",
       "      <td>1.000000</td>\n",
       "      <td>0.588230</td>\n",
       "      <td>1.181810e-01</td>\n",
       "      <td>4.944380e-02</td>\n",
       "    </tr>\n",
       "    <tr>\n",
       "      <th>75%</th>\n",
       "      <td>7.932034e+17</td>\n",
       "      <td>1.000000</td>\n",
       "      <td>0.843855</td>\n",
       "      <td>1.955655e-01</td>\n",
       "      <td>9.180755e-02</td>\n",
       "    </tr>\n",
       "    <tr>\n",
       "      <th>max</th>\n",
       "      <td>8.924206e+17</td>\n",
       "      <td>4.000000</td>\n",
       "      <td>1.000000</td>\n",
       "      <td>4.880140e-01</td>\n",
       "      <td>2.734190e-01</td>\n",
       "    </tr>\n",
       "  </tbody>\n",
       "</table>\n",
       "</div>"
      ],
      "text/plain": [
       "           tweet_id      img_num      p1_conf       p2_conf       p3_conf\n",
       "count  2.075000e+03  2075.000000  2075.000000  2.075000e+03  2.075000e+03\n",
       "mean   7.384514e+17     1.203855     0.594548  1.345886e-01  6.032417e-02\n",
       "std    6.785203e+16     0.561875     0.271174  1.006657e-01  5.090593e-02\n",
       "min    6.660209e+17     1.000000     0.044333  1.011300e-08  1.740170e-10\n",
       "25%    6.764835e+17     1.000000     0.364412  5.388625e-02  1.622240e-02\n",
       "50%    7.119988e+17     1.000000     0.588230  1.181810e-01  4.944380e-02\n",
       "75%    7.932034e+17     1.000000     0.843855  1.955655e-01  9.180755e-02\n",
       "max    8.924206e+17     4.000000     1.000000  4.880140e-01  2.734190e-01"
      ]
     },
     "execution_count": 24,
     "metadata": {},
     "output_type": "execute_result"
    }
   ],
   "source": [
    "# Let's see some statistics\n",
    "image_predictions.describe()"
   ]
  },
  {
   "cell_type": "code",
   "execution_count": 25,
   "metadata": {},
   "outputs": [
    {
     "data": {
      "text/html": [
       "<img src=\"https://pbs.twimg.com/media/CU9HyzSWIAAVcte.jpg\"/>"
      ],
      "text/plain": [
       "<IPython.core.display.Image object>"
      ]
     },
     "execution_count": 25,
     "metadata": {},
     "output_type": "execute_result"
    }
   ],
   "source": [
    "# Let´s see a image form the tweet_id=670833812859932673\n",
    "Image(url = \"https://pbs.twimg.com/media/CU9HyzSWIAAVcte.jpg\")"
   ]
  },
  {
   "cell_type": "code",
   "execution_count": 26,
   "metadata": {
    "scrolled": false
   },
   "outputs": [
    {
     "data": {
      "text/plain": [
       "0"
      ]
     },
     "execution_count": 26,
     "metadata": {},
     "output_type": "execute_result"
    }
   ],
   "source": [
    "# Checking to see if we have duplicates in the unique tweet_id\n",
    "image_predictions.tweet_id.duplicated().sum()"
   ]
  },
  {
   "cell_type": "code",
   "execution_count": 27,
   "metadata": {
    "scrolled": true
   },
   "outputs": [
    {
     "data": {
      "text/plain": [
       "66"
      ]
     },
     "execution_count": 27,
     "metadata": {},
     "output_type": "execute_result"
    }
   ],
   "source": [
    "# Checking to see if we have duplicates in the image url\n",
    "image_predictions.jpg_url.duplicated().sum()"
   ]
  },
  {
   "cell_type": "code",
   "execution_count": 28,
   "metadata": {},
   "outputs": [
    {
     "data": {
      "text/plain": [
       "array([1, 4, 2, 3], dtype=int64)"
      ]
     },
     "execution_count": 28,
     "metadata": {},
     "output_type": "execute_result"
    }
   ],
   "source": [
    "# Let's see how many numbers of images are contained\n",
    "image_predictions.img_num.unique()"
   ]
  },
  {
   "cell_type": "code",
   "execution_count": 29,
   "metadata": {
    "scrolled": true
   },
   "outputs": [
    {
     "data": {
      "text/plain": [
       "golden_retriever      150\n",
       "Labrador_retriever    100\n",
       "Pembroke               89\n",
       "Chihuahua              83\n",
       "pug                    57\n",
       "                     ... \n",
       "pillow                  1\n",
       "carousel                1\n",
       "bald_eagle              1\n",
       "lorikeet                1\n",
       "orange                  1\n",
       "Name: p1, Length: 378, dtype: int64"
      ]
     },
     "execution_count": 29,
     "metadata": {},
     "output_type": "execute_result"
    }
   ],
   "source": [
    "# Let's see the count of the different dog types from the first prediction\n",
    "image_predictions.p1.value_counts()"
   ]
  },
  {
   "cell_type": "code",
   "execution_count": 30,
   "metadata": {},
   "outputs": [
    {
     "data": {
      "text/plain": [
       "Labrador_retriever    104\n",
       "golden_retriever       92\n",
       "Cardigan               73\n",
       "Chihuahua              44\n",
       "Pomeranian             42\n",
       "                     ... \n",
       "medicine_chest          1\n",
       "quail                   1\n",
       "horse_cart              1\n",
       "waffle_iron             1\n",
       "bagel                   1\n",
       "Name: p2, Length: 405, dtype: int64"
      ]
     },
     "execution_count": 30,
     "metadata": {},
     "output_type": "execute_result"
    }
   ],
   "source": [
    "# Let's see the count of the different dog types from the second prediction\n",
    "image_predictions.p2.value_counts()"
   ]
  },
  {
   "cell_type": "code",
   "execution_count": 31,
   "metadata": {},
   "outputs": [
    {
     "data": {
      "text/plain": [
       "Labrador_retriever    79\n",
       "Chihuahua             58\n",
       "golden_retriever      48\n",
       "Eskimo_dog            38\n",
       "kelpie                35\n",
       "                      ..\n",
       "ox                     1\n",
       "assault_rifle          1\n",
       "axolotl                1\n",
       "pot                    1\n",
       "banana                 1\n",
       "Name: p3, Length: 408, dtype: int64"
      ]
     },
     "execution_count": 31,
     "metadata": {},
     "output_type": "execute_result"
    }
   ],
   "source": [
    "# Let's see the count of the different dog types from the third prediction\n",
    "image_predictions.p3.value_counts()"
   ]
  },
  {
   "cell_type": "code",
   "execution_count": 32,
   "metadata": {},
   "outputs": [
    {
     "data": {
      "text/plain": [
       "['Welsh_springer_spaniel',\n",
       " 'redbone',\n",
       " 'German_shepherd',\n",
       " 'Rhodesian_ridgeback',\n",
       " 'miniature_pinscher',\n",
       " 'Bernese_mountain_dog',\n",
       " 'box_turtle',\n",
       " 'chow',\n",
       " 'shopping_cart',\n",
       " 'miniature_poodle',\n",
       " 'golden_retriever',\n",
       " 'Gordon_setter',\n",
       " 'Walker_hound',\n",
       " 'pug',\n",
       " 'bloodhound',\n",
       " 'Lhasa',\n",
       " 'English_setter',\n",
       " 'hen',\n",
       " 'desktop_computer',\n",
       " 'Italian_greyhound',\n",
       " 'Maltese_dog',\n",
       " 'three-toed_sloth',\n",
       " 'ox',\n",
       " 'malamute',\n",
       " 'guinea_pig',\n",
       " 'soft-coated_wheaten_terrier',\n",
       " 'Chihuahua',\n",
       " 'black-and-tan_coonhound',\n",
       " 'coho',\n",
       " 'toy_terrier',\n",
       " 'Blenheim_spaniel',\n",
       " 'Pembroke',\n",
       " 'llama',\n",
       " 'Chesapeake_Bay_retriever',\n",
       " 'curly-coated_retriever',\n",
       " 'dalmatian',\n",
       " 'Ibizan_hound',\n",
       " 'Border_collie',\n",
       " 'Labrador_retriever',\n",
       " 'seat_belt',\n",
       " 'snail',\n",
       " 'miniature_schnauzer',\n",
       " 'Airedale',\n",
       " 'triceratops',\n",
       " 'swab',\n",
       " 'hay',\n",
       " 'hyena',\n",
       " 'jigsaw_puzzle',\n",
       " 'West_Highland_white_terrier',\n",
       " 'toy_poodle',\n",
       " 'giant_schnauzer',\n",
       " 'vizsla',\n",
       " 'vacuum',\n",
       " 'Rottweiler',\n",
       " 'Siberian_husky',\n",
       " 'teddy',\n",
       " 'papillon',\n",
       " 'Saint_Bernard',\n",
       " 'porcupine',\n",
       " 'goose',\n",
       " 'Tibetan_terrier',\n",
       " 'borzoi',\n",
       " 'beagle',\n",
       " 'hare',\n",
       " 'Yorkshire_terrier',\n",
       " 'Pomeranian',\n",
       " 'electric_fan',\n",
       " 'web_site',\n",
       " 'ibex',\n",
       " 'kuvasz',\n",
       " 'fire_engine',\n",
       " 'lorikeet',\n",
       " 'flat-coated_retriever',\n",
       " 'toyshop',\n",
       " 'common_iguana',\n",
       " 'Norwegian_elkhound',\n",
       " 'frilled_lizard',\n",
       " 'leatherback_turtle',\n",
       " 'hamster',\n",
       " 'Angora',\n",
       " 'Arctic_fox',\n",
       " 'trombone',\n",
       " 'canoe',\n",
       " 'king_penguin',\n",
       " 'shopping_basket',\n",
       " 'standard_poodle',\n",
       " 'Staffordshire_bullterrier',\n",
       " 'basenji',\n",
       " 'Lakeland_terrier',\n",
       " 'American_Staffordshire_terrier',\n",
       " 'bearskin',\n",
       " 'Shih-Tzu',\n",
       " 'bustard',\n",
       " 'crash_helmet',\n",
       " 'French_bulldog',\n",
       " 'Pekinese',\n",
       " 'komondor',\n",
       " 'ski_mask',\n",
       " 'malinois',\n",
       " 'kelpie',\n",
       " 'Brittany_spaniel',\n",
       " 'cocker_spaniel',\n",
       " 'shower_curtain',\n",
       " 'basset',\n",
       " 'jellyfish',\n",
       " 'doormat',\n",
       " 'Arabian_camel',\n",
       " 'lynx',\n",
       " 'hog',\n",
       " 'comic_book',\n",
       " 'minivan',\n",
       " 'seashore',\n",
       " 'cuirass',\n",
       " 'Brabancon_griffon',\n",
       " 'candle',\n",
       " 'Eskimo_dog',\n",
       " 'weasel',\n",
       " 'Christmas_stocking',\n",
       " 'washbasin',\n",
       " 'car_mirror',\n",
       " 'piggy_bank',\n",
       " 'pot',\n",
       " 'boathouse',\n",
       " 'mud_turtle',\n",
       " 'German_short-haired_pointer',\n",
       " 'Shetland_sheepdog',\n",
       " 'Irish_terrier',\n",
       " 'cairn',\n",
       " 'platypus',\n",
       " 'English_springer',\n",
       " 'whippet',\n",
       " 'ping-pong_ball',\n",
       " 'sea_urchin',\n",
       " 'bow_tie',\n",
       " 'window_shade',\n",
       " \"jack-o'-lantern\",\n",
       " 'sorrel',\n",
       " 'Sussex_spaniel',\n",
       " 'peacock',\n",
       " 'axolotl',\n",
       " 'wool',\n",
       " 'banana',\n",
       " 'Dandie_Dinmont',\n",
       " 'Norwich_terrier',\n",
       " 'wood_rabbit',\n",
       " 'dhole',\n",
       " 'keeshond',\n",
       " 'Norfolk_terrier',\n",
       " 'lacewing',\n",
       " 'dingo',\n",
       " 'brown_bear',\n",
       " 'Old_English_sheepdog',\n",
       " 'scorpion',\n",
       " 'flamingo',\n",
       " 'microphone',\n",
       " 'Samoyed',\n",
       " 'pitcher',\n",
       " 'African_hunting_dog',\n",
       " 'refrigerator',\n",
       " 'picket_fence',\n",
       " 'tub',\n",
       " 'zebra',\n",
       " 'hermit_crab',\n",
       " 'swing',\n",
       " 'Doberman',\n",
       " 'park_bench',\n",
       " 'feather_boa',\n",
       " 'Loafer',\n",
       " 'stone_wall',\n",
       " 'ice_bear',\n",
       " 'prayer_rug',\n",
       " 'chimpanzee',\n",
       " 'china_cabinet',\n",
       " 'bee_eater',\n",
       " 'tennis_ball',\n",
       " 'carton',\n",
       " 'killer_whale',\n",
       " 'ostrich',\n",
       " 'terrapin',\n",
       " 'Siamese_cat',\n",
       " 'gondola',\n",
       " 'Great_Pyrenees',\n",
       " 'microwave',\n",
       " 'starfish',\n",
       " 'sandbar',\n",
       " 'tusker',\n",
       " 'motor_scooter',\n",
       " 'ram',\n",
       " 'leaf_beetle',\n",
       " 'wombat',\n",
       " 'schipperke',\n",
       " 'Newfoundland',\n",
       " 'bull_mastiff',\n",
       " 'water_bottle',\n",
       " 'suit',\n",
       " 'toilet_seat',\n",
       " 'collie',\n",
       " 'robin',\n",
       " 'Cardigan',\n",
       " 'Greater_Swiss_Mountain_dog',\n",
       " 'slug',\n",
       " 'toilet_tissue',\n",
       " 'acorn_squash',\n",
       " 'soccer_ball',\n",
       " 'African_crocodile',\n",
       " 'tick',\n",
       " 'ocarina',\n",
       " 'boxer',\n",
       " 'street_sign',\n",
       " 'bow',\n",
       " 'stove',\n",
       " 'paper_towel',\n",
       " 'upright',\n",
       " 'dough',\n",
       " 'Scottish_deerhound',\n",
       " 'bath_towel',\n",
       " 'standard_schnauzer',\n",
       " 'walking_stick',\n",
       " 'Irish_water_spaniel',\n",
       " 'bubble',\n",
       " 'Boston_bull',\n",
       " 'book_jacket',\n",
       " 'rain_barrel',\n",
       " 'black-footed_ferret',\n",
       " 'guenon',\n",
       " 'Japanese_spaniel',\n",
       " 'water_buffalo',\n",
       " 'patio',\n",
       " 'cowboy_hat',\n",
       " 'dogsled',\n",
       " 'maze',\n",
       " 'harp',\n",
       " 'panpipe',\n",
       " 'cash_machine',\n",
       " 'mailbox',\n",
       " 'wallaby',\n",
       " 'EntleBucher',\n",
       " 'earthstar',\n",
       " 'pillow',\n",
       " 'bluetick',\n",
       " 'space_heater',\n",
       " 'carousel',\n",
       " 'Irish_setter',\n",
       " 'birdhouse',\n",
       " 'snorkel',\n",
       " 'bald_eagle',\n",
       " 'koala',\n",
       " 'Leonberg',\n",
       " 'cheetah',\n",
       " 'minibus',\n",
       " 'Weimaraner',\n",
       " 'clog',\n",
       " 'dishwasher',\n",
       " 'white_wolf',\n",
       " 'sliding_door',\n",
       " 'damselfly',\n",
       " 'Great_Dane',\n",
       " 'Tibetan_mastiff',\n",
       " 'cheeseburger',\n",
       " 'fiddler_crab',\n",
       " 'bannister',\n",
       " 'crane',\n",
       " 'Scotch_terrier',\n",
       " 'snowmobile',\n",
       " 'badger',\n",
       " 'bighorn',\n",
       " 'geyser',\n",
       " 'barrow',\n",
       " 'bison',\n",
       " 'Mexican_hairless',\n",
       " 'ice_lolly',\n",
       " 'sea_lion',\n",
       " 'dining_table',\n",
       " 'groenendael',\n",
       " 'Australian_terrier',\n",
       " 'beaver',\n",
       " 'briard',\n",
       " 'Appenzeller',\n",
       " 'grey_fox',\n",
       " 'mousetrap',\n",
       " 'hippopotamus',\n",
       " 'Border_terrier',\n",
       " 'hummingbird',\n",
       " 'tailed_frog',\n",
       " 'otter',\n",
       " 'Egyptian_cat',\n",
       " 'four-poster',\n",
       " 'wild_boar',\n",
       " 'bathtub',\n",
       " 'agama',\n",
       " 'muzzle',\n",
       " 'hotdog',\n",
       " 'bib',\n",
       " 'espresso',\n",
       " 'timber_wolf',\n",
       " 'meerkat',\n",
       " 'nail',\n",
       " 'hammer',\n",
       " 'home_theater',\n",
       " 'alp',\n",
       " 'bonnet',\n",
       " 'handkerchief',\n",
       " 'hand_blower',\n",
       " 'polecat',\n",
       " 'lakeside',\n",
       " 'studio_couch',\n",
       " 'cup',\n",
       " 'cliff',\n",
       " 'Bedlington_terrier',\n",
       " 'lawn_mower',\n",
       " 'balloon',\n",
       " 'sunglasses',\n",
       " 'rapeseed',\n",
       " 'traffic_light',\n",
       " 'coil',\n",
       " 'binoculars',\n",
       " 'paddle',\n",
       " 'tiger_shark',\n",
       " 'sulphur-crested_cockatoo',\n",
       " 'wire-haired_fox_terrier',\n",
       " 'Saluki',\n",
       " 'American_black_bear',\n",
       " 'rotisserie',\n",
       " 'conch',\n",
       " 'skunk',\n",
       " 'bookshop',\n",
       " 'radio_telescope',\n",
       " 'cougar',\n",
       " 'African_grey',\n",
       " 'coral_reef',\n",
       " 'lion',\n",
       " 'maillot',\n",
       " 'Madagascar_cat',\n",
       " 'tabby',\n",
       " 'silky_terrier',\n",
       " 'giant_panda',\n",
       " 'long-horned_beetle',\n",
       " 'Afghan_hound',\n",
       " 'clumber',\n",
       " 'sundial',\n",
       " 'padlock',\n",
       " 'pool_table',\n",
       " 'quilt',\n",
       " 'beach_wagon',\n",
       " 'remote_control',\n",
       " 'bakery',\n",
       " 'pedestal',\n",
       " 'gas_pump',\n",
       " 'bookcase',\n",
       " 'shield',\n",
       " 'loupe',\n",
       " 'restaurant',\n",
       " 'prison',\n",
       " 'school_bus',\n",
       " 'cowboy_boot',\n",
       " 'jersey',\n",
       " 'wooden_spoon',\n",
       " 'leopard',\n",
       " 'mortarboard',\n",
       " 'teapot',\n",
       " 'military_uniform',\n",
       " 'washer',\n",
       " 'coffee_mug',\n",
       " 'fountain',\n",
       " 'pencil_box',\n",
       " 'barbell',\n",
       " 'grille',\n",
       " 'revolver',\n",
       " 'envelope',\n",
       " 'syringe',\n",
       " 'marmot',\n",
       " 'pole',\n",
       " 'laptop',\n",
       " 'basketball',\n",
       " 'tricycle',\n",
       " 'convertible',\n",
       " 'limousine',\n",
       " 'orange']"
      ]
     },
     "execution_count": 32,
     "metadata": {},
     "output_type": "execute_result"
    }
   ],
   "source": [
    "# Let's see the unique list of dog types from the first prediction\n",
    "list(image_predictions.p1.unique())"
   ]
  },
  {
   "cell_type": "code",
   "execution_count": 33,
   "metadata": {},
   "outputs": [
    {
     "data": {
      "text/plain": [
       "['collie',\n",
       " 'miniature_pinscher',\n",
       " 'malinois',\n",
       " 'redbone',\n",
       " 'Rottweiler',\n",
       " 'English_springer',\n",
       " 'mud_turtle',\n",
       " 'Tibetan_mastiff',\n",
       " 'shopping_basket',\n",
       " 'komondor',\n",
       " 'Yorkshire_terrier',\n",
       " 'English_foxhound',\n",
       " 'bull_mastiff',\n",
       " 'German_shepherd',\n",
       " 'Shih-Tzu',\n",
       " 'Newfoundland',\n",
       " 'cock',\n",
       " 'desk',\n",
       " 'toy_terrier',\n",
       " 'toy_poodle',\n",
       " 'otter',\n",
       " 'Chesapeake_Bay_retriever',\n",
       " 'Siberian_husky',\n",
       " 'skunk',\n",
       " 'Afghan_hound',\n",
       " 'bloodhound',\n",
       " 'barracouta',\n",
       " 'papillon',\n",
       " 'cocker_spaniel',\n",
       " 'chow',\n",
       " 'Irish_terrier',\n",
       " 'chain_saw',\n",
       " 'beagle',\n",
       " 'giant_schnauzer',\n",
       " 'Labrador_retriever',\n",
       " 'Pembroke',\n",
       " 'Chihuahua',\n",
       " 'Weimaraner',\n",
       " 'slug',\n",
       " 'Brittany_spaniel',\n",
       " 'standard_schnauzer',\n",
       " 'teddy',\n",
       " 'armadillo',\n",
       " 'African_hunting_dog',\n",
       " 'vizsla',\n",
       " 'doormat',\n",
       " 'pug',\n",
       " 'Italian_greyhound',\n",
       " 'Samoyed',\n",
       " 'Pomeranian',\n",
       " 'miniature_poodle',\n",
       " 'Lakeland_terrier',\n",
       " 'Irish_setter',\n",
       " 'swab',\n",
       " 'malamute',\n",
       " 'bath_towel',\n",
       " 'Border_collie',\n",
       " 'Leonberg',\n",
       " 'drake',\n",
       " 'French_bulldog',\n",
       " 'ice_bear',\n",
       " 'Christmas_stocking',\n",
       " 'golden_retriever',\n",
       " 'standard_poodle',\n",
       " 'dhole',\n",
       " 'kuvasz',\n",
       " 'Cardigan',\n",
       " 'silky_terrier',\n",
       " 'spotlight',\n",
       " 'dishwasher',\n",
       " 'bighorn',\n",
       " 'tow_truck',\n",
       " 'hummingbird',\n",
       " 'English_setter',\n",
       " 'prayer_rug',\n",
       " 'frilled_lizard',\n",
       " 'Pekinese',\n",
       " 'ox',\n",
       " 'boxer',\n",
       " 'hog',\n",
       " 'guinea_pig',\n",
       " 'hen',\n",
       " 'wallaby',\n",
       " 'cowboy_boot',\n",
       " 'cornet',\n",
       " 'minivan',\n",
       " 'paddle',\n",
       " 'basset',\n",
       " 'hamper',\n",
       " 'Bedlington_terrier',\n",
       " 'Shetland_sheepdog',\n",
       " 'bow',\n",
       " 'Lhasa',\n",
       " 'pelican',\n",
       " 'toaster',\n",
       " 'groenendael',\n",
       " 'Australian_terrier',\n",
       " 'llama',\n",
       " 'knee_pad',\n",
       " 'pillow',\n",
       " 'Ibizan_hound',\n",
       " 'Old_English_sheepdog',\n",
       " 'Welsh_springer_spaniel',\n",
       " 'coral_reef',\n",
       " 'bison',\n",
       " 'waffle_iron',\n",
       " 'tabby',\n",
       " 'bib',\n",
       " 'police_van',\n",
       " 'Eskimo_dog',\n",
       " 'breastplate',\n",
       " 'German_short-haired_pointer',\n",
       " 'Norfolk_terrier',\n",
       " 'Blenheim_spaniel',\n",
       " 'pickup',\n",
       " 'miniature_schnauzer',\n",
       " 'lampshade',\n",
       " 'Tibetan_terrier',\n",
       " 'Siamese_cat',\n",
       " 'borzoi',\n",
       " 'studio_couch',\n",
       " 'toilet_seat',\n",
       " 'hamster',\n",
       " 'seat_belt',\n",
       " 'keeshond',\n",
       " 'koala',\n",
       " 'hair_spray',\n",
       " 'Saint_Bernard',\n",
       " 'tray',\n",
       " 'American_Staffordshire_terrier',\n",
       " 'birdhouse',\n",
       " 'terrapin',\n",
       " 'Staffordshire_bullterrier',\n",
       " 'briard',\n",
       " 'West_Highland_white_terrier',\n",
       " 'spotted_salamander',\n",
       " 'tennis_ball',\n",
       " 'porcupine',\n",
       " 'cardigan',\n",
       " 'corn',\n",
       " 'basenji',\n",
       " 'otterhound',\n",
       " 'European_gallinule',\n",
       " 'indri',\n",
       " 'tailed_frog',\n",
       " 'beach_wagon',\n",
       " 'siamang',\n",
       " 'orange',\n",
       " 'home_theater',\n",
       " 'cairn',\n",
       " 'hare',\n",
       " 'Norwegian_elkhound',\n",
       " 'Brabancon_griffon',\n",
       " 'American_black_bear',\n",
       " 'sulphur_butterfly',\n",
       " 'Sealyham_terrier',\n",
       " 'Walker_hound',\n",
       " 'tarantula',\n",
       " 'Persian_cat',\n",
       " 'coral_fungus',\n",
       " 'accordion',\n",
       " 'kelpie',\n",
       " 'Great_Pyrenees',\n",
       " 'wood_rabbit',\n",
       " 'black-and-tan_coonhound',\n",
       " 'sunglasses',\n",
       " 'plow',\n",
       " 'whippet',\n",
       " 'rain_barrel',\n",
       " 'bathtub',\n",
       " 'tiger',\n",
       " 'snail',\n",
       " 'tick',\n",
       " 'wire-haired_fox_terrier',\n",
       " 'water_bottle',\n",
       " 'wig',\n",
       " 'platypus',\n",
       " 'Irish_wolfhound',\n",
       " 'ram',\n",
       " 'gorilla',\n",
       " 'entertainment_center',\n",
       " 'toucan',\n",
       " 'mask',\n",
       " 'shopping_cart',\n",
       " 'Sussex_spaniel',\n",
       " 'crate',\n",
       " 'grey_whale',\n",
       " 'badger',\n",
       " 'Airedale',\n",
       " 'Arabian_camel',\n",
       " 'cockroach',\n",
       " 'lifeboat',\n",
       " 'rotisserie',\n",
       " 'goldfish',\n",
       " 'stingray',\n",
       " 'warthog',\n",
       " 'bobsled',\n",
       " 'rhinoceros_beetle',\n",
       " 'beaver',\n",
       " 'brown_bear',\n",
       " 'Maltese_dog',\n",
       " 'weasel',\n",
       " 'quill',\n",
       " 'Rhodesian_ridgeback',\n",
       " 'Arctic_fox',\n",
       " 'ashcan',\n",
       " 'bow_tie',\n",
       " 'soft-coated_wheaten_terrier',\n",
       " 'schipperke',\n",
       " 'bearskin',\n",
       " 'Kerry_blue_terrier',\n",
       " 'ice_lolly',\n",
       " 'American_alligator',\n",
       " 'mosquito_net',\n",
       " 'sea_lion',\n",
       " 'Boston_bull',\n",
       " 'nail',\n",
       " 'black-footed_ferret',\n",
       " 'promontory',\n",
       " 'sarong',\n",
       " 'Doberman',\n",
       " 'space_heater',\n",
       " 'Great_Dane',\n",
       " 'mailbox',\n",
       " 'Saluki',\n",
       " 'bakery',\n",
       " 'sandal',\n",
       " 'leafhopper',\n",
       " 'barrel',\n",
       " 'water_buffalo',\n",
       " 'polecat',\n",
       " 'macaque',\n",
       " 'Japanese_spaniel',\n",
       " 'folding_chair',\n",
       " 'trench_coat',\n",
       " 'Angora',\n",
       " 'junco',\n",
       " 'crib',\n",
       " 'dalmatian',\n",
       " 'snowmobile',\n",
       " 'flat-coated_retriever',\n",
       " 'streetcar',\n",
       " 'window_screen',\n",
       " 'bannister',\n",
       " 'hair_slide',\n",
       " 'meerkat',\n",
       " 'cannon',\n",
       " 'jaguar',\n",
       " 'Border_terrier',\n",
       " 'Greater_Swiss_Mountain_dog',\n",
       " 'hay',\n",
       " 'apron',\n",
       " 'cloak',\n",
       " 'radiator',\n",
       " 'muzzle',\n",
       " 'feather_boa',\n",
       " 'rifle',\n",
       " 'chimpanzee',\n",
       " 'loggerhead',\n",
       " 'torch',\n",
       " 'Mexican_hairless',\n",
       " 'spindle',\n",
       " 'triceratops',\n",
       " 'Appenzeller',\n",
       " 'stove',\n",
       " 'dingo',\n",
       " 'oscilloscope',\n",
       " 'common_newt',\n",
       " 'hotdog',\n",
       " 'medicine_chest',\n",
       " 'quail',\n",
       " 'horse_cart',\n",
       " 'four-poster',\n",
       " 'pier',\n",
       " 'red_fox',\n",
       " 'affenpinscher',\n",
       " 'assault_rifle',\n",
       " 'mashed_potato',\n",
       " 'moped',\n",
       " 'hyena',\n",
       " 'seashore',\n",
       " 'tub',\n",
       " 'sports_car',\n",
       " 'swing',\n",
       " 'mink',\n",
       " 'bluetick',\n",
       " 'neck_brace',\n",
       " 'grey_fox',\n",
       " 'mongoose',\n",
       " 'fur_coat',\n",
       " 'Scotch_terrier',\n",
       " 'spatula',\n",
       " 'paper_towel',\n",
       " 'shoji',\n",
       " 'toyshop',\n",
       " 'banded_gecko',\n",
       " 'peacock',\n",
       " 'crossword_puzzle',\n",
       " 'tree_frog',\n",
       " 'wombat',\n",
       " 'turnstile',\n",
       " 'sleeping_bag',\n",
       " 'quilt',\n",
       " 'Gila_monster',\n",
       " 'giant_panda',\n",
       " 'Dandie_Dinmont',\n",
       " 'handkerchief',\n",
       " 'sombrero',\n",
       " 'Indian_elephant',\n",
       " 'coffee_mug',\n",
       " 'gibbon',\n",
       " 'carton',\n",
       " 'screw',\n",
       " 'minibus',\n",
       " 'hatchet',\n",
       " 'window_shade',\n",
       " 'lawn_mower',\n",
       " 'washbasin',\n",
       " 'sock',\n",
       " 'prison',\n",
       " 'patio',\n",
       " 'china_cabinet',\n",
       " 'chain_mail',\n",
       " 'breakwater',\n",
       " 'computer_keyboard',\n",
       " 'goose',\n",
       " 'lakeside',\n",
       " 'solar_dish',\n",
       " 'table_lamp',\n",
       " 'Windsor_tie',\n",
       " 'punching_bag',\n",
       " 'comic_book',\n",
       " 'sunglass',\n",
       " 'great_white_shark',\n",
       " 'timber_wolf',\n",
       " 'fountain',\n",
       " 'dugong',\n",
       " 'marmot',\n",
       " 'barbershop',\n",
       " 'shovel',\n",
       " 'curly-coated_retriever',\n",
       " 'lesser_panda',\n",
       " 'monitor',\n",
       " 'crutch',\n",
       " 'cash_machine',\n",
       " 'printer',\n",
       " 'volcano',\n",
       " 'wallet',\n",
       " 'laptop',\n",
       " 'bathing_cap',\n",
       " 'confectionery',\n",
       " 'dam',\n",
       " 'killer_whale',\n",
       " 'canoe',\n",
       " 'Madagascar_cat',\n",
       " 'jean',\n",
       " 'boathouse',\n",
       " 'cliff',\n",
       " 'maillot',\n",
       " 'iPod',\n",
       " 'hand-held_computer',\n",
       " 'black_widow',\n",
       " 'Norwich_terrier',\n",
       " 'necklace',\n",
       " 'dining_table',\n",
       " 'binoculars',\n",
       " 'cradle',\n",
       " 'sea_urchin',\n",
       " 'cougar',\n",
       " 'EntleBucher',\n",
       " 'basketball',\n",
       " 'lighter',\n",
       " 'saltshaker',\n",
       " 'harvester',\n",
       " 'television',\n",
       " 'envelope',\n",
       " 'house_finch',\n",
       " 'web_site',\n",
       " 'palace',\n",
       " 'shower_curtain',\n",
       " 'cab',\n",
       " 'snorkel',\n",
       " 'jigsaw_puzzle',\n",
       " 'sweatshirt',\n",
       " 'white_wolf',\n",
       " 'sliding_door',\n",
       " 'academic_gown',\n",
       " 'cowboy_hat',\n",
       " 'can_opener',\n",
       " 'cup',\n",
       " 'rule',\n",
       " 'soccer_ball',\n",
       " 'bucket',\n",
       " 'racket',\n",
       " 'menu',\n",
       " 'purse',\n",
       " 'Bernese_mountain_dog',\n",
       " 'dumbbell',\n",
       " 'projectile',\n",
       " 'dock',\n",
       " 'oxygen_mask',\n",
       " 'sandbar',\n",
       " 'umbrella',\n",
       " 'shower_cap',\n",
       " 'bagel']"
      ]
     },
     "execution_count": 33,
     "metadata": {},
     "output_type": "execute_result"
    }
   ],
   "source": [
    "# Let's see the unique list of dog types from the second prediction\n",
    "list(image_predictions.p2.unique())"
   ]
  },
  {
   "cell_type": "code",
   "execution_count": 34,
   "metadata": {},
   "outputs": [
    {
     "data": {
      "text/plain": [
       "['Shetland_sheepdog',\n",
       " 'Rhodesian_ridgeback',\n",
       " 'bloodhound',\n",
       " 'miniature_pinscher',\n",
       " 'Doberman',\n",
       " 'Greater_Swiss_Mountain_dog',\n",
       " 'terrapin',\n",
       " 'fur_coat',\n",
       " 'golden_retriever',\n",
       " 'soft-coated_wheaten_terrier',\n",
       " 'Labrador_retriever',\n",
       " 'Pekinese',\n",
       " 'Ibizan_hound',\n",
       " 'French_bulldog',\n",
       " 'malinois',\n",
       " 'Dandie_Dinmont',\n",
       " 'borzoi',\n",
       " 'partridge',\n",
       " 'bookcase',\n",
       " 'basenji',\n",
       " 'miniature_poodle',\n",
       " 'great_grey_owl',\n",
       " 'groenendael',\n",
       " 'Eskimo_dog',\n",
       " 'hamster',\n",
       " 'briard',\n",
       " 'papillon',\n",
       " 'flat-coated_retriever',\n",
       " 'gar',\n",
       " 'Chihuahua',\n",
       " 'Shih-Tzu',\n",
       " 'Pomeranian',\n",
       " 'dingo',\n",
       " 'power_drill',\n",
       " 'Saluki',\n",
       " 'Great_Pyrenees',\n",
       " 'West_Highland_white_terrier',\n",
       " 'collie',\n",
       " 'toy_poodle',\n",
       " 'vizsla',\n",
       " 'acorn',\n",
       " 'giant_schnauzer',\n",
       " 'teddy',\n",
       " 'common_iguana',\n",
       " 'wig',\n",
       " 'water_buffalo',\n",
       " 'coyote',\n",
       " 'seat_belt',\n",
       " 'kelpie',\n",
       " 'space_heater',\n",
       " 'Brabancon_griffon',\n",
       " 'standard_poodle',\n",
       " 'beagle',\n",
       " 'Irish_water_spaniel',\n",
       " 'bluetick',\n",
       " 'Weimaraner',\n",
       " 'Chesapeake_Bay_retriever',\n",
       " 'toilet_tissue',\n",
       " 'black-and-tan_coonhound',\n",
       " 'kuvasz',\n",
       " 'Christmas_stocking',\n",
       " 'badger',\n",
       " 'hen',\n",
       " 'Staffordshire_bullterrier',\n",
       " 'Yorkshire_terrier',\n",
       " 'Lakeland_terrier',\n",
       " 'weasel',\n",
       " 'ski_mask',\n",
       " 'cocker_spaniel',\n",
       " 'Australian_terrier',\n",
       " 'lampshade',\n",
       " 'oscilloscope',\n",
       " 'ram',\n",
       " 'jeep',\n",
       " 'ice_bear',\n",
       " 'African_grey',\n",
       " 'Great_Dane',\n",
       " 'curly-coated_retriever',\n",
       " 'doormat',\n",
       " 'African_chameleon',\n",
       " 'schipperke',\n",
       " 'muzzle',\n",
       " 'triceratops',\n",
       " 'Newfoundland',\n",
       " 'Band_Aid',\n",
       " 'wood_rabbit',\n",
       " 'white_wolf',\n",
       " 'giant_panda',\n",
       " 'Welsh_springer_spaniel',\n",
       " 'French_horn',\n",
       " 'toy_terrier',\n",
       " 'Pembroke',\n",
       " 'Cardigan',\n",
       " 'bassinet',\n",
       " 'pug',\n",
       " 'Afghan_hound',\n",
       " 'American_Staffordshire_terrier',\n",
       " 'whippet',\n",
       " 'English_setter',\n",
       " 'panpipe',\n",
       " 'crane',\n",
       " 'mouse',\n",
       " 'titi',\n",
       " 'Angora',\n",
       " 'Boston_bull',\n",
       " 'silky_terrier',\n",
       " 'Japanese_spaniel',\n",
       " 'sandbar',\n",
       " 'balance_beam',\n",
       " 'black-footed_ferret',\n",
       " 'miniature_schnauzer',\n",
       " 'Blenheim_spaniel',\n",
       " 'bathtub',\n",
       " 'Saint_Bernard',\n",
       " 'redbone',\n",
       " 'goldfish',\n",
       " 'Norfolk_terrier',\n",
       " 'llama',\n",
       " 'koala',\n",
       " 'pillow',\n",
       " 'jersey',\n",
       " 'chow',\n",
       " 'minibus',\n",
       " 'malamute',\n",
       " 'bulletproof_vest',\n",
       " 'beach_wagon',\n",
       " 'cairn',\n",
       " 'plunger',\n",
       " 'paper_towel',\n",
       " 'wing',\n",
       " 'English_foxhound',\n",
       " 'Brittany_spaniel',\n",
       " 'bolete',\n",
       " 'ashcan',\n",
       " 'box_turtle',\n",
       " 'guinea_pig',\n",
       " 'bison',\n",
       " 'bull_mastiff',\n",
       " 'racket',\n",
       " 'cardoon',\n",
       " 'Tibetan_mastiff',\n",
       " 'window_screen',\n",
       " 'Irish_terrier',\n",
       " 'agama',\n",
       " 'common_newt',\n",
       " 'car_wheel',\n",
       " 'gorilla',\n",
       " 'bagel',\n",
       " 'clumber',\n",
       " 'Egyptian_cat',\n",
       " 'television',\n",
       " 'boxer',\n",
       " 'brown_bear',\n",
       " 'leafhopper',\n",
       " 'German_shepherd',\n",
       " 'Border_collie',\n",
       " 'menu',\n",
       " 'wolf_spider',\n",
       " 'bathing_cap',\n",
       " 'stinkhorn',\n",
       " 'drumstick',\n",
       " 'mask',\n",
       " 'Scottish_deerhound',\n",
       " 'shower_curtain',\n",
       " 'Appenzeller',\n",
       " 'plastic_bag',\n",
       " 'swimming_trunks',\n",
       " 'prairie_chicken',\n",
       " 'red_wolf',\n",
       " 'Maltese_dog',\n",
       " 'snail',\n",
       " 'gibbon',\n",
       " 'Gordon_setter',\n",
       " 'black_swan',\n",
       " 'beacon',\n",
       " 'wool',\n",
       " 'cowboy_boot',\n",
       " 'Rottweiler',\n",
       " 'poncho',\n",
       " 'swing',\n",
       " 'Arctic_fox',\n",
       " 'bib',\n",
       " 'Italian_greyhound',\n",
       " 'steam_locomotive',\n",
       " 'fountain',\n",
       " 'chickadee',\n",
       " 'abaya',\n",
       " 'Border_terrier',\n",
       " 'bubble',\n",
       " 'chimpanzee',\n",
       " 'hammerhead',\n",
       " 'Norwegian_elkhound',\n",
       " 'Norwich_terrier',\n",
       " 'Airedale',\n",
       " 'Siamese_cat',\n",
       " 'sea_cucumber',\n",
       " 'seashore',\n",
       " 'nipple',\n",
       " 'moped',\n",
       " 'Arabian_camel',\n",
       " 'crayfish',\n",
       " 'wallaby',\n",
       " 'wire-haired_fox_terrier',\n",
       " 'toilet_seat',\n",
       " 'Old_English_sheepdog',\n",
       " 'pajama',\n",
       " 'Walker_hound',\n",
       " 'shovel',\n",
       " 'bucket',\n",
       " 'Sealyham_terrier',\n",
       " 'Windsor_tie',\n",
       " 'Siberian_husky',\n",
       " 'quill',\n",
       " 'Persian_cat',\n",
       " 'European_fire_salamander',\n",
       " 'three-toed_sloth',\n",
       " 'swab',\n",
       " 'echidna',\n",
       " 'tennis_ball',\n",
       " 'Lhasa',\n",
       " 'coral_reef',\n",
       " 'keeshond',\n",
       " 'mink',\n",
       " 'screw',\n",
       " 'basset',\n",
       " 'wreck',\n",
       " 'kimono',\n",
       " 'German_short-haired_pointer',\n",
       " 'joystick',\n",
       " 'microwave',\n",
       " 'Tibetan_terrier',\n",
       " 'Irish_wolfhound',\n",
       " 'Samoyed',\n",
       " 'loggerhead',\n",
       " 'French_loaf',\n",
       " 'Irish_setter',\n",
       " 'komondor',\n",
       " 'purse',\n",
       " 'greenhouse',\n",
       " 'broccoli',\n",
       " 'shopping_basket',\n",
       " 'macaque',\n",
       " 'squirrel_monkey',\n",
       " 'green_lizard',\n",
       " 'parallel_bars',\n",
       " 'cloak',\n",
       " 'chest',\n",
       " 'sundial',\n",
       " 'mosquito_net',\n",
       " 'bath_towel',\n",
       " 'cuirass',\n",
       " 'zebra',\n",
       " 'lumbermill',\n",
       " 'wallet',\n",
       " 'feather_boa',\n",
       " 'English_springer',\n",
       " 'electric_fan',\n",
       " 'hippopotamus',\n",
       " 'ox',\n",
       " 'quilt',\n",
       " 'assault_rifle',\n",
       " 'axolotl',\n",
       " 'pot',\n",
       " 'toyshop',\n",
       " 'pizza',\n",
       " 'scuba_diver',\n",
       " 'beaver',\n",
       " 'Mexican_hairless',\n",
       " 'cliff',\n",
       " 'loupe',\n",
       " 'wild_boar',\n",
       " 'jaguar',\n",
       " 'hog',\n",
       " 'polecat',\n",
       " 'lion',\n",
       " 'EntleBucher',\n",
       " 'hand-held_computer',\n",
       " 'washbasin',\n",
       " 'whiptail',\n",
       " 'rock_crab',\n",
       " 'hare',\n",
       " 'shoji',\n",
       " 'sombrero',\n",
       " 'bell_cote',\n",
       " 'rifle',\n",
       " 'goose',\n",
       " 'pickup',\n",
       " 'sunglasses',\n",
       " 'limousine',\n",
       " 'bow_tie',\n",
       " 'pretzel',\n",
       " 'marmot',\n",
       " 'ice_lolly',\n",
       " 'vacuum',\n",
       " 'dalmatian',\n",
       " 'prison',\n",
       " 'shower_cap',\n",
       " 'sliding_door',\n",
       " 'dugong',\n",
       " 'otterhound',\n",
       " 'eel',\n",
       " 'binder',\n",
       " 'bullfrog',\n",
       " 'soap_dispenser',\n",
       " 'sea_lion',\n",
       " 'carton',\n",
       " 'brass',\n",
       " 'mitten',\n",
       " 'golfcart',\n",
       " 'cougar',\n",
       " 'warthog',\n",
       " 'umbrella',\n",
       " 'neck_brace',\n",
       " 'cup',\n",
       " 'book_jacket',\n",
       " 'padlock',\n",
       " 'cab',\n",
       " 'chime',\n",
       " 'Leonberg',\n",
       " 'viaduct',\n",
       " 'American_black_bear',\n",
       " 'tub',\n",
       " 'hand_blower',\n",
       " 'king_penguin',\n",
       " 'rotisserie',\n",
       " 'bannister',\n",
       " 'passenger_car',\n",
       " 'mongoose',\n",
       " 'dhole',\n",
       " 'consomme',\n",
       " 'valley',\n",
       " 'park_bench',\n",
       " 'mushroom',\n",
       " 'barrow',\n",
       " 'parachute',\n",
       " 'desktop_computer',\n",
       " 'snorkel',\n",
       " 'wok',\n",
       " 'affenpinscher',\n",
       " 'space_shuttle',\n",
       " 'rain_barrel',\n",
       " 'ballplayer',\n",
       " 'mountain_tent',\n",
       " 'oxcart',\n",
       " 'buckeye',\n",
       " 'sunglass',\n",
       " 'croquet_ball',\n",
       " 'refrigerator',\n",
       " 'snow_leopard',\n",
       " 'tripod',\n",
       " 'rapeseed',\n",
       " 'tiger_cat',\n",
       " 'Bernese_mountain_dog',\n",
       " 'notebook',\n",
       " 'maraca',\n",
       " 'pool_table',\n",
       " 'lakeside',\n",
       " 'theater_curtain',\n",
       " 'pier',\n",
       " 'cheetah',\n",
       " 'mousetrap',\n",
       " 'pop_bottle',\n",
       " 'soccer_ball',\n",
       " 'wombat',\n",
       " 'rhinoceros_beetle',\n",
       " 'paddlewheel',\n",
       " 'paintbrush',\n",
       " 'maze',\n",
       " 'hatchet',\n",
       " 'chain',\n",
       " 'jigsaw_puzzle',\n",
       " 'switch',\n",
       " 'Kerry_blue_terrier',\n",
       " 'barbell',\n",
       " 'convertible',\n",
       " 'entertainment_center',\n",
       " 'file',\n",
       " 'guillotine',\n",
       " 'nail',\n",
       " 'standard_schnauzer',\n",
       " 'bow',\n",
       " 'grocery_store',\n",
       " 'boathouse',\n",
       " 'conch',\n",
       " 'Bouvier_des_Flandres',\n",
       " 'grey_fox',\n",
       " 'shopping_cart',\n",
       " 'meerkat',\n",
       " 'grand_piano',\n",
       " 'envelope',\n",
       " 'screen',\n",
       " 'coffeepot',\n",
       " 'printer',\n",
       " 'otter',\n",
       " 'restaurant',\n",
       " 'bonnet',\n",
       " 'crossword_puzzle',\n",
       " 'go-kart',\n",
       " 'Sussex_spaniel',\n",
       " 'orangutan',\n",
       " 'canoe',\n",
       " 'barber_chair',\n",
       " 'traffic_light',\n",
       " 'ibex',\n",
       " 'can_opener',\n",
       " 'Indian_elephant',\n",
       " 'spatula',\n",
       " 'banana']"
      ]
     },
     "execution_count": 34,
     "metadata": {},
     "output_type": "execute_result"
    }
   ],
   "source": [
    "# Let's see the unique list of dog types from the third prediction\n",
    "list(image_predictions.p3.unique())"
   ]
  },
  {
   "cell_type": "code",
   "execution_count": 35,
   "metadata": {},
   "outputs": [
    {
     "data": {
      "text/plain": [
       "True     1532\n",
       "False     543\n",
       "Name: p1_dog, dtype: int64"
      ]
     },
     "execution_count": 35,
     "metadata": {},
     "output_type": "execute_result"
    }
   ],
   "source": [
    "# How many are said to be dogs from the first prediction\n",
    "image_predictions.p1_dog.value_counts()"
   ]
  },
  {
   "cell_type": "code",
   "execution_count": 36,
   "metadata": {},
   "outputs": [
    {
     "data": {
      "text/plain": [
       "True     1553\n",
       "False     522\n",
       "Name: p2_dog, dtype: int64"
      ]
     },
     "execution_count": 36,
     "metadata": {},
     "output_type": "execute_result"
    }
   ],
   "source": [
    "# How many are said to be dogs from the second prediction\n",
    "image_predictions.p2_dog.value_counts()"
   ]
  },
  {
   "cell_type": "code",
   "execution_count": 37,
   "metadata": {},
   "outputs": [
    {
     "data": {
      "text/plain": [
       "True     1499\n",
       "False     576\n",
       "Name: p3_dog, dtype: int64"
      ]
     },
     "execution_count": 37,
     "metadata": {},
     "output_type": "execute_result"
    }
   ],
   "source": [
    "# How many are said to be dogs from the third prediction\n",
    "image_predictions.p3_dog.value_counts()"
   ]
  },
  {
   "cell_type": "markdown",
   "metadata": {},
   "source": [
    "### `tweet_status`"
   ]
  },
  {
   "cell_type": "code",
   "execution_count": 38,
   "metadata": {
    "scrolled": true
   },
   "outputs": [
    {
     "data": {
      "text/html": [
       "<div>\n",
       "<style scoped>\n",
       "    .dataframe tbody tr th:only-of-type {\n",
       "        vertical-align: middle;\n",
       "    }\n",
       "\n",
       "    .dataframe tbody tr th {\n",
       "        vertical-align: top;\n",
       "    }\n",
       "\n",
       "    .dataframe thead th {\n",
       "        text-align: right;\n",
       "    }\n",
       "</style>\n",
       "<table border=\"1\" class=\"dataframe\">\n",
       "  <thead>\n",
       "    <tr style=\"text-align: right;\">\n",
       "      <th></th>\n",
       "      <th>tweet_id</th>\n",
       "      <th>retweet_count</th>\n",
       "      <th>favorite_count</th>\n",
       "    </tr>\n",
       "  </thead>\n",
       "  <tbody>\n",
       "    <tr>\n",
       "      <th>534</th>\n",
       "      <td>807059379405148160</td>\n",
       "      <td>8521</td>\n",
       "      <td>0</td>\n",
       "    </tr>\n",
       "    <tr>\n",
       "      <th>1052</th>\n",
       "      <td>742423170473463808</td>\n",
       "      <td>4319</td>\n",
       "      <td>10812</td>\n",
       "    </tr>\n",
       "    <tr>\n",
       "      <th>913</th>\n",
       "      <td>757354760399941633</td>\n",
       "      <td>1637</td>\n",
       "      <td>4995</td>\n",
       "    </tr>\n",
       "    <tr>\n",
       "      <th>1194</th>\n",
       "      <td>717047459982213120</td>\n",
       "      <td>2135</td>\n",
       "      <td>6826</td>\n",
       "    </tr>\n",
       "    <tr>\n",
       "      <th>1732</th>\n",
       "      <td>679736210798047232</td>\n",
       "      <td>918</td>\n",
       "      <td>2311</td>\n",
       "    </tr>\n",
       "    <tr>\n",
       "      <th>1019</th>\n",
       "      <td>746726898085036033</td>\n",
       "      <td>2037</td>\n",
       "      <td>6648</td>\n",
       "    </tr>\n",
       "    <tr>\n",
       "      <th>981</th>\n",
       "      <td>749395845976588288</td>\n",
       "      <td>3951</td>\n",
       "      <td>9488</td>\n",
       "    </tr>\n",
       "    <tr>\n",
       "      <th>63</th>\n",
       "      <td>879674319642796034</td>\n",
       "      <td>10</td>\n",
       "      <td>315</td>\n",
       "    </tr>\n",
       "    <tr>\n",
       "      <th>1492</th>\n",
       "      <td>692568918515392513</td>\n",
       "      <td>1737</td>\n",
       "      <td>4739</td>\n",
       "    </tr>\n",
       "    <tr>\n",
       "      <th>920</th>\n",
       "      <td>756275833623502848</td>\n",
       "      <td>1738</td>\n",
       "      <td>7114</td>\n",
       "    </tr>\n",
       "  </tbody>\n",
       "</table>\n",
       "</div>"
      ],
      "text/plain": [
       "                tweet_id  retweet_count  favorite_count\n",
       "534   807059379405148160           8521               0\n",
       "1052  742423170473463808           4319           10812\n",
       "913   757354760399941633           1637            4995\n",
       "1194  717047459982213120           2135            6826\n",
       "1732  679736210798047232            918            2311\n",
       "1019  746726898085036033           2037            6648\n",
       "981   749395845976588288           3951            9488\n",
       "63    879674319642796034             10             315\n",
       "1492  692568918515392513           1737            4739\n",
       "920   756275833623502848           1738            7114"
      ]
     },
     "execution_count": 38,
     "metadata": {},
     "output_type": "execute_result"
    }
   ],
   "source": [
    "# Let's visually assess a sample of the tweet_status\n",
    "tweet_status.sample(10)"
   ]
  },
  {
   "cell_type": "code",
   "execution_count": 39,
   "metadata": {
    "scrolled": true
   },
   "outputs": [
    {
     "name": "stdout",
     "output_type": "stream",
     "text": [
      "<class 'pandas.core.frame.DataFrame'>\n",
      "RangeIndex: 2354 entries, 0 to 2353\n",
      "Data columns (total 3 columns):\n",
      " #   Column          Non-Null Count  Dtype\n",
      "---  ------          --------------  -----\n",
      " 0   tweet_id        2354 non-null   int64\n",
      " 1   retweet_count   2354 non-null   int64\n",
      " 2   favorite_count  2354 non-null   int64\n",
      "dtypes: int64(3)\n",
      "memory usage: 55.3 KB\n"
     ]
    }
   ],
   "source": [
    "# Checking for more information on the dataframe\n",
    "tweet_status.info()"
   ]
  },
  {
   "cell_type": "code",
   "execution_count": 40,
   "metadata": {},
   "outputs": [
    {
     "data": {
      "text/html": [
       "<div>\n",
       "<style scoped>\n",
       "    .dataframe tbody tr th:only-of-type {\n",
       "        vertical-align: middle;\n",
       "    }\n",
       "\n",
       "    .dataframe tbody tr th {\n",
       "        vertical-align: top;\n",
       "    }\n",
       "\n",
       "    .dataframe thead th {\n",
       "        text-align: right;\n",
       "    }\n",
       "</style>\n",
       "<table border=\"1\" class=\"dataframe\">\n",
       "  <thead>\n",
       "    <tr style=\"text-align: right;\">\n",
       "      <th></th>\n",
       "      <th>tweet_id</th>\n",
       "      <th>retweet_count</th>\n",
       "      <th>favorite_count</th>\n",
       "    </tr>\n",
       "  </thead>\n",
       "  <tbody>\n",
       "    <tr>\n",
       "      <th>count</th>\n",
       "      <td>2.354000e+03</td>\n",
       "      <td>2354.000000</td>\n",
       "      <td>2354.000000</td>\n",
       "    </tr>\n",
       "    <tr>\n",
       "      <th>mean</th>\n",
       "      <td>7.426978e+17</td>\n",
       "      <td>3164.797366</td>\n",
       "      <td>8080.968564</td>\n",
       "    </tr>\n",
       "    <tr>\n",
       "      <th>std</th>\n",
       "      <td>6.852812e+16</td>\n",
       "      <td>5284.770364</td>\n",
       "      <td>11814.771334</td>\n",
       "    </tr>\n",
       "    <tr>\n",
       "      <th>min</th>\n",
       "      <td>6.660209e+17</td>\n",
       "      <td>0.000000</td>\n",
       "      <td>0.000000</td>\n",
       "    </tr>\n",
       "    <tr>\n",
       "      <th>25%</th>\n",
       "      <td>6.783975e+17</td>\n",
       "      <td>624.500000</td>\n",
       "      <td>1415.000000</td>\n",
       "    </tr>\n",
       "    <tr>\n",
       "      <th>50%</th>\n",
       "      <td>7.194596e+17</td>\n",
       "      <td>1473.500000</td>\n",
       "      <td>3603.500000</td>\n",
       "    </tr>\n",
       "    <tr>\n",
       "      <th>75%</th>\n",
       "      <td>7.993058e+17</td>\n",
       "      <td>3652.000000</td>\n",
       "      <td>10122.250000</td>\n",
       "    </tr>\n",
       "    <tr>\n",
       "      <th>max</th>\n",
       "      <td>8.924206e+17</td>\n",
       "      <td>79515.000000</td>\n",
       "      <td>132810.000000</td>\n",
       "    </tr>\n",
       "  </tbody>\n",
       "</table>\n",
       "</div>"
      ],
      "text/plain": [
       "           tweet_id  retweet_count  favorite_count\n",
       "count  2.354000e+03    2354.000000     2354.000000\n",
       "mean   7.426978e+17    3164.797366     8080.968564\n",
       "std    6.852812e+16    5284.770364    11814.771334\n",
       "min    6.660209e+17       0.000000        0.000000\n",
       "25%    6.783975e+17     624.500000     1415.000000\n",
       "50%    7.194596e+17    1473.500000     3603.500000\n",
       "75%    7.993058e+17    3652.000000    10122.250000\n",
       "max    8.924206e+17   79515.000000   132810.000000"
      ]
     },
     "execution_count": 40,
     "metadata": {},
     "output_type": "execute_result"
    }
   ],
   "source": [
    "# Let's see some statistics\n",
    "tweet_status.describe()"
   ]
  },
  {
   "cell_type": "code",
   "execution_count": 41,
   "metadata": {},
   "outputs": [
    {
     "data": {
      "text/plain": [
       "0"
      ]
     },
     "execution_count": 41,
     "metadata": {},
     "output_type": "execute_result"
    }
   ],
   "source": [
    "# Checking to see if we have duplicates in the unique tweet_id\n",
    "tweet_status.tweet_id.duplicated().sum()"
   ]
  },
  {
   "cell_type": "markdown",
   "metadata": {},
   "source": [
    "### Quality issues\n",
    "`tweet_archive`\n",
    "\n",
    "1. Retweets are present, want only original tweets\n",
    "\n",
    "2. Multiple null variables in different columns \n",
    "\n",
    "3. Null values represented as none in doggo, floofer, pupper, puppo columns\n",
    "\n",
    "4. Incorrect data type for timestamp\n",
    "\n",
    "5. 23 rows with denominator != 10\n",
    "\n",
    "6. Dog names like \"None\", \"a\"\n",
    "\n",
    "`image_predictions`\n",
    "\n",
    "1. Duplicate variables present in jpg_url\n",
    "\n",
    "2. Inconsistent dog name format in p1, p2, p3 columns \n",
    "\n",
    "3. Non-descriptive column names (p1, p2, p3, p1_conf, p2_conf, p3_conf)\n",
    "\n",
    "4. A number of tweets that do not refer to dog ratings"
   ]
  },
  {
   "cell_type": "markdown",
   "metadata": {
    "extensions": {
     "jupyter_dashboards": {
      "version": 1,
      "views": {
       "grid_default": {
        "col": 0,
        "height": 7,
        "hidden": false,
        "row": 40,
        "width": 12
       },
       "report_default": {
        "hidden": false
       }
      }
     }
    }
   },
   "source": [
    "### Tidiness issues\n",
    "1. Information on the tweet are in 3 tables\n",
    "\n",
    "2. Text column contains repetitive information\n",
    "\n",
    "3. 4 variables contained in 4 columns (doggo, floofer, pupper, puppo)"
   ]
  },
  {
   "cell_type": "markdown",
   "metadata": {
    "extensions": {
     "jupyter_dashboards": {
      "version": 1,
      "views": {
       "grid_default": {
        "col": 4,
        "height": 4,
        "hidden": false,
        "row": 32,
        "width": 4
       },
       "report_default": {
        "hidden": false
       }
      }
     }
    }
   },
   "source": [
    "## Cleaning Data\n",
    "In this section, we will clean **all** of the issues documented while assessing. "
   ]
  },
  {
   "cell_type": "code",
   "execution_count": 42,
   "metadata": {},
   "outputs": [],
   "source": [
    "# Making copies of original pieces of data\n",
    "tweet_archive_clean = tweet_archive.copy()\n",
    "image_predictions_clean = image_predictions.copy()\n",
    "tweet_status_clean = tweet_status.copy()"
   ]
  },
  {
   "cell_type": "markdown",
   "metadata": {},
   "source": [
    "### Issue #1: Retweets are present, we want only original tweets"
   ]
  },
  {
   "cell_type": "markdown",
   "metadata": {},
   "source": [
    "#### Define: Remove retweets by dropping rows with retweeted_status ids"
   ]
  },
  {
   "cell_type": "markdown",
   "metadata": {},
   "source": [
    "#### Code"
   ]
  },
  {
   "cell_type": "code",
   "execution_count": 43,
   "metadata": {},
   "outputs": [],
   "source": [
    "# Filtering to exclude retweets\n",
    "tweet_archive_clean = tweet_archive_clean[tweet_archive_clean.retweeted_status_id.isnull()]"
   ]
  },
  {
   "cell_type": "markdown",
   "metadata": {},
   "source": [
    "#### Test"
   ]
  },
  {
   "cell_type": "code",
   "execution_count": 44,
   "metadata": {},
   "outputs": [
    {
     "name": "stdout",
     "output_type": "stream",
     "text": [
      "<class 'pandas.core.frame.DataFrame'>\n",
      "Int64Index: 2175 entries, 0 to 2355\n",
      "Data columns (total 17 columns):\n",
      " #   Column                      Non-Null Count  Dtype  \n",
      "---  ------                      --------------  -----  \n",
      " 0   tweet_id                    2175 non-null   int64  \n",
      " 1   in_reply_to_status_id       78 non-null     float64\n",
      " 2   in_reply_to_user_id         78 non-null     float64\n",
      " 3   timestamp                   2175 non-null   object \n",
      " 4   source                      2175 non-null   object \n",
      " 5   text                        2175 non-null   object \n",
      " 6   retweeted_status_id         0 non-null      float64\n",
      " 7   retweeted_status_user_id    0 non-null      float64\n",
      " 8   retweeted_status_timestamp  0 non-null      object \n",
      " 9   expanded_urls               2117 non-null   object \n",
      " 10  rating_numerator            2175 non-null   int64  \n",
      " 11  rating_denominator          2175 non-null   int64  \n",
      " 12  name                        2175 non-null   object \n",
      " 13  doggo                       2175 non-null   object \n",
      " 14  floofer                     2175 non-null   object \n",
      " 15  pupper                      2175 non-null   object \n",
      " 16  puppo                       2175 non-null   object \n",
      "dtypes: float64(4), int64(3), object(10)\n",
      "memory usage: 305.9+ KB\n"
     ]
    }
   ],
   "source": [
    "# Checking to see if retweets are no longer present\n",
    "tweet_archive_clean.info()"
   ]
  },
  {
   "cell_type": "markdown",
   "metadata": {},
   "source": [
    "### Issue #2: Multiple null variables in different columns"
   ]
  },
  {
   "cell_type": "markdown",
   "metadata": {
    "collapsed": true,
    "extensions": {
     "jupyter_dashboards": {
      "version": 1,
      "views": {
       "grid_default": {
        "hidden": true
       },
       "report_default": {
        "hidden": true
       }
      }
     }
    }
   },
   "source": [
    "#### Define\n",
    "Drop the following columns `in_reply_to_status_id, in_reply_to_user_id, retweeted_status_id, retweeted_status_user_id, retweeted_status_timestamp, expanded_urls`"
   ]
  },
  {
   "cell_type": "markdown",
   "metadata": {},
   "source": [
    "#### Code"
   ]
  },
  {
   "cell_type": "code",
   "execution_count": 45,
   "metadata": {
    "scrolled": true
   },
   "outputs": [],
   "source": [
    "# Dropping unwanted columnswith the .drop method\n",
    "tweet_archive_clean.drop(columns=[\"in_reply_to_status_id\", \"in_reply_to_user_id\", \"retweeted_status_id\", \n",
    "                                  \"retweeted_status_user_id\", \"retweeted_status_timestamp\", \"expanded_urls\"], \n",
    "                                   axis=1, inplace=True)"
   ]
  },
  {
   "cell_type": "markdown",
   "metadata": {},
   "source": [
    "#### Test"
   ]
  },
  {
   "cell_type": "code",
   "execution_count": 46,
   "metadata": {},
   "outputs": [
    {
     "data": {
      "text/plain": [
       "tweet_id              0\n",
       "timestamp             0\n",
       "source                0\n",
       "text                  0\n",
       "rating_numerator      0\n",
       "rating_denominator    0\n",
       "name                  0\n",
       "doggo                 0\n",
       "floofer               0\n",
       "pupper                0\n",
       "puppo                 0\n",
       "dtype: int64"
      ]
     },
     "execution_count": 46,
     "metadata": {},
     "output_type": "execute_result"
    }
   ],
   "source": [
    "# Let see if there are any columns with missing values\n",
    "tweet_archive_clean.isnull().sum()"
   ]
  },
  {
   "cell_type": "markdown",
   "metadata": {},
   "source": [
    "### Issue #3: Null values represented as none in doggo, floofer, pupper, puppo columns"
   ]
  },
  {
   "cell_type": "markdown",
   "metadata": {
    "collapsed": true,
    "extensions": {
     "jupyter_dashboards": {
      "version": 1,
      "views": {
       "grid_default": {
        "hidden": true
       },
       "report_default": {
        "hidden": true
       }
      }
     }
    }
   },
   "source": [
    "#### Define\n",
    "Convert none variables in `doggo, floofer, pupper, puppo` columns to `null` using for loop and replace function"
   ]
  },
  {
   "cell_type": "markdown",
   "metadata": {},
   "source": [
    "#### Code"
   ]
  },
  {
   "cell_type": "code",
   "execution_count": 47,
   "metadata": {},
   "outputs": [],
   "source": [
    "# Looping through the columns to change the None to null\n",
    "dog_col = [\"doggo\", \"pupper\", \"floofer\", \"puppo\"]\n",
    "for val in dog_col:\n",
    "       tweet_archive_clean[val] = tweet_archive_clean[val].replace(\"None\", np.nan)"
   ]
  },
  {
   "cell_type": "markdown",
   "metadata": {},
   "source": [
    "#### Test"
   ]
  },
  {
   "cell_type": "code",
   "execution_count": 48,
   "metadata": {},
   "outputs": [
    {
     "data": {
      "text/html": [
       "<div>\n",
       "<style scoped>\n",
       "    .dataframe tbody tr th:only-of-type {\n",
       "        vertical-align: middle;\n",
       "    }\n",
       "\n",
       "    .dataframe tbody tr th {\n",
       "        vertical-align: top;\n",
       "    }\n",
       "\n",
       "    .dataframe thead th {\n",
       "        text-align: right;\n",
       "    }\n",
       "</style>\n",
       "<table border=\"1\" class=\"dataframe\">\n",
       "  <thead>\n",
       "    <tr style=\"text-align: right;\">\n",
       "      <th></th>\n",
       "      <th>tweet_id</th>\n",
       "      <th>timestamp</th>\n",
       "      <th>source</th>\n",
       "      <th>text</th>\n",
       "      <th>rating_numerator</th>\n",
       "      <th>rating_denominator</th>\n",
       "      <th>name</th>\n",
       "      <th>doggo</th>\n",
       "      <th>floofer</th>\n",
       "      <th>pupper</th>\n",
       "      <th>puppo</th>\n",
       "    </tr>\n",
       "  </thead>\n",
       "  <tbody>\n",
       "    <tr>\n",
       "      <th>2002</th>\n",
       "      <td>672481316919734272</td>\n",
       "      <td>2015-12-03 18:23:34 +0000</td>\n",
       "      <td>&lt;a href=\"http://twitter.com/download/iphone\" r...</td>\n",
       "      <td>Say hello to Jazz. She should be on the cover ...</td>\n",
       "      <td>12</td>\n",
       "      <td>10</td>\n",
       "      <td>Jazz</td>\n",
       "      <td>NaN</td>\n",
       "      <td>NaN</td>\n",
       "      <td>pupper</td>\n",
       "      <td>NaN</td>\n",
       "    </tr>\n",
       "    <tr>\n",
       "      <th>2283</th>\n",
       "      <td>667200525029539841</td>\n",
       "      <td>2015-11-19 04:39:35 +0000</td>\n",
       "      <td>&lt;a href=\"http://twitter.com/download/iphone\" r...</td>\n",
       "      <td>This is Joshwa. He is a fuckboy supreme. He cl...</td>\n",
       "      <td>11</td>\n",
       "      <td>10</td>\n",
       "      <td>Joshwa</td>\n",
       "      <td>NaN</td>\n",
       "      <td>NaN</td>\n",
       "      <td>NaN</td>\n",
       "      <td>NaN</td>\n",
       "    </tr>\n",
       "    <tr>\n",
       "      <th>1624</th>\n",
       "      <td>684880619965411328</td>\n",
       "      <td>2016-01-06 23:33:58 +0000</td>\n",
       "      <td>&lt;a href=\"http://twitter.com/download/iphone\" r...</td>\n",
       "      <td>Here we have a basking dino pupper. Looks powe...</td>\n",
       "      <td>5</td>\n",
       "      <td>10</td>\n",
       "      <td>None</td>\n",
       "      <td>NaN</td>\n",
       "      <td>NaN</td>\n",
       "      <td>pupper</td>\n",
       "      <td>NaN</td>\n",
       "    </tr>\n",
       "    <tr>\n",
       "      <th>527</th>\n",
       "      <td>808733504066486276</td>\n",
       "      <td>2016-12-13 18:01:07 +0000</td>\n",
       "      <td>&lt;a href=\"http://twitter.com/download/iphone\" r...</td>\n",
       "      <td>Here's a pupper in a onesie. Quite pupset abou...</td>\n",
       "      <td>12</td>\n",
       "      <td>10</td>\n",
       "      <td>None</td>\n",
       "      <td>NaN</td>\n",
       "      <td>NaN</td>\n",
       "      <td>pupper</td>\n",
       "      <td>NaN</td>\n",
       "    </tr>\n",
       "    <tr>\n",
       "      <th>471</th>\n",
       "      <td>816697700272001025</td>\n",
       "      <td>2017-01-04 17:27:59 +0000</td>\n",
       "      <td>&lt;a href=\"http://twitter.com/download/iphone\" r...</td>\n",
       "      <td>This is Binky. She appears to be rather h*ckin...</td>\n",
       "      <td>12</td>\n",
       "      <td>10</td>\n",
       "      <td>Binky</td>\n",
       "      <td>NaN</td>\n",
       "      <td>NaN</td>\n",
       "      <td>NaN</td>\n",
       "      <td>NaN</td>\n",
       "    </tr>\n",
       "  </tbody>\n",
       "</table>\n",
       "</div>"
      ],
      "text/plain": [
       "                tweet_id                  timestamp  \\\n",
       "2002  672481316919734272  2015-12-03 18:23:34 +0000   \n",
       "2283  667200525029539841  2015-11-19 04:39:35 +0000   \n",
       "1624  684880619965411328  2016-01-06 23:33:58 +0000   \n",
       "527   808733504066486276  2016-12-13 18:01:07 +0000   \n",
       "471   816697700272001025  2017-01-04 17:27:59 +0000   \n",
       "\n",
       "                                                 source  \\\n",
       "2002  <a href=\"http://twitter.com/download/iphone\" r...   \n",
       "2283  <a href=\"http://twitter.com/download/iphone\" r...   \n",
       "1624  <a href=\"http://twitter.com/download/iphone\" r...   \n",
       "527   <a href=\"http://twitter.com/download/iphone\" r...   \n",
       "471   <a href=\"http://twitter.com/download/iphone\" r...   \n",
       "\n",
       "                                                   text  rating_numerator  \\\n",
       "2002  Say hello to Jazz. She should be on the cover ...                12   \n",
       "2283  This is Joshwa. He is a fuckboy supreme. He cl...                11   \n",
       "1624  Here we have a basking dino pupper. Looks powe...                 5   \n",
       "527   Here's a pupper in a onesie. Quite pupset abou...                12   \n",
       "471   This is Binky. She appears to be rather h*ckin...                12   \n",
       "\n",
       "      rating_denominator    name doggo floofer  pupper puppo  \n",
       "2002                  10    Jazz   NaN     NaN  pupper   NaN  \n",
       "2283                  10  Joshwa   NaN     NaN     NaN   NaN  \n",
       "1624                  10    None   NaN     NaN  pupper   NaN  \n",
       "527                   10    None   NaN     NaN  pupper   NaN  \n",
       "471                   10   Binky   NaN     NaN     NaN   NaN  "
      ]
     },
     "execution_count": 48,
     "metadata": {},
     "output_type": "execute_result"
    }
   ],
   "source": [
    "# Checking data to confirm replacing is done \n",
    "tweet_archive_clean.sample(5)"
   ]
  },
  {
   "cell_type": "markdown",
   "metadata": {},
   "source": [
    "### Issue #4: 4 variables contained in 4 columns (doggo, floofer, pupper, puppo)"
   ]
  },
  {
   "cell_type": "markdown",
   "metadata": {
    "collapsed": true,
    "extensions": {
     "jupyter_dashboards": {
      "version": 1,
      "views": {
       "grid_default": {
        "hidden": true
       },
       "report_default": {
        "hidden": true
       }
      }
     }
    }
   },
   "source": [
    "#### Define\n",
    "Melt the `doggo, floofer, pupper, puppo` columns to a dog stage column."
   ]
  },
  {
   "cell_type": "markdown",
   "metadata": {},
   "source": [
    "#### Code"
   ]
  },
  {
   "cell_type": "code",
   "execution_count": 49,
   "metadata": {},
   "outputs": [],
   "source": [
    "# Melting the doggo, floofer, pupper, puppo columns into dog_stages \n",
    "tweet_archive_clean = pd.melt(tweet_archive_clean, \n",
    "                     id_vars=[\"tweet_id\", \"timestamp\", \"source\", \"text\", \"rating_numerator\", \"rating_denominator\", \"name\"],\n",
    "                     value_vars=[\"doggo\", \"floofer\", \"pupper\", \"puppo\"], var_name=[\"dog_class\"], value_name=\"dog_stage\")       \n",
    "tweet_archive_clean.drop(columns=\"dog_class\", axis=1, inplace=True)"
   ]
  },
  {
   "cell_type": "markdown",
   "metadata": {},
   "source": [
    "#### Test"
   ]
  },
  {
   "cell_type": "code",
   "execution_count": 50,
   "metadata": {},
   "outputs": [
    {
     "data": {
      "text/html": [
       "<div>\n",
       "<style scoped>\n",
       "    .dataframe tbody tr th:only-of-type {\n",
       "        vertical-align: middle;\n",
       "    }\n",
       "\n",
       "    .dataframe tbody tr th {\n",
       "        vertical-align: top;\n",
       "    }\n",
       "\n",
       "    .dataframe thead th {\n",
       "        text-align: right;\n",
       "    }\n",
       "</style>\n",
       "<table border=\"1\" class=\"dataframe\">\n",
       "  <thead>\n",
       "    <tr style=\"text-align: right;\">\n",
       "      <th></th>\n",
       "      <th>tweet_id</th>\n",
       "      <th>timestamp</th>\n",
       "      <th>source</th>\n",
       "      <th>text</th>\n",
       "      <th>rating_numerator</th>\n",
       "      <th>rating_denominator</th>\n",
       "      <th>name</th>\n",
       "      <th>dog_stage</th>\n",
       "    </tr>\n",
       "  </thead>\n",
       "  <tbody>\n",
       "    <tr>\n",
       "      <th>5886</th>\n",
       "      <td>680221482581123072</td>\n",
       "      <td>2015-12-25 03:00:14 +0000</td>\n",
       "      <td>&lt;a href=\"http://twitter.com/download/iphone\" r...</td>\n",
       "      <td>This is CeCe. She's patiently waiting for Sant...</td>\n",
       "      <td>10</td>\n",
       "      <td>10</td>\n",
       "      <td>CeCe</td>\n",
       "      <td>NaN</td>\n",
       "    </tr>\n",
       "    <tr>\n",
       "      <th>1330</th>\n",
       "      <td>691459709405118465</td>\n",
       "      <td>2016-01-25 03:16:56 +0000</td>\n",
       "      <td>&lt;a href=\"http://twitter.com/download/iphone\" r...</td>\n",
       "      <td>Say hello to Leo. He's a Fallopian Puffalope. ...</td>\n",
       "      <td>12</td>\n",
       "      <td>10</td>\n",
       "      <td>Leo</td>\n",
       "      <td>NaN</td>\n",
       "    </tr>\n",
       "    <tr>\n",
       "      <th>1633</th>\n",
       "      <td>676811746707918848</td>\n",
       "      <td>2015-12-15 17:11:09 +0000</td>\n",
       "      <td>&lt;a href=\"http://twitter.com/download/iphone\" r...</td>\n",
       "      <td>Say hello to Penny &amp;amp; Gizmo. They are pract...</td>\n",
       "      <td>9</td>\n",
       "      <td>10</td>\n",
       "      <td>Penny</td>\n",
       "      <td>NaN</td>\n",
       "    </tr>\n",
       "    <tr>\n",
       "      <th>584</th>\n",
       "      <td>782969140009107456</td>\n",
       "      <td>2016-10-03 15:42:44 +0000</td>\n",
       "      <td>&lt;a href=\"http://twitter.com/download/iphone\" r...</td>\n",
       "      <td>This is Cali. She arrived preassembled. Conven...</td>\n",
       "      <td>12</td>\n",
       "      <td>10</td>\n",
       "      <td>Cali</td>\n",
       "      <td>NaN</td>\n",
       "    </tr>\n",
       "    <tr>\n",
       "      <th>828</th>\n",
       "      <td>747844099428986880</td>\n",
       "      <td>2016-06-28 17:28:22 +0000</td>\n",
       "      <td>&lt;a href=\"http://twitter.com/download/iphone\" r...</td>\n",
       "      <td>This is Huxley. He's pumped for #BarkWeek. Eve...</td>\n",
       "      <td>11</td>\n",
       "      <td>10</td>\n",
       "      <td>Huxley</td>\n",
       "      <td>NaN</td>\n",
       "    </tr>\n",
       "  </tbody>\n",
       "</table>\n",
       "</div>"
      ],
      "text/plain": [
       "                tweet_id                  timestamp  \\\n",
       "5886  680221482581123072  2015-12-25 03:00:14 +0000   \n",
       "1330  691459709405118465  2016-01-25 03:16:56 +0000   \n",
       "1633  676811746707918848  2015-12-15 17:11:09 +0000   \n",
       "584   782969140009107456  2016-10-03 15:42:44 +0000   \n",
       "828   747844099428986880  2016-06-28 17:28:22 +0000   \n",
       "\n",
       "                                                 source  \\\n",
       "5886  <a href=\"http://twitter.com/download/iphone\" r...   \n",
       "1330  <a href=\"http://twitter.com/download/iphone\" r...   \n",
       "1633  <a href=\"http://twitter.com/download/iphone\" r...   \n",
       "584   <a href=\"http://twitter.com/download/iphone\" r...   \n",
       "828   <a href=\"http://twitter.com/download/iphone\" r...   \n",
       "\n",
       "                                                   text  rating_numerator  \\\n",
       "5886  This is CeCe. She's patiently waiting for Sant...                10   \n",
       "1330  Say hello to Leo. He's a Fallopian Puffalope. ...                12   \n",
       "1633  Say hello to Penny &amp; Gizmo. They are pract...                 9   \n",
       "584   This is Cali. She arrived preassembled. Conven...                12   \n",
       "828   This is Huxley. He's pumped for #BarkWeek. Eve...                11   \n",
       "\n",
       "      rating_denominator    name dog_stage  \n",
       "5886                  10    CeCe       NaN  \n",
       "1330                  10     Leo       NaN  \n",
       "1633                  10   Penny       NaN  \n",
       "584                   10    Cali       NaN  \n",
       "828                   10  Huxley       NaN  "
      ]
     },
     "execution_count": 50,
     "metadata": {},
     "output_type": "execute_result"
    }
   ],
   "source": [
    "# Let's see a sample of melting performed\n",
    "tweet_archive_clean.sample(5)"
   ]
  },
  {
   "cell_type": "code",
   "execution_count": 51,
   "metadata": {},
   "outputs": [
    {
     "data": {
      "text/plain": [
       "pupper     234\n",
       "doggo       87\n",
       "puppo       25\n",
       "floofer     10\n",
       "Name: dog_stage, dtype: int64"
      ]
     },
     "execution_count": 51,
     "metadata": {},
     "output_type": "execute_result"
    }
   ],
   "source": [
    "# Checking count of dog_stage column\n",
    "tweet_archive_clean.dog_stage.value_counts()"
   ]
  },
  {
   "cell_type": "markdown",
   "metadata": {},
   "source": [
    "### Issue #5: Information on the tweets are in three tables"
   ]
  },
  {
   "cell_type": "markdown",
   "metadata": {
    "collapsed": true,
    "extensions": {
     "jupyter_dashboards": {
      "version": 1,
      "views": {
       "grid_default": {
        "hidden": true
       },
       "report_default": {
        "hidden": true
       }
      }
     }
    }
   },
   "source": [
    "#### Define\n",
    "Merge `tweet_archive_clean, image_predictions_clean, tweet_status_clean` tables"
   ]
  },
  {
   "cell_type": "markdown",
   "metadata": {},
   "source": [
    "#### Code"
   ]
  },
  {
   "cell_type": "code",
   "execution_count": 52,
   "metadata": {},
   "outputs": [],
   "source": [
    "# Using merge function to merge tweet_archive_clean, image_predictions_clean, tweet_status_clean tables\n",
    "df = pd.merge(pd.merge(tweet_archive_clean, image_predictions_clean, on=\"tweet_id\"), tweet_status_clean, on=\"tweet_id\")"
   ]
  },
  {
   "cell_type": "markdown",
   "metadata": {},
   "source": [
    "#### Test"
   ]
  },
  {
   "cell_type": "code",
   "execution_count": 53,
   "metadata": {
    "scrolled": true
   },
   "outputs": [
    {
     "data": {
      "text/plain": [
       "Index(['tweet_id', 'timestamp', 'source', 'text', 'rating_numerator',\n",
       "       'rating_denominator', 'name', 'dog_stage', 'jpg_url', 'img_num', 'p1',\n",
       "       'p1_conf', 'p1_dog', 'p2', 'p2_conf', 'p2_dog', 'p3', 'p3_conf',\n",
       "       'p3_dog', 'retweet_count', 'favorite_count'],\n",
       "      dtype='object')"
      ]
     },
     "execution_count": 53,
     "metadata": {},
     "output_type": "execute_result"
    }
   ],
   "source": [
    "df.columns"
   ]
  },
  {
   "cell_type": "markdown",
   "metadata": {},
   "source": [
    "### Issue #6: `text` column contains repetitive information"
   ]
  },
  {
   "cell_type": "markdown",
   "metadata": {
    "collapsed": true,
    "extensions": {
     "jupyter_dashboards": {
      "version": 1,
      "views": {
       "grid_default": {
        "hidden": true
       },
       "report_default": {
        "hidden": true
       }
      }
     }
    }
   },
   "source": [
    "#### Define\n",
    "Drop text column as we have already extracted needed information. Drop source column too as it not needed."
   ]
  },
  {
   "cell_type": "markdown",
   "metadata": {},
   "source": [
    "#### Code"
   ]
  },
  {
   "cell_type": "code",
   "execution_count": 54,
   "metadata": {},
   "outputs": [],
   "source": [
    "# Dropping unwanted columns\n",
    "df.drop(columns=[\"text\", \"source\"], axis=1, inplace=True)"
   ]
  },
  {
   "cell_type": "markdown",
   "metadata": {},
   "source": [
    "#### Test"
   ]
  },
  {
   "cell_type": "code",
   "execution_count": 55,
   "metadata": {},
   "outputs": [
    {
     "data": {
      "text/html": [
       "<div>\n",
       "<style scoped>\n",
       "    .dataframe tbody tr th:only-of-type {\n",
       "        vertical-align: middle;\n",
       "    }\n",
       "\n",
       "    .dataframe tbody tr th {\n",
       "        vertical-align: top;\n",
       "    }\n",
       "\n",
       "    .dataframe thead th {\n",
       "        text-align: right;\n",
       "    }\n",
       "</style>\n",
       "<table border=\"1\" class=\"dataframe\">\n",
       "  <thead>\n",
       "    <tr style=\"text-align: right;\">\n",
       "      <th></th>\n",
       "      <th>tweet_id</th>\n",
       "      <th>timestamp</th>\n",
       "      <th>rating_numerator</th>\n",
       "      <th>rating_denominator</th>\n",
       "      <th>name</th>\n",
       "      <th>dog_stage</th>\n",
       "      <th>jpg_url</th>\n",
       "      <th>img_num</th>\n",
       "      <th>p1</th>\n",
       "      <th>p1_conf</th>\n",
       "      <th>p1_dog</th>\n",
       "      <th>p2</th>\n",
       "      <th>p2_conf</th>\n",
       "      <th>p2_dog</th>\n",
       "      <th>p3</th>\n",
       "      <th>p3_conf</th>\n",
       "      <th>p3_dog</th>\n",
       "      <th>retweet_count</th>\n",
       "      <th>favorite_count</th>\n",
       "    </tr>\n",
       "  </thead>\n",
       "  <tbody>\n",
       "    <tr>\n",
       "      <th>0</th>\n",
       "      <td>892420643555336193</td>\n",
       "      <td>2017-08-01 16:23:56 +0000</td>\n",
       "      <td>13</td>\n",
       "      <td>10</td>\n",
       "      <td>Phineas</td>\n",
       "      <td>NaN</td>\n",
       "      <td>https://pbs.twimg.com/media/DGKD1-bXoAAIAUK.jpg</td>\n",
       "      <td>1</td>\n",
       "      <td>orange</td>\n",
       "      <td>0.097049</td>\n",
       "      <td>False</td>\n",
       "      <td>bagel</td>\n",
       "      <td>0.085851</td>\n",
       "      <td>False</td>\n",
       "      <td>banana</td>\n",
       "      <td>0.076110</td>\n",
       "      <td>False</td>\n",
       "      <td>8853</td>\n",
       "      <td>39467</td>\n",
       "    </tr>\n",
       "    <tr>\n",
       "      <th>1</th>\n",
       "      <td>892420643555336193</td>\n",
       "      <td>2017-08-01 16:23:56 +0000</td>\n",
       "      <td>13</td>\n",
       "      <td>10</td>\n",
       "      <td>Phineas</td>\n",
       "      <td>NaN</td>\n",
       "      <td>https://pbs.twimg.com/media/DGKD1-bXoAAIAUK.jpg</td>\n",
       "      <td>1</td>\n",
       "      <td>orange</td>\n",
       "      <td>0.097049</td>\n",
       "      <td>False</td>\n",
       "      <td>bagel</td>\n",
       "      <td>0.085851</td>\n",
       "      <td>False</td>\n",
       "      <td>banana</td>\n",
       "      <td>0.076110</td>\n",
       "      <td>False</td>\n",
       "      <td>8853</td>\n",
       "      <td>39467</td>\n",
       "    </tr>\n",
       "    <tr>\n",
       "      <th>2</th>\n",
       "      <td>892420643555336193</td>\n",
       "      <td>2017-08-01 16:23:56 +0000</td>\n",
       "      <td>13</td>\n",
       "      <td>10</td>\n",
       "      <td>Phineas</td>\n",
       "      <td>NaN</td>\n",
       "      <td>https://pbs.twimg.com/media/DGKD1-bXoAAIAUK.jpg</td>\n",
       "      <td>1</td>\n",
       "      <td>orange</td>\n",
       "      <td>0.097049</td>\n",
       "      <td>False</td>\n",
       "      <td>bagel</td>\n",
       "      <td>0.085851</td>\n",
       "      <td>False</td>\n",
       "      <td>banana</td>\n",
       "      <td>0.076110</td>\n",
       "      <td>False</td>\n",
       "      <td>8853</td>\n",
       "      <td>39467</td>\n",
       "    </tr>\n",
       "    <tr>\n",
       "      <th>3</th>\n",
       "      <td>892420643555336193</td>\n",
       "      <td>2017-08-01 16:23:56 +0000</td>\n",
       "      <td>13</td>\n",
       "      <td>10</td>\n",
       "      <td>Phineas</td>\n",
       "      <td>NaN</td>\n",
       "      <td>https://pbs.twimg.com/media/DGKD1-bXoAAIAUK.jpg</td>\n",
       "      <td>1</td>\n",
       "      <td>orange</td>\n",
       "      <td>0.097049</td>\n",
       "      <td>False</td>\n",
       "      <td>bagel</td>\n",
       "      <td>0.085851</td>\n",
       "      <td>False</td>\n",
       "      <td>banana</td>\n",
       "      <td>0.076110</td>\n",
       "      <td>False</td>\n",
       "      <td>8853</td>\n",
       "      <td>39467</td>\n",
       "    </tr>\n",
       "    <tr>\n",
       "      <th>4</th>\n",
       "      <td>892177421306343426</td>\n",
       "      <td>2017-08-01 00:17:27 +0000</td>\n",
       "      <td>13</td>\n",
       "      <td>10</td>\n",
       "      <td>Tilly</td>\n",
       "      <td>NaN</td>\n",
       "      <td>https://pbs.twimg.com/media/DGGmoV4XsAAUL6n.jpg</td>\n",
       "      <td>1</td>\n",
       "      <td>Chihuahua</td>\n",
       "      <td>0.323581</td>\n",
       "      <td>True</td>\n",
       "      <td>Pekinese</td>\n",
       "      <td>0.090647</td>\n",
       "      <td>True</td>\n",
       "      <td>papillon</td>\n",
       "      <td>0.068957</td>\n",
       "      <td>True</td>\n",
       "      <td>6514</td>\n",
       "      <td>33819</td>\n",
       "    </tr>\n",
       "  </tbody>\n",
       "</table>\n",
       "</div>"
      ],
      "text/plain": [
       "             tweet_id                  timestamp  rating_numerator  \\\n",
       "0  892420643555336193  2017-08-01 16:23:56 +0000                13   \n",
       "1  892420643555336193  2017-08-01 16:23:56 +0000                13   \n",
       "2  892420643555336193  2017-08-01 16:23:56 +0000                13   \n",
       "3  892420643555336193  2017-08-01 16:23:56 +0000                13   \n",
       "4  892177421306343426  2017-08-01 00:17:27 +0000                13   \n",
       "\n",
       "   rating_denominator     name dog_stage  \\\n",
       "0                  10  Phineas       NaN   \n",
       "1                  10  Phineas       NaN   \n",
       "2                  10  Phineas       NaN   \n",
       "3                  10  Phineas       NaN   \n",
       "4                  10    Tilly       NaN   \n",
       "\n",
       "                                           jpg_url  img_num         p1  \\\n",
       "0  https://pbs.twimg.com/media/DGKD1-bXoAAIAUK.jpg        1     orange   \n",
       "1  https://pbs.twimg.com/media/DGKD1-bXoAAIAUK.jpg        1     orange   \n",
       "2  https://pbs.twimg.com/media/DGKD1-bXoAAIAUK.jpg        1     orange   \n",
       "3  https://pbs.twimg.com/media/DGKD1-bXoAAIAUK.jpg        1     orange   \n",
       "4  https://pbs.twimg.com/media/DGGmoV4XsAAUL6n.jpg        1  Chihuahua   \n",
       "\n",
       "    p1_conf  p1_dog        p2   p2_conf  p2_dog        p3   p3_conf  p3_dog  \\\n",
       "0  0.097049   False     bagel  0.085851   False    banana  0.076110   False   \n",
       "1  0.097049   False     bagel  0.085851   False    banana  0.076110   False   \n",
       "2  0.097049   False     bagel  0.085851   False    banana  0.076110   False   \n",
       "3  0.097049   False     bagel  0.085851   False    banana  0.076110   False   \n",
       "4  0.323581    True  Pekinese  0.090647    True  papillon  0.068957    True   \n",
       "\n",
       "   retweet_count  favorite_count  \n",
       "0           8853           39467  \n",
       "1           8853           39467  \n",
       "2           8853           39467  \n",
       "3           8853           39467  \n",
       "4           6514           33819  "
      ]
     },
     "execution_count": 55,
     "metadata": {},
     "output_type": "execute_result"
    }
   ],
   "source": [
    "# Let's see the changes\n",
    "df.head()"
   ]
  },
  {
   "cell_type": "markdown",
   "metadata": {},
   "source": [
    "### Issue #7: Duplicate variables present in jpg_url"
   ]
  },
  {
   "cell_type": "markdown",
   "metadata": {
    "collapsed": true,
    "extensions": {
     "jupyter_dashboards": {
      "version": 1,
      "views": {
       "grid_default": {
        "hidden": true
       },
       "report_default": {
        "hidden": true
       }
      }
     }
    }
   },
   "source": [
    "#### Define\n",
    "Select duplicates in `jpg_url` and drop them using the _drop_duplicates function_"
   ]
  },
  {
   "cell_type": "markdown",
   "metadata": {},
   "source": [
    "#### Code"
   ]
  },
  {
   "cell_type": "code",
   "execution_count": 56,
   "metadata": {
    "scrolled": true
   },
   "outputs": [],
   "source": [
    "# Dropping duplicaate values in jpg_url column\n",
    "df.drop_duplicates(subset=[\"jpg_url\"], inplace=True)"
   ]
  },
  {
   "cell_type": "markdown",
   "metadata": {},
   "source": [
    "#### Test"
   ]
  },
  {
   "cell_type": "code",
   "execution_count": 57,
   "metadata": {
    "scrolled": true
   },
   "outputs": [
    {
     "data": {
      "text/plain": [
       "0"
      ]
     },
     "execution_count": 57,
     "metadata": {},
     "output_type": "execute_result"
    }
   ],
   "source": [
    "# Checking to see if there are any duplicates\n",
    "df.jpg_url.duplicated().sum()"
   ]
  },
  {
   "cell_type": "code",
   "execution_count": 58,
   "metadata": {},
   "outputs": [
    {
     "name": "stdout",
     "output_type": "stream",
     "text": [
      "<class 'pandas.core.frame.DataFrame'>\n",
      "Int64Index: 1994 entries, 0 to 7972\n",
      "Data columns (total 19 columns):\n",
      " #   Column              Non-Null Count  Dtype  \n",
      "---  ------              --------------  -----  \n",
      " 0   tweet_id            1994 non-null   int64  \n",
      " 1   timestamp           1994 non-null   object \n",
      " 2   rating_numerator    1994 non-null   int64  \n",
      " 3   rating_denominator  1994 non-null   int64  \n",
      " 4   name                1994 non-null   object \n",
      " 5   dog_stage           74 non-null     object \n",
      " 6   jpg_url             1994 non-null   object \n",
      " 7   img_num             1994 non-null   int64  \n",
      " 8   p1                  1994 non-null   object \n",
      " 9   p1_conf             1994 non-null   float64\n",
      " 10  p1_dog              1994 non-null   bool   \n",
      " 11  p2                  1994 non-null   object \n",
      " 12  p2_conf             1994 non-null   float64\n",
      " 13  p2_dog              1994 non-null   bool   \n",
      " 14  p3                  1994 non-null   object \n",
      " 15  p3_conf             1994 non-null   float64\n",
      " 16  p3_dog              1994 non-null   bool   \n",
      " 17  retweet_count       1994 non-null   int64  \n",
      " 18  favorite_count      1994 non-null   int64  \n",
      "dtypes: bool(3), float64(3), int64(6), object(7)\n",
      "memory usage: 270.7+ KB\n"
     ]
    }
   ],
   "source": [
    "df.info()"
   ]
  },
  {
   "cell_type": "markdown",
   "metadata": {},
   "source": [
    "### Issue #8: Incorrect data type for _timestamp_"
   ]
  },
  {
   "cell_type": "markdown",
   "metadata": {
    "collapsed": true,
    "extensions": {
     "jupyter_dashboards": {
      "version": 1,
      "views": {
       "grid_default": {
        "hidden": true
       },
       "report_default": {
        "hidden": true
       }
      }
     }
    }
   },
   "source": [
    "#### Define\n",
    "Convert _timestamp_ to `datetime` and create columns _day, month and  year_ then drop _timestamp_"
   ]
  },
  {
   "cell_type": "markdown",
   "metadata": {},
   "source": [
    "#### Code"
   ]
  },
  {
   "cell_type": "code",
   "execution_count": 59,
   "metadata": {},
   "outputs": [],
   "source": [
    "# Converting timestamp to datetime and dropping the timestamp column\n",
    "df.timestamp = pd.to_datetime(df.timestamp)\n",
    "df[\"year\"] = df.timestamp.dt.year\n",
    "df[\"month\"] = df.timestamp.dt.month\n",
    "df[\"weekday\"] = df.timestamp.dt.day_name()\n",
    "df.drop(columns=\"timestamp\", axis=1, inplace=True)"
   ]
  },
  {
   "cell_type": "markdown",
   "metadata": {},
   "source": [
    "#### Test"
   ]
  },
  {
   "cell_type": "code",
   "execution_count": 60,
   "metadata": {
    "scrolled": true
   },
   "outputs": [
    {
     "data": {
      "text/html": [
       "<div>\n",
       "<style scoped>\n",
       "    .dataframe tbody tr th:only-of-type {\n",
       "        vertical-align: middle;\n",
       "    }\n",
       "\n",
       "    .dataframe tbody tr th {\n",
       "        vertical-align: top;\n",
       "    }\n",
       "\n",
       "    .dataframe thead th {\n",
       "        text-align: right;\n",
       "    }\n",
       "</style>\n",
       "<table border=\"1\" class=\"dataframe\">\n",
       "  <thead>\n",
       "    <tr style=\"text-align: right;\">\n",
       "      <th></th>\n",
       "      <th>tweet_id</th>\n",
       "      <th>rating_numerator</th>\n",
       "      <th>rating_denominator</th>\n",
       "      <th>name</th>\n",
       "      <th>dog_stage</th>\n",
       "      <th>jpg_url</th>\n",
       "      <th>img_num</th>\n",
       "      <th>p1</th>\n",
       "      <th>p1_conf</th>\n",
       "      <th>p1_dog</th>\n",
       "      <th>...</th>\n",
       "      <th>p2_conf</th>\n",
       "      <th>p2_dog</th>\n",
       "      <th>p3</th>\n",
       "      <th>p3_conf</th>\n",
       "      <th>p3_dog</th>\n",
       "      <th>retweet_count</th>\n",
       "      <th>favorite_count</th>\n",
       "      <th>year</th>\n",
       "      <th>month</th>\n",
       "      <th>weekday</th>\n",
       "    </tr>\n",
       "  </thead>\n",
       "  <tbody>\n",
       "    <tr>\n",
       "      <th>0</th>\n",
       "      <td>892420643555336193</td>\n",
       "      <td>13</td>\n",
       "      <td>10</td>\n",
       "      <td>Phineas</td>\n",
       "      <td>NaN</td>\n",
       "      <td>https://pbs.twimg.com/media/DGKD1-bXoAAIAUK.jpg</td>\n",
       "      <td>1</td>\n",
       "      <td>orange</td>\n",
       "      <td>0.097049</td>\n",
       "      <td>False</td>\n",
       "      <td>...</td>\n",
       "      <td>0.085851</td>\n",
       "      <td>False</td>\n",
       "      <td>banana</td>\n",
       "      <td>0.076110</td>\n",
       "      <td>False</td>\n",
       "      <td>8853</td>\n",
       "      <td>39467</td>\n",
       "      <td>2017</td>\n",
       "      <td>8</td>\n",
       "      <td>Tuesday</td>\n",
       "    </tr>\n",
       "    <tr>\n",
       "      <th>4</th>\n",
       "      <td>892177421306343426</td>\n",
       "      <td>13</td>\n",
       "      <td>10</td>\n",
       "      <td>Tilly</td>\n",
       "      <td>NaN</td>\n",
       "      <td>https://pbs.twimg.com/media/DGGmoV4XsAAUL6n.jpg</td>\n",
       "      <td>1</td>\n",
       "      <td>Chihuahua</td>\n",
       "      <td>0.323581</td>\n",
       "      <td>True</td>\n",
       "      <td>...</td>\n",
       "      <td>0.090647</td>\n",
       "      <td>True</td>\n",
       "      <td>papillon</td>\n",
       "      <td>0.068957</td>\n",
       "      <td>True</td>\n",
       "      <td>6514</td>\n",
       "      <td>33819</td>\n",
       "      <td>2017</td>\n",
       "      <td>8</td>\n",
       "      <td>Tuesday</td>\n",
       "    </tr>\n",
       "    <tr>\n",
       "      <th>8</th>\n",
       "      <td>891815181378084864</td>\n",
       "      <td>12</td>\n",
       "      <td>10</td>\n",
       "      <td>Archie</td>\n",
       "      <td>NaN</td>\n",
       "      <td>https://pbs.twimg.com/media/DGBdLU1WsAANxJ9.jpg</td>\n",
       "      <td>1</td>\n",
       "      <td>Chihuahua</td>\n",
       "      <td>0.716012</td>\n",
       "      <td>True</td>\n",
       "      <td>...</td>\n",
       "      <td>0.078253</td>\n",
       "      <td>True</td>\n",
       "      <td>kelpie</td>\n",
       "      <td>0.031379</td>\n",
       "      <td>True</td>\n",
       "      <td>4328</td>\n",
       "      <td>25461</td>\n",
       "      <td>2017</td>\n",
       "      <td>7</td>\n",
       "      <td>Monday</td>\n",
       "    </tr>\n",
       "    <tr>\n",
       "      <th>12</th>\n",
       "      <td>891689557279858688</td>\n",
       "      <td>13</td>\n",
       "      <td>10</td>\n",
       "      <td>Darla</td>\n",
       "      <td>NaN</td>\n",
       "      <td>https://pbs.twimg.com/media/DF_q7IAWsAEuuN8.jpg</td>\n",
       "      <td>1</td>\n",
       "      <td>paper_towel</td>\n",
       "      <td>0.170278</td>\n",
       "      <td>False</td>\n",
       "      <td>...</td>\n",
       "      <td>0.168086</td>\n",
       "      <td>True</td>\n",
       "      <td>spatula</td>\n",
       "      <td>0.040836</td>\n",
       "      <td>False</td>\n",
       "      <td>8964</td>\n",
       "      <td>42908</td>\n",
       "      <td>2017</td>\n",
       "      <td>7</td>\n",
       "      <td>Sunday</td>\n",
       "    </tr>\n",
       "    <tr>\n",
       "      <th>16</th>\n",
       "      <td>891327558926688256</td>\n",
       "      <td>12</td>\n",
       "      <td>10</td>\n",
       "      <td>Franklin</td>\n",
       "      <td>NaN</td>\n",
       "      <td>https://pbs.twimg.com/media/DF6hr6BUMAAzZgT.jpg</td>\n",
       "      <td>2</td>\n",
       "      <td>basset</td>\n",
       "      <td>0.555712</td>\n",
       "      <td>True</td>\n",
       "      <td>...</td>\n",
       "      <td>0.225770</td>\n",
       "      <td>True</td>\n",
       "      <td>German_short-haired_pointer</td>\n",
       "      <td>0.175219</td>\n",
       "      <td>True</td>\n",
       "      <td>9774</td>\n",
       "      <td>41048</td>\n",
       "      <td>2017</td>\n",
       "      <td>7</td>\n",
       "      <td>Saturday</td>\n",
       "    </tr>\n",
       "  </tbody>\n",
       "</table>\n",
       "<p>5 rows × 21 columns</p>\n",
       "</div>"
      ],
      "text/plain": [
       "              tweet_id  rating_numerator  rating_denominator      name  \\\n",
       "0   892420643555336193                13                  10   Phineas   \n",
       "4   892177421306343426                13                  10     Tilly   \n",
       "8   891815181378084864                12                  10    Archie   \n",
       "12  891689557279858688                13                  10     Darla   \n",
       "16  891327558926688256                12                  10  Franklin   \n",
       "\n",
       "   dog_stage                                          jpg_url  img_num  \\\n",
       "0        NaN  https://pbs.twimg.com/media/DGKD1-bXoAAIAUK.jpg        1   \n",
       "4        NaN  https://pbs.twimg.com/media/DGGmoV4XsAAUL6n.jpg        1   \n",
       "8        NaN  https://pbs.twimg.com/media/DGBdLU1WsAANxJ9.jpg        1   \n",
       "12       NaN  https://pbs.twimg.com/media/DF_q7IAWsAEuuN8.jpg        1   \n",
       "16       NaN  https://pbs.twimg.com/media/DF6hr6BUMAAzZgT.jpg        2   \n",
       "\n",
       "             p1   p1_conf  p1_dog  ...   p2_conf  p2_dog  \\\n",
       "0        orange  0.097049   False  ...  0.085851   False   \n",
       "4     Chihuahua  0.323581    True  ...  0.090647    True   \n",
       "8     Chihuahua  0.716012    True  ...  0.078253    True   \n",
       "12  paper_towel  0.170278   False  ...  0.168086    True   \n",
       "16       basset  0.555712    True  ...  0.225770    True   \n",
       "\n",
       "                             p3   p3_conf  p3_dog  retweet_count  \\\n",
       "0                        banana  0.076110   False           8853   \n",
       "4                      papillon  0.068957    True           6514   \n",
       "8                        kelpie  0.031379    True           4328   \n",
       "12                      spatula  0.040836   False           8964   \n",
       "16  German_short-haired_pointer  0.175219    True           9774   \n",
       "\n",
       "    favorite_count  year  month   weekday  \n",
       "0            39467  2017      8   Tuesday  \n",
       "4            33819  2017      8   Tuesday  \n",
       "8            25461  2017      7    Monday  \n",
       "12           42908  2017      7    Sunday  \n",
       "16           41048  2017      7  Saturday  \n",
       "\n",
       "[5 rows x 21 columns]"
      ]
     },
     "execution_count": 60,
     "metadata": {},
     "output_type": "execute_result"
    }
   ],
   "source": [
    "# Let's take a look at the new columns created\n",
    "df.head()"
   ]
  },
  {
   "cell_type": "markdown",
   "metadata": {},
   "source": [
    "### Issue #9:  23 rows with denominator != 10"
   ]
  },
  {
   "cell_type": "markdown",
   "metadata": {
    "collapsed": true,
    "extensions": {
     "jupyter_dashboards": {
      "version": 1,
      "views": {
       "grid_default": {
        "hidden": true
       },
       "report_default": {
        "hidden": true
       }
      }
     }
    }
   },
   "source": [
    "#### Define\n",
    "Drop rows with denominator rating greater or less than 10 then drop the column"
   ]
  },
  {
   "cell_type": "markdown",
   "metadata": {},
   "source": [
    "#### Code"
   ]
  },
  {
   "cell_type": "code",
   "execution_count": 61,
   "metadata": {},
   "outputs": [],
   "source": [
    "# Selecting rows where rating_denominator isn't equal to 10 then dropping the column\n",
    "df = df.loc[df[\"rating_denominator\"] == 10]\n",
    "df.drop(columns=\"rating_denominator\", axis=1, inplace=True)"
   ]
  },
  {
   "cell_type": "markdown",
   "metadata": {},
   "source": [
    "#### Test"
   ]
  },
  {
   "cell_type": "code",
   "execution_count": 62,
   "metadata": {},
   "outputs": [
    {
     "name": "stdout",
     "output_type": "stream",
     "text": [
      "<class 'pandas.core.frame.DataFrame'>\n",
      "Int64Index: 1976 entries, 0 to 7972\n",
      "Data columns (total 20 columns):\n",
      " #   Column            Non-Null Count  Dtype  \n",
      "---  ------            --------------  -----  \n",
      " 0   tweet_id          1976 non-null   int64  \n",
      " 1   rating_numerator  1976 non-null   int64  \n",
      " 2   name              1976 non-null   object \n",
      " 3   dog_stage         74 non-null     object \n",
      " 4   jpg_url           1976 non-null   object \n",
      " 5   img_num           1976 non-null   int64  \n",
      " 6   p1                1976 non-null   object \n",
      " 7   p1_conf           1976 non-null   float64\n",
      " 8   p1_dog            1976 non-null   bool   \n",
      " 9   p2                1976 non-null   object \n",
      " 10  p2_conf           1976 non-null   float64\n",
      " 11  p2_dog            1976 non-null   bool   \n",
      " 12  p3                1976 non-null   object \n",
      " 13  p3_conf           1976 non-null   float64\n",
      " 14  p3_dog            1976 non-null   bool   \n",
      " 15  retweet_count     1976 non-null   int64  \n",
      " 16  favorite_count    1976 non-null   int64  \n",
      " 17  year              1976 non-null   int64  \n",
      " 18  month             1976 non-null   int64  \n",
      " 19  weekday           1976 non-null   object \n",
      "dtypes: bool(3), float64(3), int64(7), object(7)\n",
      "memory usage: 283.7+ KB\n"
     ]
    }
   ],
   "source": [
    "df.info()"
   ]
  },
  {
   "cell_type": "markdown",
   "metadata": {},
   "source": [
    "### Issue #10:  Inconsistent dog name format in p1, p2, p3 columns"
   ]
  },
  {
   "cell_type": "markdown",
   "metadata": {
    "collapsed": true,
    "extensions": {
     "jupyter_dashboards": {
      "version": 1,
      "views": {
       "grid_default": {
        "hidden": true
       },
       "report_default": {
        "hidden": true
       }
      }
     }
    }
   },
   "source": [
    "#### Define\n",
    "Convert these names to lower case format"
   ]
  },
  {
   "cell_type": "markdown",
   "metadata": {},
   "source": [
    "#### Code"
   ]
  },
  {
   "cell_type": "code",
   "execution_count": 63,
   "metadata": {},
   "outputs": [],
   "source": [
    "# Looping through p1, p2, p3 columns to convert values to lower case\n",
    "cols = [\"p1\", \"p2\", \"p3\"]\n",
    "for val in cols:\n",
    "       df[val] = df[val].str.lower()"
   ]
  },
  {
   "cell_type": "markdown",
   "metadata": {},
   "source": [
    "#### Test"
   ]
  },
  {
   "cell_type": "code",
   "execution_count": 64,
   "metadata": {},
   "outputs": [
    {
     "name": "stdout",
     "output_type": "stream",
     "text": [
      "p1 column\n",
      " golden_retriever      135\n",
      "labrador_retriever     92\n",
      "pembroke               88\n",
      "chihuahua              79\n",
      "pug                    54\n",
      "                     ... \n",
      "hammer                  1\n",
      "nail                    1\n",
      "timber_wolf             1\n",
      "espresso                1\n",
      "desktop_computer        1\n",
      "Name: p1, Length: 374, dtype: int64\n",
      "\n",
      "p2 column\n",
      " labrador_retriever          96\n",
      "golden_retriever            80\n",
      "cardigan                    73\n",
      "chihuahua                   41\n",
      "chesapeake_bay_retriever    40\n",
      "                            ..\n",
      "minibus                      1\n",
      "screw                        1\n",
      "coffee_mug                   1\n",
      "sombrero                     1\n",
      "mud_turtle                   1\n",
      "Name: p2, Length: 398, dtype: int64\n",
      "\n",
      "p3 column\n",
      " labrador_retriever    74\n",
      "chihuahua             57\n",
      "golden_retriever      45\n",
      "eskimo_dog            35\n",
      "kelpie                33\n",
      "                      ..\n",
      "passenger_car          1\n",
      "bannister              1\n",
      "rotisserie             1\n",
      "king_penguin           1\n",
      "partridge              1\n",
      "Name: p3, Length: 404, dtype: int64\n"
     ]
    }
   ],
   "source": [
    "# Checking through the columns to see if changes are made\n",
    "print(\"p1 column\\n\", df.p1.value_counts())\n",
    "print(\"\\np2 column\\n\",  df.p2.value_counts())\n",
    "print(\"\\np3 column\\n\",  df.p3.value_counts())"
   ]
  },
  {
   "cell_type": "markdown",
   "metadata": {},
   "source": [
    "\n",
    "### Issue #11:  Non-descriptive column names (p1, p2, p3, p1_conf, p2_conf, p3_conf)"
   ]
  },
  {
   "cell_type": "markdown",
   "metadata": {
    "collapsed": true,
    "extensions": {
     "jupyter_dashboards": {
      "version": 1,
      "views": {
       "grid_default": {
        "hidden": true
       },
       "report_default": {
        "hidden": true
       }
      }
     }
    }
   },
   "source": [
    "#### Define\n",
    "Use the rename function to give a more descriptive name to the `p1, p2, p3, p1_conf, p2_conf, p3_conf, p1_dog, p2_dog, p3_dog` columns"
   ]
  },
  {
   "cell_type": "markdown",
   "metadata": {},
   "source": [
    "#### Code"
   ]
  },
  {
   "cell_type": "code",
   "execution_count": 65,
   "metadata": {},
   "outputs": [],
   "source": [
    "# Changing column names with rename function\n",
    "df.rename(columns={\"p1\":\"first_prediction\", \"p1_conf\": \"first_confidence\", \"p1_dog\": \"first_dog\",\n",
    "                    \"p2\": \"second_prediction\", \"p2_conf\": \"second_confidence\", \"p2_dog\": \"second_dog\",\n",
    "                    \"p3\": \"third_prediction\", \"p3_conf\": \"third_confidence\", \"p3_dog\": \"third_dog\"}, inplace=True)"
   ]
  },
  {
   "cell_type": "markdown",
   "metadata": {},
   "source": [
    "#### Test"
   ]
  },
  {
   "cell_type": "code",
   "execution_count": 66,
   "metadata": {
    "scrolled": true
   },
   "outputs": [
    {
     "name": "stdout",
     "output_type": "stream",
     "text": [
      "<class 'pandas.core.frame.DataFrame'>\n",
      "Int64Index: 1976 entries, 0 to 7972\n",
      "Data columns (total 20 columns):\n",
      " #   Column             Non-Null Count  Dtype  \n",
      "---  ------             --------------  -----  \n",
      " 0   tweet_id           1976 non-null   int64  \n",
      " 1   rating_numerator   1976 non-null   int64  \n",
      " 2   name               1976 non-null   object \n",
      " 3   dog_stage          74 non-null     object \n",
      " 4   jpg_url            1976 non-null   object \n",
      " 5   img_num            1976 non-null   int64  \n",
      " 6   first_prediction   1976 non-null   object \n",
      " 7   first_confidence   1976 non-null   float64\n",
      " 8   first_dog          1976 non-null   bool   \n",
      " 9   second_prediction  1976 non-null   object \n",
      " 10  second_confidence  1976 non-null   float64\n",
      " 11  second_dog         1976 non-null   bool   \n",
      " 12  third_prediction   1976 non-null   object \n",
      " 13  third_confidence   1976 non-null   float64\n",
      " 14  third_dog          1976 non-null   bool   \n",
      " 15  retweet_count      1976 non-null   int64  \n",
      " 16  favorite_count     1976 non-null   int64  \n",
      " 17  year               1976 non-null   int64  \n",
      " 18  month              1976 non-null   int64  \n",
      " 19  weekday            1976 non-null   object \n",
      "dtypes: bool(3), float64(3), int64(7), object(7)\n",
      "memory usage: 283.7+ KB\n"
     ]
    }
   ],
   "source": [
    "df.info()"
   ]
  },
  {
   "cell_type": "markdown",
   "metadata": {},
   "source": [
    "### Issue #12:  A number of tweets that do not refer to dog ratings"
   ]
  },
  {
   "cell_type": "markdown",
   "metadata": {
    "collapsed": true,
    "extensions": {
     "jupyter_dashboards": {
      "version": 1,
      "views": {
       "grid_default": {
        "hidden": true
       },
       "report_default": {
        "hidden": true
       }
      }
     }
    }
   },
   "source": [
    "#### Define\n",
    "Select ratings that are true for dog_type across all 3 confidence columns"
   ]
  },
  {
   "cell_type": "markdown",
   "metadata": {},
   "source": [
    "#### Code"
   ]
  },
  {
   "cell_type": "code",
   "execution_count": 67,
   "metadata": {},
   "outputs": [],
   "source": [
    "# Filtering through to select ratings that are true for dog_type across all 3 confidence columns\n",
    "df = df.loc[(df[\"first_dog\"] == True) & (df[\"second_dog\"] == True) & (df[\"third_dog\"] == True)] "
   ]
  },
  {
   "cell_type": "markdown",
   "metadata": {},
   "source": [
    "#### Test"
   ]
  },
  {
   "cell_type": "code",
   "execution_count": 68,
   "metadata": {},
   "outputs": [
    {
     "data": {
      "text/plain": [
       "['chihuahua',\n",
       " 'basset',\n",
       " 'pomeranian',\n",
       " 'irish_terrier',\n",
       " 'pembroke',\n",
       " 'samoyed',\n",
       " 'french_bulldog',\n",
       " 'golden_retriever',\n",
       " 'whippet',\n",
       " 'siberian_husky',\n",
       " 'kuvasz',\n",
       " 'blenheim_spaniel',\n",
       " 'pug',\n",
       " 'malamute',\n",
       " 'italian_greyhound',\n",
       " 'chow',\n",
       " 'german_shepherd',\n",
       " 'doberman',\n",
       " 'labrador_retriever',\n",
       " 'saluki',\n",
       " 'miniature_pinscher',\n",
       " 'english_springer',\n",
       " 'vizsla',\n",
       " 'chesapeake_bay_retriever',\n",
       " 'bloodhound',\n",
       " 'bernese_mountain_dog',\n",
       " 'west_highland_white_terrier',\n",
       " 'cocker_spaniel',\n",
       " 'flat-coated_retriever',\n",
       " 'cardigan',\n",
       " 'newfoundland',\n",
       " 'shetland_sheepdog',\n",
       " 'greater_swiss_mountain_dog',\n",
       " 'border_collie',\n",
       " 'eskimo_dog',\n",
       " 'bull_mastiff',\n",
       " 'staffordshire_bullterrier',\n",
       " 'australian_terrier',\n",
       " 'bedlington_terrier',\n",
       " 'old_english_sheepdog',\n",
       " 'black-and-tan_coonhound',\n",
       " 'great_dane',\n",
       " 'yorkshire_terrier',\n",
       " 'airedale',\n",
       " 'giant_schnauzer',\n",
       " 'dandie_dinmont',\n",
       " 'irish_water_spaniel',\n",
       " 'afghan_hound',\n",
       " 'brittany_spaniel',\n",
       " 'leonberg',\n",
       " 'border_terrier',\n",
       " 'great_pyrenees',\n",
       " 'american_staffordshire_terrier',\n",
       " 'rottweiler',\n",
       " 'rhodesian_ridgeback',\n",
       " 'boxer',\n",
       " 'kelpie',\n",
       " 'briard',\n",
       " 'toy_poodle',\n",
       " 'weimaraner',\n",
       " 'collie',\n",
       " 'pekinese',\n",
       " 'english_setter',\n",
       " 'schipperke',\n",
       " 'lakeland_terrier',\n",
       " 'malinois',\n",
       " 'irish_setter',\n",
       " 'gordon_setter',\n",
       " 'standard_poodle',\n",
       " 'miniature_schnauzer',\n",
       " 'curly-coated_retriever',\n",
       " 'tibetan_mastiff',\n",
       " 'dalmatian',\n",
       " 'miniature_poodle',\n",
       " 'beagle',\n",
       " 'norwegian_elkhound',\n",
       " 'toy_terrier',\n",
       " 'norwich_terrier',\n",
       " 'norfolk_terrier',\n",
       " 'wire-haired_fox_terrier',\n",
       " 'saint_bernard',\n",
       " 'clumber',\n",
       " 'walker_hound',\n",
       " 'silky_terrier',\n",
       " 'papillon',\n",
       " 'boston_bull',\n",
       " 'basenji',\n",
       " 'keeshond',\n",
       " 'redbone',\n",
       " 'welsh_springer_spaniel',\n",
       " 'sussex_spaniel',\n",
       " 'bluetick',\n",
       " 'shih-tzu',\n",
       " 'german_short-haired_pointer',\n",
       " 'borzoi',\n",
       " 'tibetan_terrier',\n",
       " 'lhasa',\n",
       " 'maltese_dog',\n",
       " 'soft-coated_wheaten_terrier',\n",
       " 'mexican_hairless',\n",
       " 'cairn',\n",
       " 'appenzeller',\n",
       " 'groenendael',\n",
       " 'scottish_deerhound',\n",
       " 'scotch_terrier',\n",
       " 'ibizan_hound',\n",
       " 'entlebucher',\n",
       " 'japanese_spaniel',\n",
       " 'standard_schnauzer',\n",
       " 'brabancon_griffon']"
      ]
     },
     "execution_count": 68,
     "metadata": {},
     "output_type": "execute_result"
    }
   ],
   "source": [
    "# Checking first_prediction column through visual assesment to make sure ratings refer to dog types\n",
    "list(df.first_prediction.unique())"
   ]
  },
  {
   "cell_type": "code",
   "execution_count": 69,
   "metadata": {},
   "outputs": [
    {
     "data": {
      "text/plain": [
       "['pekinese',\n",
       " 'malamute',\n",
       " 'english_springer',\n",
       " 'eskimo_dog',\n",
       " 'irish_setter',\n",
       " 'cardigan',\n",
       " 'pomeranian',\n",
       " 'boxer',\n",
       " 'labrador_retriever',\n",
       " 'borzoi',\n",
       " 'tibetan_mastiff',\n",
       " 'pug',\n",
       " 'redbone',\n",
       " 'rhodesian_ridgeback',\n",
       " 'great_pyrenees',\n",
       " 'chihuahua',\n",
       " 'shih-tzu',\n",
       " 'siberian_husky',\n",
       " 'american_staffordshire_terrier',\n",
       " 'norwich_terrier',\n",
       " 'french_bulldog',\n",
       " 'malinois',\n",
       " 'miniature_pinscher',\n",
       " 'chesapeake_bay_retriever',\n",
       " 'afghan_hound',\n",
       " 'beagle',\n",
       " 'boston_bull',\n",
       " 'whippet',\n",
       " 'collie',\n",
       " 'italian_greyhound',\n",
       " 'irish_terrier',\n",
       " 'saint_bernard',\n",
       " 'staffordshire_bullterrier',\n",
       " 'miniature_poodle',\n",
       " 'black-and-tan_coonhound',\n",
       " 'pembroke',\n",
       " 'bloodhound',\n",
       " 'sussex_spaniel',\n",
       " 'flat-coated_retriever',\n",
       " 'golden_retriever',\n",
       " 'appenzeller',\n",
       " 'kuvasz',\n",
       " 'groenendael',\n",
       " 'toy_poodle',\n",
       " 'tibetan_terrier',\n",
       " 'doberman',\n",
       " 'otterhound',\n",
       " 'brabancon_griffon',\n",
       " 'bull_mastiff',\n",
       " 'maltese_dog',\n",
       " 'newfoundland',\n",
       " 'greater_swiss_mountain_dog',\n",
       " 'papillon',\n",
       " 'leonberg',\n",
       " 'saluki',\n",
       " 'blenheim_spaniel',\n",
       " 'cocker_spaniel',\n",
       " 'border_terrier',\n",
       " 'norwegian_elkhound',\n",
       " 'kelpie',\n",
       " 'german_short-haired_pointer',\n",
       " 'ibizan_hound',\n",
       " 'great_dane',\n",
       " 'soft-coated_wheaten_terrier',\n",
       " 'border_collie',\n",
       " 'curly-coated_retriever',\n",
       " 'norfolk_terrier',\n",
       " 'samoyed',\n",
       " 'vizsla',\n",
       " 'airedale',\n",
       " 'basenji',\n",
       " 'german_shepherd',\n",
       " 'brittany_spaniel',\n",
       " 'keeshond',\n",
       " 'chow',\n",
       " 'dandie_dinmont',\n",
       " 'english_setter',\n",
       " 'cairn',\n",
       " 'bedlington_terrier',\n",
       " 'walker_hound',\n",
       " 'lakeland_terrier',\n",
       " 'bluetick',\n",
       " 'silky_terrier',\n",
       " 'toy_terrier',\n",
       " 'entlebucher',\n",
       " 'schipperke',\n",
       " 'shetland_sheepdog',\n",
       " 'basset',\n",
       " 'yorkshire_terrier',\n",
       " 'mexican_hairless',\n",
       " 'standard_poodle',\n",
       " 'lhasa',\n",
       " 'west_highland_white_terrier',\n",
       " 'wire-haired_fox_terrier',\n",
       " 'weimaraner',\n",
       " 'english_foxhound',\n",
       " 'rottweiler',\n",
       " 'scotch_terrier',\n",
       " 'old_english_sheepdog',\n",
       " 'welsh_springer_spaniel',\n",
       " 'affenpinscher',\n",
       " 'irish_wolfhound',\n",
       " 'briard',\n",
       " 'dalmatian',\n",
       " 'australian_terrier',\n",
       " 'japanese_spaniel',\n",
       " 'miniature_schnauzer',\n",
       " 'kerry_blue_terrier',\n",
       " 'sealyham_terrier',\n",
       " 'standard_schnauzer',\n",
       " 'giant_schnauzer',\n",
       " 'komondor']"
      ]
     },
     "execution_count": 69,
     "metadata": {},
     "output_type": "execute_result"
    }
   ],
   "source": [
    "# Checking second_prediction column through visual assesment to make sure ratings refer to dog types\n",
    "list(df.second_prediction.unique())"
   ]
  },
  {
   "cell_type": "code",
   "execution_count": 70,
   "metadata": {
    "scrolled": false
   },
   "outputs": [
    {
     "data": {
      "text/plain": [
       "['papillon',\n",
       " 'kelpie',\n",
       " 'german_short-haired_pointer',\n",
       " 'pembroke',\n",
       " 'chesapeake_bay_retriever',\n",
       " 'chihuahua',\n",
       " 'chow',\n",
       " 'basenji',\n",
       " 'staffordshire_bullterrier',\n",
       " 'redbone',\n",
       " 'saluki',\n",
       " 'labrador_retriever',\n",
       " 'english_setter',\n",
       " 'malamute',\n",
       " 'bull_mastiff',\n",
       " 'weimaraner',\n",
       " 'beagle',\n",
       " 'dandie_dinmont',\n",
       " 'boston_bull',\n",
       " 'bernese_mountain_dog',\n",
       " 'kuvasz',\n",
       " 'eskimo_dog',\n",
       " 'norfolk_terrier',\n",
       " 'brabancon_griffon',\n",
       " 'norwegian_elkhound',\n",
       " 'newfoundland',\n",
       " 'flat-coated_retriever',\n",
       " 'cardigan',\n",
       " 'cocker_spaniel',\n",
       " 'golden_retriever',\n",
       " 'american_staffordshire_terrier',\n",
       " 'ibizan_hound',\n",
       " 'appenzeller',\n",
       " 'toy_terrier',\n",
       " 'tibetan_mastiff',\n",
       " 'greater_swiss_mountain_dog',\n",
       " 'vizsla',\n",
       " 'great_pyrenees',\n",
       " 'toy_poodle',\n",
       " 'standard_poodle',\n",
       " 'pomeranian',\n",
       " 'bloodhound',\n",
       " 'entlebucher',\n",
       " 'saint_bernard',\n",
       " 'dalmatian',\n",
       " 'collie',\n",
       " 'curly-coated_retriever',\n",
       " 'pug',\n",
       " 'keeshond',\n",
       " 'siberian_husky',\n",
       " 'boxer',\n",
       " 'german_shepherd',\n",
       " 'pekinese',\n",
       " 'french_bulldog',\n",
       " 'lakeland_terrier',\n",
       " 'groenendael',\n",
       " 'japanese_spaniel',\n",
       " 'bluetick',\n",
       " 'border_collie',\n",
       " 'rottweiler',\n",
       " 'english_foxhound',\n",
       " 'sussex_spaniel',\n",
       " 'shih-tzu',\n",
       " 'west_highland_white_terrier',\n",
       " 'schipperke',\n",
       " 'clumber',\n",
       " 'yorkshire_terrier',\n",
       " 'gordon_setter',\n",
       " 'italian_greyhound',\n",
       " 'leonberg',\n",
       " 'bouvier_des_flandres',\n",
       " 'soft-coated_wheaten_terrier',\n",
       " 'black-and-tan_coonhound',\n",
       " 'airedale',\n",
       " 'irish_setter',\n",
       " 'irish_terrier',\n",
       " 'norwich_terrier',\n",
       " 'maltese_dog',\n",
       " 'miniature_pinscher',\n",
       " 'shetland_sheepdog',\n",
       " 'doberman',\n",
       " 'tibetan_terrier',\n",
       " 'standard_schnauzer',\n",
       " 'irish_water_spaniel',\n",
       " 'otterhound',\n",
       " 'malinois',\n",
       " 'wire-haired_fox_terrier',\n",
       " 'border_terrier',\n",
       " 'miniature_poodle',\n",
       " 'english_springer',\n",
       " 'welsh_springer_spaniel',\n",
       " 'rhodesian_ridgeback',\n",
       " 'australian_terrier',\n",
       " 'kerry_blue_terrier',\n",
       " 'brittany_spaniel',\n",
       " 'lhasa',\n",
       " 'whippet',\n",
       " 'basset',\n",
       " 'borzoi',\n",
       " 'briard',\n",
       " 'walker_hound',\n",
       " 'scottish_deerhound',\n",
       " 'blenheim_spaniel',\n",
       " 'affenpinscher',\n",
       " 'great_dane',\n",
       " 'giant_schnauzer',\n",
       " 'cairn',\n",
       " 'irish_wolfhound',\n",
       " 'mexican_hairless',\n",
       " 'silky_terrier',\n",
       " 'old_english_sheepdog',\n",
       " 'samoyed',\n",
       " 'afghan_hound',\n",
       " 'miniature_schnauzer',\n",
       " 'komondor',\n",
       " 'sealyham_terrier']"
      ]
     },
     "execution_count": 70,
     "metadata": {},
     "output_type": "execute_result"
    }
   ],
   "source": [
    "# Checking third_prediction column through visual assesment to make sure ratings refer to dog types\n",
    "list(df.third_prediction.unique())"
   ]
  },
  {
   "cell_type": "markdown",
   "metadata": {},
   "source": [
    "### Issue #13:  Dog names like \"None\", \"a\""
   ]
  },
  {
   "cell_type": "markdown",
   "metadata": {
    "collapsed": true,
    "extensions": {
     "jupyter_dashboards": {
      "version": 1,
      "views": {
       "grid_default": {
        "hidden": true
       },
       "report_default": {
        "hidden": true
       }
      }
     }
    }
   },
   "source": [
    "#### Define\n",
    "Remove rows with unusual dog_names through filtering with .loc"
   ]
  },
  {
   "cell_type": "markdown",
   "metadata": {},
   "source": [
    "#### Code"
   ]
  },
  {
   "cell_type": "code",
   "execution_count": 71,
   "metadata": {},
   "outputs": [],
   "source": [
    "# Filtering rows to select dog names that are not \"none\" and \"or\"\n",
    "df = df.loc[(df[\"name\"] != \"None\") & (df[\"name\"] != \"a\")]"
   ]
  },
  {
   "cell_type": "markdown",
   "metadata": {},
   "source": [
    "#### Test"
   ]
  },
  {
   "cell_type": "code",
   "execution_count": 72,
   "metadata": {},
   "outputs": [
    {
     "data": {
      "text/plain": [
       "Cooper     9\n",
       "Charlie    8\n",
       "Oliver     7\n",
       "Sadie      6\n",
       "the        6\n",
       "          ..\n",
       "Loomis     1\n",
       "Mairi      1\n",
       "Stormy     1\n",
       "Dallas     1\n",
       "Walter     1\n",
       "Name: name, Length: 643, dtype: int64"
      ]
     },
     "execution_count": 72,
     "metadata": {},
     "output_type": "execute_result"
    }
   ],
   "source": [
    "# Let's see the changes made\n",
    "df.name.value_counts()"
   ]
  },
  {
   "cell_type": "markdown",
   "metadata": {},
   "source": [
    "## Storing Data\n",
    "Saving gathered, assessed, and cleaned master dataset to a CSV file named \"twitter_archive_master.csv\"."
   ]
  },
  {
   "cell_type": "code",
   "execution_count": 73,
   "metadata": {},
   "outputs": [],
   "source": [
    "df.to_csv(\"twitter_archive_master.csv\", index=False)"
   ]
  },
  {
   "cell_type": "markdown",
   "metadata": {},
   "source": [
    "## Analyzing and Visualizing Data\n",
    "In this section, analysis and visualization is made on the wrangled data."
   ]
  },
  {
   "cell_type": "code",
   "execution_count": 74,
   "metadata": {},
   "outputs": [],
   "source": [
    "# Reading in the cleaned dataset\n",
    "df_clean = pd.read_csv(\"twitter_archive_master.csv\")"
   ]
  },
  {
   "cell_type": "markdown",
   "metadata": {},
   "source": [
    "Let's see how the data looks"
   ]
  },
  {
   "cell_type": "code",
   "execution_count": 75,
   "metadata": {
    "scrolled": true
   },
   "outputs": [
    {
     "data": {
      "text/html": [
       "<div>\n",
       "<style scoped>\n",
       "    .dataframe tbody tr th:only-of-type {\n",
       "        vertical-align: middle;\n",
       "    }\n",
       "\n",
       "    .dataframe tbody tr th {\n",
       "        vertical-align: top;\n",
       "    }\n",
       "\n",
       "    .dataframe thead th {\n",
       "        text-align: right;\n",
       "    }\n",
       "</style>\n",
       "<table border=\"1\" class=\"dataframe\">\n",
       "  <thead>\n",
       "    <tr style=\"text-align: right;\">\n",
       "      <th></th>\n",
       "      <th>tweet_id</th>\n",
       "      <th>rating_numerator</th>\n",
       "      <th>name</th>\n",
       "      <th>dog_stage</th>\n",
       "      <th>jpg_url</th>\n",
       "      <th>img_num</th>\n",
       "      <th>first_prediction</th>\n",
       "      <th>first_confidence</th>\n",
       "      <th>first_dog</th>\n",
       "      <th>second_prediction</th>\n",
       "      <th>second_confidence</th>\n",
       "      <th>second_dog</th>\n",
       "      <th>third_prediction</th>\n",
       "      <th>third_confidence</th>\n",
       "      <th>third_dog</th>\n",
       "      <th>retweet_count</th>\n",
       "      <th>favorite_count</th>\n",
       "      <th>year</th>\n",
       "      <th>month</th>\n",
       "      <th>weekday</th>\n",
       "    </tr>\n",
       "  </thead>\n",
       "  <tbody>\n",
       "    <tr>\n",
       "      <th>0</th>\n",
       "      <td>892177421306343426</td>\n",
       "      <td>13</td>\n",
       "      <td>Tilly</td>\n",
       "      <td>NaN</td>\n",
       "      <td>https://pbs.twimg.com/media/DGGmoV4XsAAUL6n.jpg</td>\n",
       "      <td>1</td>\n",
       "      <td>chihuahua</td>\n",
       "      <td>0.323581</td>\n",
       "      <td>True</td>\n",
       "      <td>pekinese</td>\n",
       "      <td>0.090647</td>\n",
       "      <td>True</td>\n",
       "      <td>papillon</td>\n",
       "      <td>0.068957</td>\n",
       "      <td>True</td>\n",
       "      <td>6514</td>\n",
       "      <td>33819</td>\n",
       "      <td>2017</td>\n",
       "      <td>8</td>\n",
       "      <td>Tuesday</td>\n",
       "    </tr>\n",
       "    <tr>\n",
       "      <th>1</th>\n",
       "      <td>891815181378084864</td>\n",
       "      <td>12</td>\n",
       "      <td>Archie</td>\n",
       "      <td>NaN</td>\n",
       "      <td>https://pbs.twimg.com/media/DGBdLU1WsAANxJ9.jpg</td>\n",
       "      <td>1</td>\n",
       "      <td>chihuahua</td>\n",
       "      <td>0.716012</td>\n",
       "      <td>True</td>\n",
       "      <td>malamute</td>\n",
       "      <td>0.078253</td>\n",
       "      <td>True</td>\n",
       "      <td>kelpie</td>\n",
       "      <td>0.031379</td>\n",
       "      <td>True</td>\n",
       "      <td>4328</td>\n",
       "      <td>25461</td>\n",
       "      <td>2017</td>\n",
       "      <td>7</td>\n",
       "      <td>Monday</td>\n",
       "    </tr>\n",
       "    <tr>\n",
       "      <th>2</th>\n",
       "      <td>891327558926688256</td>\n",
       "      <td>12</td>\n",
       "      <td>Franklin</td>\n",
       "      <td>NaN</td>\n",
       "      <td>https://pbs.twimg.com/media/DF6hr6BUMAAzZgT.jpg</td>\n",
       "      <td>2</td>\n",
       "      <td>basset</td>\n",
       "      <td>0.555712</td>\n",
       "      <td>True</td>\n",
       "      <td>english_springer</td>\n",
       "      <td>0.225770</td>\n",
       "      <td>True</td>\n",
       "      <td>german_short-haired_pointer</td>\n",
       "      <td>0.175219</td>\n",
       "      <td>True</td>\n",
       "      <td>9774</td>\n",
       "      <td>41048</td>\n",
       "      <td>2017</td>\n",
       "      <td>7</td>\n",
       "      <td>Saturday</td>\n",
       "    </tr>\n",
       "    <tr>\n",
       "      <th>3</th>\n",
       "      <td>890609185150312448</td>\n",
       "      <td>13</td>\n",
       "      <td>Zoey</td>\n",
       "      <td>NaN</td>\n",
       "      <td>https://pbs.twimg.com/media/DFwUU__XcAEpyXI.jpg</td>\n",
       "      <td>1</td>\n",
       "      <td>irish_terrier</td>\n",
       "      <td>0.487574</td>\n",
       "      <td>True</td>\n",
       "      <td>irish_setter</td>\n",
       "      <td>0.193054</td>\n",
       "      <td>True</td>\n",
       "      <td>chesapeake_bay_retriever</td>\n",
       "      <td>0.118184</td>\n",
       "      <td>True</td>\n",
       "      <td>4429</td>\n",
       "      <td>28226</td>\n",
       "      <td>2017</td>\n",
       "      <td>7</td>\n",
       "      <td>Thursday</td>\n",
       "    </tr>\n",
       "    <tr>\n",
       "      <th>4</th>\n",
       "      <td>890240255349198849</td>\n",
       "      <td>14</td>\n",
       "      <td>Cassie</td>\n",
       "      <td>doggo</td>\n",
       "      <td>https://pbs.twimg.com/media/DFrEyVuW0AAO3t9.jpg</td>\n",
       "      <td>1</td>\n",
       "      <td>pembroke</td>\n",
       "      <td>0.511319</td>\n",
       "      <td>True</td>\n",
       "      <td>cardigan</td>\n",
       "      <td>0.451038</td>\n",
       "      <td>True</td>\n",
       "      <td>chihuahua</td>\n",
       "      <td>0.029248</td>\n",
       "      <td>True</td>\n",
       "      <td>7711</td>\n",
       "      <td>32467</td>\n",
       "      <td>2017</td>\n",
       "      <td>7</td>\n",
       "      <td>Wednesday</td>\n",
       "    </tr>\n",
       "  </tbody>\n",
       "</table>\n",
       "</div>"
      ],
      "text/plain": [
       "             tweet_id  rating_numerator      name dog_stage  \\\n",
       "0  892177421306343426                13     Tilly       NaN   \n",
       "1  891815181378084864                12    Archie       NaN   \n",
       "2  891327558926688256                12  Franklin       NaN   \n",
       "3  890609185150312448                13      Zoey       NaN   \n",
       "4  890240255349198849                14    Cassie     doggo   \n",
       "\n",
       "                                           jpg_url  img_num first_prediction  \\\n",
       "0  https://pbs.twimg.com/media/DGGmoV4XsAAUL6n.jpg        1        chihuahua   \n",
       "1  https://pbs.twimg.com/media/DGBdLU1WsAANxJ9.jpg        1        chihuahua   \n",
       "2  https://pbs.twimg.com/media/DF6hr6BUMAAzZgT.jpg        2           basset   \n",
       "3  https://pbs.twimg.com/media/DFwUU__XcAEpyXI.jpg        1    irish_terrier   \n",
       "4  https://pbs.twimg.com/media/DFrEyVuW0AAO3t9.jpg        1         pembroke   \n",
       "\n",
       "   first_confidence  first_dog second_prediction  second_confidence  \\\n",
       "0          0.323581       True          pekinese           0.090647   \n",
       "1          0.716012       True          malamute           0.078253   \n",
       "2          0.555712       True  english_springer           0.225770   \n",
       "3          0.487574       True      irish_setter           0.193054   \n",
       "4          0.511319       True          cardigan           0.451038   \n",
       "\n",
       "   second_dog             third_prediction  third_confidence  third_dog  \\\n",
       "0        True                     papillon          0.068957       True   \n",
       "1        True                       kelpie          0.031379       True   \n",
       "2        True  german_short-haired_pointer          0.175219       True   \n",
       "3        True     chesapeake_bay_retriever          0.118184       True   \n",
       "4        True                    chihuahua          0.029248       True   \n",
       "\n",
       "   retweet_count  favorite_count  year  month    weekday  \n",
       "0           6514           33819  2017      8    Tuesday  \n",
       "1           4328           25461  2017      7     Monday  \n",
       "2           9774           41048  2017      7   Saturday  \n",
       "3           4429           28226  2017      7   Thursday  \n",
       "4           7711           32467  2017      7  Wednesday  "
      ]
     },
     "execution_count": 75,
     "metadata": {},
     "output_type": "execute_result"
    }
   ],
   "source": [
    "df_clean.head()"
   ]
  },
  {
   "cell_type": "code",
   "execution_count": 76,
   "metadata": {
    "scrolled": true
   },
   "outputs": [
    {
     "name": "stdout",
     "output_type": "stream",
     "text": [
      "<class 'pandas.core.frame.DataFrame'>\n",
      "RangeIndex: 872 entries, 0 to 871\n",
      "Data columns (total 20 columns):\n",
      " #   Column             Non-Null Count  Dtype  \n",
      "---  ------             --------------  -----  \n",
      " 0   tweet_id           872 non-null    int64  \n",
      " 1   rating_numerator   872 non-null    int64  \n",
      " 2   name               872 non-null    object \n",
      " 3   dog_stage          26 non-null     object \n",
      " 4   jpg_url            872 non-null    object \n",
      " 5   img_num            872 non-null    int64  \n",
      " 6   first_prediction   872 non-null    object \n",
      " 7   first_confidence   872 non-null    float64\n",
      " 8   first_dog          872 non-null    bool   \n",
      " 9   second_prediction  872 non-null    object \n",
      " 10  second_confidence  872 non-null    float64\n",
      " 11  second_dog         872 non-null    bool   \n",
      " 12  third_prediction   872 non-null    object \n",
      " 13  third_confidence   872 non-null    float64\n",
      " 14  third_dog          872 non-null    bool   \n",
      " 15  retweet_count      872 non-null    int64  \n",
      " 16  favorite_count     872 non-null    int64  \n",
      " 17  year               872 non-null    int64  \n",
      " 18  month              872 non-null    int64  \n",
      " 19  weekday            872 non-null    object \n",
      "dtypes: bool(3), float64(3), int64(7), object(7)\n",
      "memory usage: 118.5+ KB\n"
     ]
    }
   ],
   "source": [
    "df_clean.info()"
   ]
  },
  {
   "cell_type": "code",
   "execution_count": 77,
   "metadata": {},
   "outputs": [
    {
     "data": {
      "text/plain": [
       "(872, 20)"
      ]
     },
     "execution_count": 77,
     "metadata": {},
     "output_type": "execute_result"
    }
   ],
   "source": [
    "df_clean.shape"
   ]
  },
  {
   "cell_type": "markdown",
   "metadata": {},
   "source": [
    "### #1. What are the most common dog breeds?"
   ]
  },
  {
   "cell_type": "code",
   "execution_count": 78,
   "metadata": {},
   "outputs": [
    {
     "data": {
      "text/plain": [
       "golden_retriever      79\n",
       "pembroke              57\n",
       "labrador_retriever    51\n",
       "chihuahua             38\n",
       "pug                   28\n",
       "pomeranian            20\n",
       "toy_poodle            20\n",
       "malamute              19\n",
       "chow                  19\n",
       "french_bulldog        17\n",
       "Name: first_prediction, dtype: int64"
      ]
     },
     "execution_count": 78,
     "metadata": {},
     "output_type": "execute_result"
    }
   ],
   "source": [
    "# Let's see the most common dog breeds\n",
    "top_breeds = df_clean.first_prediction.value_counts().head(10)\n",
    "top_breeds"
   ]
  },
  {
   "cell_type": "code",
   "execution_count": 79,
   "metadata": {
    "scrolled": false
   },
   "outputs": [
    {
     "data": {
      "image/png": "[encoded data removed]",
      "text/plain": [
       "<Figure size 432x288 with 1 Axes>"
      ]
     },
     "metadata": {
      "needs_background": "light"
     },
     "output_type": "display_data"
    }
   ],
   "source": [
    "# Let's plot that information in a bar chart\n",
    "top_breeds.plot(kind=\"bar\")\n",
    "plt.title(\"Top 10 Dog Breeds\")\n",
    "plt.xlabel(\"Dog Breeds\")\n",
    "plt.ylabel(\"No. of breeds\");"
   ]
  },
  {
   "cell_type": "markdown",
   "metadata": {},
   "source": [
    "**The most common dog breeds are:** _golden_retriever, pembroke, labrador_retriever, chihuahua, pug, pomeranian, toy_poodle, malamute, chow and french_bulldog_"
   ]
  },
  {
   "cell_type": "markdown",
   "metadata": {},
   "source": [
    "---\n",
    "Let's see a picture of the most common breed, golden_retriever"
   ]
  },
  {
   "cell_type": "code",
   "execution_count": 80,
   "metadata": {},
   "outputs": [
    {
     "data": {
      "text/html": [
       "<div>\n",
       "<style scoped>\n",
       "    .dataframe tbody tr th:only-of-type {\n",
       "        vertical-align: middle;\n",
       "    }\n",
       "\n",
       "    .dataframe tbody tr th {\n",
       "        vertical-align: top;\n",
       "    }\n",
       "\n",
       "    .dataframe thead th {\n",
       "        text-align: right;\n",
       "    }\n",
       "</style>\n",
       "<table border=\"1\" class=\"dataframe\">\n",
       "  <thead>\n",
       "    <tr style=\"text-align: right;\">\n",
       "      <th></th>\n",
       "      <th>tweet_id</th>\n",
       "      <th>rating_numerator</th>\n",
       "      <th>name</th>\n",
       "      <th>dog_stage</th>\n",
       "      <th>jpg_url</th>\n",
       "      <th>img_num</th>\n",
       "      <th>first_prediction</th>\n",
       "      <th>first_confidence</th>\n",
       "      <th>first_dog</th>\n",
       "      <th>second_prediction</th>\n",
       "      <th>second_confidence</th>\n",
       "      <th>second_dog</th>\n",
       "      <th>third_prediction</th>\n",
       "      <th>third_confidence</th>\n",
       "      <th>third_dog</th>\n",
       "      <th>retweet_count</th>\n",
       "      <th>favorite_count</th>\n",
       "      <th>year</th>\n",
       "      <th>month</th>\n",
       "      <th>weekday</th>\n",
       "    </tr>\n",
       "  </thead>\n",
       "  <tbody>\n",
       "    <tr>\n",
       "      <th>56</th>\n",
       "      <td>889531135344209921</td>\n",
       "      <td>13</td>\n",
       "      <td>Stuart</td>\n",
       "      <td>NaN</td>\n",
       "      <td>https://pbs.twimg.com/media/DFg_2PVW0AEHN3p.jpg</td>\n",
       "      <td>1</td>\n",
       "      <td>golden_retriever</td>\n",
       "      <td>0.953442</td>\n",
       "      <td>True</td>\n",
       "      <td>labrador_retriever</td>\n",
       "      <td>0.013834</td>\n",
       "      <td>True</td>\n",
       "      <td>redbone</td>\n",
       "      <td>0.007958</td>\n",
       "      <td>True</td>\n",
       "      <td>2321</td>\n",
       "      <td>15359</td>\n",
       "      <td>2017</td>\n",
       "      <td>7</td>\n",
       "      <td>Monday</td>\n",
       "    </tr>\n",
       "    <tr>\n",
       "      <th>64</th>\n",
       "      <td>888917238123831296</td>\n",
       "      <td>12</td>\n",
       "      <td>Jim</td>\n",
       "      <td>NaN</td>\n",
       "      <td>https://pbs.twimg.com/media/DFYRgsOUQAARGhO.jpg</td>\n",
       "      <td>1</td>\n",
       "      <td>golden_retriever</td>\n",
       "      <td>0.714719</td>\n",
       "      <td>True</td>\n",
       "      <td>tibetan_mastiff</td>\n",
       "      <td>0.120184</td>\n",
       "      <td>True</td>\n",
       "      <td>labrador_retriever</td>\n",
       "      <td>0.105506</td>\n",
       "      <td>True</td>\n",
       "      <td>4709</td>\n",
       "      <td>29611</td>\n",
       "      <td>2017</td>\n",
       "      <td>7</td>\n",
       "      <td>Sunday</td>\n",
       "    </tr>\n",
       "    <tr>\n",
       "      <th>68</th>\n",
       "      <td>888804989199671297</td>\n",
       "      <td>13</td>\n",
       "      <td>Zeke</td>\n",
       "      <td>NaN</td>\n",
       "      <td>https://pbs.twimg.com/media/DFWra-3VYAA2piG.jpg</td>\n",
       "      <td>1</td>\n",
       "      <td>golden_retriever</td>\n",
       "      <td>0.469760</td>\n",
       "      <td>True</td>\n",
       "      <td>labrador_retriever</td>\n",
       "      <td>0.184172</td>\n",
       "      <td>True</td>\n",
       "      <td>english_setter</td>\n",
       "      <td>0.073482</td>\n",
       "      <td>True</td>\n",
       "      <td>4559</td>\n",
       "      <td>26080</td>\n",
       "      <td>2017</td>\n",
       "      <td>7</td>\n",
       "      <td>Saturday</td>\n",
       "    </tr>\n",
       "  </tbody>\n",
       "</table>\n",
       "</div>"
      ],
      "text/plain": [
       "              tweet_id  rating_numerator    name dog_stage  \\\n",
       "56  889531135344209921                13  Stuart       NaN   \n",
       "64  888917238123831296                12     Jim       NaN   \n",
       "68  888804989199671297                13    Zeke       NaN   \n",
       "\n",
       "                                            jpg_url  img_num  \\\n",
       "56  https://pbs.twimg.com/media/DFg_2PVW0AEHN3p.jpg        1   \n",
       "64  https://pbs.twimg.com/media/DFYRgsOUQAARGhO.jpg        1   \n",
       "68  https://pbs.twimg.com/media/DFWra-3VYAA2piG.jpg        1   \n",
       "\n",
       "    first_prediction  first_confidence  first_dog   second_prediction  \\\n",
       "56  golden_retriever          0.953442       True  labrador_retriever   \n",
       "64  golden_retriever          0.714719       True     tibetan_mastiff   \n",
       "68  golden_retriever          0.469760       True  labrador_retriever   \n",
       "\n",
       "    second_confidence  second_dog    third_prediction  third_confidence  \\\n",
       "56           0.013834        True             redbone          0.007958   \n",
       "64           0.120184        True  labrador_retriever          0.105506   \n",
       "68           0.184172        True      english_setter          0.073482   \n",
       "\n",
       "    third_dog  retweet_count  favorite_count  year  month   weekday  \n",
       "56       True           2321           15359  2017      7    Monday  \n",
       "64       True           4709           29611  2017      7    Sunday  \n",
       "68       True           4559           26080  2017      7  Saturday  "
      ]
     },
     "execution_count": 80,
     "metadata": {},
     "output_type": "execute_result"
    }
   ],
   "source": [
    "golden_df = df.query('first_prediction == \"golden_retriever\"')\n",
    "golden_df.head(3)"
   ]
  },
  {
   "cell_type": "code",
   "execution_count": 81,
   "metadata": {},
   "outputs": [
    {
     "data": {
      "text/html": [
       "<img src=\"https://pbs.twimg.com/media/DFWra-3VYAA2piG.jpg\"/>"
      ],
      "text/plain": [
       "<IPython.core.display.Image object>"
      ]
     },
     "execution_count": 81,
     "metadata": {},
     "output_type": "execute_result"
    }
   ],
   "source": [
    "sample_golden = df.jpg_url[68]\n",
    "Image(url=sample_golden)"
   ]
  },
  {
   "cell_type": "markdown",
   "metadata": {},
   "source": [
    "### What are the most common dog names?"
   ]
  },
  {
   "cell_type": "code",
   "execution_count": 82,
   "metadata": {
    "scrolled": true
   },
   "outputs": [
    {
     "data": {
      "image/png": "[encoded data removed]",
      "text/plain": [
       "<Figure size 432x288 with 1 Axes>"
      ]
     },
     "metadata": {
      "needs_background": "light"
     },
     "output_type": "display_data"
    }
   ],
   "source": [
    "# Selecting the top 3 names and visualizing with a bar chart\n",
    "top_names = df_clean.name.value_counts()\n",
    "top_names.head(3).plot(kind=\"bar\")\n",
    "plt.title(\"Top Dog Names\")\n",
    "plt.xlabel(\"Name\")\n",
    "plt.ylabel(\"Count\");"
   ]
  },
  {
   "cell_type": "markdown",
   "metadata": {},
   "source": [
    "**The most common dog names are:**  _Cooper, Charlie, Oliver_"
   ]
  },
  {
   "cell_type": "markdown",
   "metadata": {},
   "source": [
    "### What kind of relationship exists between retweets & favourite counts"
   ]
  },
  {
   "cell_type": "code",
   "execution_count": 83,
   "metadata": {
    "scrolled": true
   },
   "outputs": [
    {
     "data": {
      "image/png": "[encoded data removed]",
      "text/plain": [
       "<Figure size 360x360 with 1 Axes>"
      ]
     },
     "metadata": {
      "needs_background": "light"
     },
     "output_type": "display_data"
    }
   ],
   "source": [
    "# Using seaborn's lmplot to see the correlation between retweets and favourite counts\n",
    "sns.lmplot(x=\"retweet_count\", y=\"favorite_count\", data=df, scatter_kws={'alpha':2/4});"
   ]
  },
  {
   "cell_type": "markdown",
   "metadata": {},
   "source": [
    "There seems to be a positive correlation between retweet and favorite counts"
   ]
  },
  {
   "cell_type": "markdown",
   "metadata": {},
   "source": [
    "### What is the trend between retweet and favourite counts over the years"
   ]
  },
  {
   "cell_type": "code",
   "execution_count": 84,
   "metadata": {},
   "outputs": [
    {
     "data": {
      "text/html": [
       "<div>\n",
       "<style scoped>\n",
       "    .dataframe tbody tr th:only-of-type {\n",
       "        vertical-align: middle;\n",
       "    }\n",
       "\n",
       "    .dataframe tbody tr th {\n",
       "        vertical-align: top;\n",
       "    }\n",
       "\n",
       "    .dataframe thead th {\n",
       "        text-align: right;\n",
       "    }\n",
       "</style>\n",
       "<table border=\"1\" class=\"dataframe\">\n",
       "  <thead>\n",
       "    <tr style=\"text-align: right;\">\n",
       "      <th></th>\n",
       "      <th>retweet_count</th>\n",
       "      <th>favorite_count</th>\n",
       "    </tr>\n",
       "    <tr>\n",
       "      <th>year</th>\n",
       "      <th></th>\n",
       "      <th></th>\n",
       "    </tr>\n",
       "  </thead>\n",
       "  <tbody>\n",
       "    <tr>\n",
       "      <th>2015</th>\n",
       "      <td>1029.825893</td>\n",
       "      <td>2536.995536</td>\n",
       "    </tr>\n",
       "    <tr>\n",
       "      <th>2016</th>\n",
       "      <td>2436.172566</td>\n",
       "      <td>7562.457965</td>\n",
       "    </tr>\n",
       "    <tr>\n",
       "      <th>2017</th>\n",
       "      <td>5818.137755</td>\n",
       "      <td>23533.193878</td>\n",
       "    </tr>\n",
       "  </tbody>\n",
       "</table>\n",
       "</div>"
      ],
      "text/plain": [
       "      retweet_count  favorite_count\n",
       "year                               \n",
       "2015    1029.825893     2536.995536\n",
       "2016    2436.172566     7562.457965\n",
       "2017    5818.137755    23533.193878"
      ]
     },
     "execution_count": 84,
     "metadata": {},
     "output_type": "execute_result"
    }
   ],
   "source": [
    "trend = df.groupby(df[\"year\"]).mean()[[\"retweet_count\", \"favorite_count\"]]\n",
    "trend"
   ]
  },
  {
   "cell_type": "code",
   "execution_count": 85,
   "metadata": {
    "scrolled": true
   },
   "outputs": [
    {
     "data": {
      "image/png": "[encoded data removed]",
      "text/plain": [
       "<Figure size 432x288 with 1 Axes>"
      ]
     },
     "metadata": {
      "needs_background": "light"
     },
     "output_type": "display_data"
    }
   ],
   "source": [
    "trend = df.groupby(df[\"year\"]).mean()[[\"retweet_count\", \"favorite_count\"]]\n",
    "trend.reset_index(inplace=True)\n",
    "trend[\"year\"] = trend[\"year\"].astype(str)\n",
    "trend.plot(x=\"year\")\n",
    "plt.title(\"Favourite Count vs. Retweet Count over the years\")\n",
    "plt.xlabel(\"Year\")\n",
    "plt.ylabel(\"Number of engagement\")\n",
    "plt.legend([\"Retweet Count\", \"Favorite Count\"]);"
   ]
  },
  {
   "cell_type": "markdown",
   "metadata": {},
   "source": [
    "The number of retweets and favourite counts increases over the years"
   ]
  },
  {
   "cell_type": "markdown",
   "metadata": {},
   "source": [
    "### Insights:\n",
    "1. **The most common dog breeds are:** _golden_retriever, pembroke, labrador_retriever, chihuahua, pug, pomeranian, toy_poodle, malamute, chow and french_bulldog_\n",
    "\n",
    "2. **The most common dog names are:**  _Cooper, Charlie, Oliver_\n",
    "\n",
    "3. There seems to be a positive between correlation retweet and favorite counts\n",
    "\n",
    "4. The number of retweets and favourite counts increases over the years"
   ]
  },
  {
   "cell_type": "code",
   "execution_count": null,
   "metadata": {},
   "outputs": [],
   "source": []
  }
 ],
 "metadata": {
  "extensions": {
   "jupyter_dashboards": {
    "activeView": "report_default",
    "version": 1,
    "views": {
     "grid_default": {
      "cellMargin": 10,
      "defaultCellHeight": 20,
      "maxColumns": 12,
      "name": "grid",
      "type": "grid"
     },
     "report_default": {
      "name": "report",
      "type": "report"
     }
    }
   }
  },
  "kernelspec": {
   "display_name": "Python 3 (ipykernel)",
   "language": "python",
   "name": "python3"
  },
  "language_info": {
   "codemirror_mode": {
    "name": "ipython",
    "version": 3
   },
   "file_extension": ".py",
   "mimetype": "text/x-python",
   "name": "python",
   "nbconvert_exporter": "python",
   "pygments_lexer": "ipython3",
   "version": "3.8.13"
  }
 },
 "nbformat": 4,
 "nbformat_minor": 2
}
