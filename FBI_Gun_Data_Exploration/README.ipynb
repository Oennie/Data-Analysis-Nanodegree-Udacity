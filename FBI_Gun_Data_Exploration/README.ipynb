{
 "cells": [
  {
   "cell_type": "markdown",
   "id": "08a8a23d",
   "metadata": {},
   "source": [
    "# FBI Gun Data Exploration"
   ]
  },
  {
   "cell_type": "markdown",
   "id": "56df7a66",
   "metadata": {},
   "source": [
    "## Dataset\n",
    "**Analysing data from the FBI's National Instant Criminal Background Check System (NICS) and US Census Data**\n",
    "\n",
    "The NICS [data](https://www.fbi.gov/file-repository/nics_firearm_checks_-_month_year_by_state_type.pdf/view) provides information on transaction submitted to NICS in order determine whether a prospective buyer is eligible to buy firearms or explosives. This is important to ensure that each customer does not have a criminal record or is eligible to make a purchase. \n",
    "\n",
    "The US Census [data](census.gov) contains several variables at the state level like population."
   ]
  },
  {
   "cell_type": "markdown",
   "id": "8f39d45c",
   "metadata": {},
   "source": [
    "## Summary of Findings\n",
    "We looked at the datasets from the *FBI's National Instant Criminal Background Check System (NICS)* and *US Census Data* then explored the following questions:\n",
    "\n",
    " + Which states have the highest transactions submitted for background checks?\n",
    " + Is there a growth in attempt to purchase firearms from 1998 till 2017?\n",
    " + Which gun type is preferred?\n",
    " + Are more/less populated areas likely to purchase more firearms?\n",
    "---\n",
    "Here are the findings from the exploration carried out:\n",
    "\n",
    "1. **Which states have the highest transactions submitted for background checks?**\n",
    "\n",
    "+ When the total number of checks submitted is looked at we see the following 10 states have the highest submission:\n",
    "        Kentucky, Texas, California, Illinois, Pennsylvania, Florida, Ohio, North Carolina, Indiana and Tennessee\n",
    "+ When we look at the total number of transactions submitted per population, we have the following top 10 states:  \n",
    "        Kentucky, Montana, West Virginia, Alaska, Wyoming, Utah, South Dakota, Alabama, Arkansas and North Dakota\n",
    "\n",
    "2. **Is there a growth in attempt to purchase firearms from 1998 till 2017?**\n",
    "+ We can see a rising trend in the number of backgorund checks submitted from 1998-2016 which may indicate a growth in attempt to purchase a firearm but a sharp decline in 2017. The decine may not necessarily mean the number is dropping but can be because of incomplete period as we only have 9 months of data for 2017\n",
    "\n",
    "3. **Which gun type is preferred?**\n",
    "+ There seem to be a higher background check submission for long guns which may suggest individuals attempt to purchase that type more over hand guns\n",
    "+ Looking at pre-pawned and redemption hand and long guns we also see higher checks submission for both pre-pawned and redemption long guns which could suggest the preference for long guns over hand guns\n",
    "\n",
    "4. **Are more/less populated areas likely to purchase more firearms?**\n",
    "+  It looks like there is a strong relationship between the number of population and total background checks submission so the higher the poulation the more transactions submitted\n",
    "***\n",
    "**Limitations**\n",
    "> - The analysis carried out uses descriptive statistics not inferetial, no hypotheses or controlled experiments was created with the data.\n",
    ">\n",
    "> - All columns with over 2000 missing values were dropped in the FBI's NCIS dataset, this could have been filled with various some values e.g mean. This did not allow us to carry out exploration on these columns and understand the relationships.\n",
    ">\n",
    "> - The FBI's NCIS dataset has incomplete period (only 9 months data) for the year 2017 which does not allow us to properly understand the trend of gun submission checks over the years.\n",
    ">\n",
    "> - Only the population for 2016 was taken from the US Census dataset, other variables could have helped explore more relationships like checks submitted by different age groups"
   ]
  },
  {
   "cell_type": "markdown",
   "id": "8df9147c",
   "metadata": {},
   "source": []
  }
 ],
 "metadata": {
  "kernelspec": {
   "display_name": "Python 3 (ipykernel)",
   "language": "python",
   "name": "python3"
  },
  "language_info": {
   "codemirror_mode": {
    "name": "ipython",
    "version": 3
   },
   "file_extension": ".py",
   "mimetype": "text/x-python",
   "name": "python",
   "nbconvert_exporter": "python",
   "pygments_lexer": "ipython3",
   "version": "3.8.13"
  }
 },
 "nbformat": 4,
 "nbformat_minor": 5
}
